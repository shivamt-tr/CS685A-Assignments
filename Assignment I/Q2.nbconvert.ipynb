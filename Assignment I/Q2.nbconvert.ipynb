{
 "cells": [
  {
   "cell_type": "markdown",
   "id": "85117c6e",
   "metadata": {},
   "source": [
    "###  Question 2. (10 marks) Construct an undirected graph of districts out of this new file. In the graph, every district is a node. A district node is connected by an edge to every adjacent district of it, and vice versa. Output the graph in an edge list format. If district i has an edge with district j, output i, j. Call this output file edge-graph.csv and the script/program to generate this edge-generator.sh."
   ]
  },
  {
   "cell_type": "markdown",
   "id": "2874988f",
   "metadata": {},
   "source": [
    "# 1. Importing the necessary libraries"
   ]
  },
  {
   "cell_type": "code",
   "execution_count": 1,
   "id": "e4da41a5",
   "metadata": {
    "execution": {
     "iopub.execute_input": "2021-09-21T16:45:39.827046Z",
     "iopub.status.busy": "2021-09-21T16:45:39.825602Z",
     "iopub.status.idle": "2021-09-21T16:45:40.004853Z",
     "shell.execute_reply": "2021-09-21T16:45:40.004172Z"
    }
   },
   "outputs": [],
   "source": [
    "import json\n",
    "import numpy as np"
   ]
  },
  {
   "cell_type": "markdown",
   "id": "cbcb6516",
   "metadata": {},
   "source": [
    "# 2. Load neighbor-districts-modified.json"
   ]
  },
  {
   "cell_type": "code",
   "execution_count": 2,
   "id": "09b391bb",
   "metadata": {
    "execution": {
     "iopub.execute_input": "2021-09-21T16:45:40.009365Z",
     "iopub.status.busy": "2021-09-21T16:45:40.008073Z",
     "iopub.status.idle": "2021-09-21T16:45:40.019770Z",
     "shell.execute_reply": "2021-09-21T16:45:40.019335Z"
    }
   },
   "outputs": [],
   "source": [
    "# Load the neighbor-districts-modified.json file as a dictionary\n",
    "with open('./output/neighbor-districts-modified.json') as json_file:\n",
    "    neighbor_districts_modified = json.load(json_file)"
   ]
  },
  {
   "cell_type": "markdown",
   "id": "97fa9abe",
   "metadata": {},
   "source": [
    "# 3. Construct the edge-graph and dump into edge-graph.csv"
   ]
  },
  {
   "cell_type": "code",
   "execution_count": 3,
   "id": "ca7dca41",
   "metadata": {
    "execution": {
     "iopub.execute_input": "2021-09-21T16:45:40.029187Z",
     "iopub.status.busy": "2021-09-21T16:45:40.028613Z",
     "iopub.status.idle": "2021-09-21T16:45:40.045748Z",
     "shell.execute_reply": "2021-09-21T16:45:40.045312Z"
    }
   },
   "outputs": [],
   "source": [
    "# create an empty list to store edges\n",
    "edge_graph = list()\n",
    "\n",
    "# dump this adjacency list (our json file is in the adjacency list format) as graph edges\n",
    "for district_key in neighbor_districts_modified:\n",
    "    for value in neighbor_districts_modified[district_key]:\n",
    "        edge_graph.append([district_key, value])\n",
    "\n",
    "np.savetxt('./output/edge-graph.csv', edge_graph, delimiter =\",\", fmt ='% s')"
   ]
  },
  {
   "cell_type": "markdown",
   "id": "0691535f",
   "metadata": {},
   "source": [
    "--------------------------------------------------------------------------------- END of Q2 ---------------------------------------------------------------------------------------------"
   ]
  }
 ],
 "metadata": {
  "kernelspec": {
   "display_name": "Python 3 (ipykernel)",
   "language": "python",
   "name": "python3"
  },
  "language_info": {
   "codemirror_mode": {
    "name": "ipython",
    "version": 3
   },
   "file_extension": ".py",
   "mimetype": "text/x-python",
   "name": "python",
   "nbconvert_exporter": "python",
   "pygments_lexer": "ipython3",
   "version": "3.8.10"
  }
 },
 "nbformat": 4,
 "nbformat_minor": 5
}
