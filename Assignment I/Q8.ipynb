{
 "cells": [
  {
   "cell_type": "markdown",
   "id": "27d960af",
   "metadata": {},
   "source": [
    "### Q8. (10 marks) For each state, district and overall, find the following ratio: total number of persons vaccinated (both 1 and 2 doses) to total population. (If a district is absent in 2011 census, drop it from analysis.) Output them in the following manner: districtid, vaccinateddose1ratio, vaccinateddose2ratio. Call this output file vaccinated-dose-ratio.csv and the script/program to generate this vaccinated-ratio-generator.sh. Sort the output by the dose-1 ratio."
   ]
  },
  {
   "cell_type": "markdown",
   "id": "2874988f",
   "metadata": {},
   "source": [
    "# 1. Importing the necessary libraries"
   ]
  },
  {
   "cell_type": "code",
   "execution_count": 1,
   "id": "e4da41a5",
   "metadata": {},
   "outputs": [],
   "source": [
    "import json\n",
    "import numpy as np\n",
    "import pandas as pd\n",
    "import datetime\n",
    "from dateutil import relativedelta  # used for handling dates and doing relative arithmetic"
   ]
  },
  {
   "cell_type": "markdown",
   "id": "72341793",
   "metadata": {},
   "source": [
    "# 2. Load the cleaned vaccination data (done in Q1)"
   ]
  },
  {
   "cell_type": "code",
   "execution_count": 2,
   "id": "ec765cdc",
   "metadata": {},
   "outputs": [
    {
     "name": "stdout",
     "output_type": "stream",
     "text": [
      "The datatypes of columns containing numeric values has been changed from string to numeric\n"
     ]
    }
   ],
   "source": [
    "# Load the cowin_vaccine_data_districtwise.csv\n",
    "cowin_vaccine_data_districtwise = pd.read_csv('./dataset/cowin_vaccine_data_districtwise_clean.csv', dtype='string')\n",
    "cowin_vaccine_data_districtwise.head()\n",
    "\n",
    "# convert number values columns to numeric\n",
    "cowin_vaccine_data_districtwise.iloc[:, 4:] = cowin_vaccine_data_districtwise.iloc[:, 4:].apply(\n",
    "                                                                    pd.to_numeric, errors='ignore')\n",
    "print('The datatypes of columns containing numeric values has been changed from string to numeric')"
   ]
  },
  {
   "cell_type": "markdown",
   "id": "463ca320",
   "metadata": {},
   "source": [
    "# 3. Load the cleaned census data (done in Q1)"
   ]
  },
  {
   "cell_type": "code",
   "execution_count": 3,
   "id": "694158b6",
   "metadata": {},
   "outputs": [
    {
     "name": "stdout",
     "output_type": "stream",
     "text": [
      "  State     Level               Name       TOT_P      TOT_M      TOT_F\n",
      "0    00     India              India  1210854977  623270258  587584719\n",
      "1    01     STATE  Jammu and Kashmir    12541302    6640662    5900640\n",
      "2    01  DISTRICT            kupwara      870354     474190     396164\n",
      "3    01  DISTRICT             budgam      753745     398041     355704\n",
      "4    01  DISTRICT                leh      133487      78971      54516\n",
      "The datatypes of columns containing numeric values has been changed from string to numeric\n"
     ]
    }
   ],
   "source": [
    "# Load the census_data_clean.csv\n",
    "census_data = pd.read_csv('./dataset/census_data_clean.csv', dtype='string')\n",
    "print(census_data.head())\n",
    "\n",
    "# Convert the columns containing numbers to numeric datatype\n",
    "census_data.iloc[:, 3:] = census_data.iloc[:, 3:].apply(pd.to_numeric, errors='ignore')\n",
    "print('The datatypes of columns containing numeric values has been changed from string to numeric')"
   ]
  },
  {
   "cell_type": "markdown",
   "id": "8ceb9450",
   "metadata": {},
   "source": [
    "# 4. Find the common districts between census data and vaccine data"
   ]
  },
  {
   "cell_type": "code",
   "execution_count": 4,
   "id": "e11b4301",
   "metadata": {},
   "outputs": [
    {
     "name": "stdout",
     "output_type": "stream",
     "text": [
      "Number of unique districts in vaccine data = 714\n",
      "Number of unique districts in district census data = 625\n",
      "There are 620 districts common between the vaccine data and district census data\n"
     ]
    }
   ],
   "source": [
    "# Find the unique district names in the vaccine data\n",
    "district_names_from_vaccine_data = cowin_vaccine_data_districtwise['District'].dropna().unique()\n",
    "district_names_from_vaccine_data = [district_names.lower() for district_names in district_names_from_vaccine_data]\n",
    "print('Number of unique districts in vaccine data =', len(district_names_from_vaccine_data))\n",
    "\n",
    "# Find the unique district_names in census_data\n",
    "district_names_from_census_data = census_data[census_data['Level'] == 'DISTRICT']['Name'].dropna().unique()\n",
    "district_names_from_census_data = [district_names.lower() for district_names in district_names_from_census_data]\n",
    "print('Number of unique districts in district census data =', len(district_names_from_census_data))\n",
    "\n",
    "# Find the common districts between the vaccine and census data\n",
    "common_districts_vaccine_and_census = set(district_names_from_census_data).intersection(district_names_from_vaccine_data)\n",
    "print('There are', len(common_districts_vaccine_and_census), 'districts common between the vaccine data and district census data')"
   ]
  },
  {
   "cell_type": "markdown",
   "id": "aaee406f",
   "metadata": {},
   "source": [
    "# 5. Prepare district-vaccinated-dose-ratio.csv"
   ]
  },
  {
   "cell_type": "code",
   "execution_count": 5,
   "id": "d72d45ff",
   "metadata": {},
   "outputs": [
    {
     "data": {
      "text/html": [
       "<div>\n",
       "<style scoped>\n",
       "    .dataframe tbody tr th:only-of-type {\n",
       "        vertical-align: middle;\n",
       "    }\n",
       "\n",
       "    .dataframe tbody tr th {\n",
       "        vertical-align: top;\n",
       "    }\n",
       "\n",
       "    .dataframe thead th {\n",
       "        text-align: right;\n",
       "    }\n",
       "</style>\n",
       "<table border=\"1\" class=\"dataframe\">\n",
       "  <thead>\n",
       "    <tr style=\"text-align: right;\">\n",
       "      <th></th>\n",
       "      <th>districtid</th>\n",
       "      <th>vaccinateddose1ratio</th>\n",
       "      <th>vaccinateddose2ratio</th>\n",
       "    </tr>\n",
       "  </thead>\n",
       "  <tbody>\n",
       "    <tr>\n",
       "      <th>602</th>\n",
       "      <td>TG_Adilabad</td>\n",
       "      <td>0.037492</td>\n",
       "      <td>0.012564</td>\n",
       "    </tr>\n",
       "    <tr>\n",
       "      <th>370</th>\n",
       "      <td>TG_Mahabubnagar</td>\n",
       "      <td>0.040173</td>\n",
       "      <td>0.015808</td>\n",
       "    </tr>\n",
       "    <tr>\n",
       "      <th>398</th>\n",
       "      <td>MN_Senapati</td>\n",
       "      <td>0.052756</td>\n",
       "      <td>0.010348</td>\n",
       "    </tr>\n",
       "    <tr>\n",
       "      <th>522</th>\n",
       "      <td>TG_Medak</td>\n",
       "      <td>0.057857</td>\n",
       "      <td>0.018973</td>\n",
       "    </tr>\n",
       "    <tr>\n",
       "      <th>144</th>\n",
       "      <td>TN_Kancheepuram</td>\n",
       "      <td>0.076711</td>\n",
       "      <td>0.011720</td>\n",
       "    </tr>\n",
       "  </tbody>\n",
       "</table>\n",
       "</div>"
      ],
      "text/plain": [
       "          districtid  vaccinateddose1ratio  vaccinateddose2ratio\n",
       "602      TG_Adilabad              0.037492              0.012564\n",
       "370  TG_Mahabubnagar              0.040173              0.015808\n",
       "398      MN_Senapati              0.052756              0.010348\n",
       "522         TG_Medak              0.057857              0.018973\n",
       "144  TN_Kancheepuram              0.076711              0.011720"
      ]
     },
     "execution_count": 5,
     "metadata": {},
     "output_type": "execute_result"
    }
   ],
   "source": [
    "# Prepare a file for storing vaccination dose ratio for each district\n",
    "district_vaccinated_dose_ratio = pd.DataFrame(columns=['districtid', 'vaccinateddose1ratio', 'vaccinateddose2ratio'])\n",
    "\n",
    "for district in list(common_districts_vaccine_and_census):                                                 \n",
    "    \n",
    "    # find the vaccination data for this district\n",
    "    district_data = cowin_vaccine_data_districtwise[cowin_vaccine_data_districtwise['District'].str.lower() == district]\n",
    "    \n",
    "    # find population data for this district\n",
    "    population_data = census_data[(census_data['Level'] == 'DISTRICT') & (census_data['Name'].str.lower() == district)]\n",
    "                                                     \n",
    "    # find the district_key for this district\n",
    "    district_key = district_data['District_Key'].values[0]\n",
    "\n",
    "    # define start_date and end_date\n",
    "    # the vaccination data starts from 16 January 2021\n",
    "    start_date = datetime.datetime.strptime('16/01/2021', '%d/%m/%Y')\n",
    "    end_date = datetime.datetime.strptime('14/08/2021', '%d/%m/%Y')\n",
    "    \n",
    "    # change the date format to match the format in dataframe\n",
    "    start_date = start_date.strftime('%d/%m/%Y')\n",
    "    end_date = end_date.strftime('%d/%m/%Y')\n",
    "    \n",
    "    # calculate total first and second dose administered in this district\n",
    "    total_first_dose_administered = district_data[end_date + '-' + 'First Dose Administered'].values[0]\n",
    "    total_second_dose_administered = district_data[end_date + '-' + 'Second Dose Administered'].values[0]\n",
    "\n",
    "    # calculate the population of this district\n",
    "    total_population = population_data['TOT_P'].values[0]\n",
    "    \n",
    "    # calculate the required ratios, put NaN if division by zero occurs\n",
    "    if(total_population == 0):\n",
    "        vaccinated_dose_1_ratio = float('NaN')\n",
    "        vaccinated_dose_2_ratio = float('NaN')\n",
    "    else:\n",
    "        vaccinated_dose_1_ratio = total_first_dose_administered / total_population\n",
    "        vaccinated_dose_2_ratio = total_second_dose_administered / total_population\n",
    "\n",
    "    # append data to dataframe\n",
    "    district_vaccinated_dose_ratio.loc[-1] = [district_key, vaccinated_dose_1_ratio, vaccinated_dose_2_ratio]\n",
    "    district_vaccinated_dose_ratio.index += 1\n",
    "\n",
    "# dump data to csv files\n",
    "district_vaccinated_dose_ratio = district_vaccinated_dose_ratio.sort_values('vaccinateddose1ratio')\n",
    "district_vaccinated_dose_ratio.to_csv('./output/district-vaccinated-dose-ratio.csv', index=False)\n",
    "district_vaccinated_dose_ratio.head()"
   ]
  },
  {
   "cell_type": "markdown",
   "id": "01f9bc9e",
   "metadata": {},
   "source": [
    "# 6. Find the common states between census data and vaccine data"
   ]
  },
  {
   "cell_type": "code",
   "execution_count": 6,
   "id": "14c73071",
   "metadata": {},
   "outputs": [
    {
     "name": "stdout",
     "output_type": "stream",
     "text": [
      "Number of unique state in vaccine data = 36\n",
      "Number of unique state in census data = 35\n",
      "There are 35 states common between the vaccine data and census data\n"
     ]
    }
   ],
   "source": [
    "# Find the unique state names in the vaccine data\n",
    "state_names_from_vaccine_data = cowin_vaccine_data_districtwise['State'].dropna().unique()\n",
    "state_names_from_vaccine_data = [state_name.lower() for state_name in state_names_from_vaccine_data]\n",
    "print('Number of unique state in vaccine data =', len(state_names_from_vaccine_data))\n",
    "\n",
    "# Find the unique state names in the census\n",
    "state_names_from_census_data = census_data[census_data['Level'] == 'STATE']['Name'].dropna().unique()\n",
    "state_names_from_census_data = [state_name.lower() for state_name in state_names_from_census_data]\n",
    "print('Number of unique state in census data =', len(state_names_from_census_data))\n",
    "\n",
    "# Find the common states between the vaccine and census data\n",
    "common_states_vaccine_and_census = set(state_names_from_census_data).intersection(state_names_from_vaccine_data)\n",
    "print('There are', len(common_states_vaccine_and_census), 'states common between the vaccine data and census data')"
   ]
  },
  {
   "cell_type": "markdown",
   "id": "967c5cf1",
   "metadata": {},
   "source": [
    "# 7. Prepare state-vaccinated-dose-ratio.csv"
   ]
  },
  {
   "cell_type": "code",
   "execution_count": 7,
   "id": "a23f5643",
   "metadata": {},
   "outputs": [
    {
     "data": {
      "text/html": [
       "<div>\n",
       "<style scoped>\n",
       "    .dataframe tbody tr th:only-of-type {\n",
       "        vertical-align: middle;\n",
       "    }\n",
       "\n",
       "    .dataframe tbody tr th {\n",
       "        vertical-align: top;\n",
       "    }\n",
       "\n",
       "    .dataframe thead th {\n",
       "        text-align: right;\n",
       "    }\n",
       "</style>\n",
       "<table border=\"1\" class=\"dataframe\">\n",
       "  <thead>\n",
       "    <tr style=\"text-align: right;\">\n",
       "      <th></th>\n",
       "      <th>stateid</th>\n",
       "      <th>vaccinateddose1ratio</th>\n",
       "      <th>vaccinateddose2ratio</th>\n",
       "    </tr>\n",
       "  </thead>\n",
       "  <tbody>\n",
       "    <tr>\n",
       "      <th>6</th>\n",
       "      <td>UP</td>\n",
       "      <td>0.241468</td>\n",
       "      <td>0.045944</td>\n",
       "    </tr>\n",
       "    <tr>\n",
       "      <th>2</th>\n",
       "      <td>BR</td>\n",
       "      <td>0.241763</td>\n",
       "      <td>0.046679</td>\n",
       "    </tr>\n",
       "    <tr>\n",
       "      <th>5</th>\n",
       "      <td>JH</td>\n",
       "      <td>0.266700</td>\n",
       "      <td>0.064718</td>\n",
       "    </tr>\n",
       "    <tr>\n",
       "      <th>19</th>\n",
       "      <td>WB</td>\n",
       "      <td>0.271873</td>\n",
       "      <td>0.102865</td>\n",
       "    </tr>\n",
       "    <tr>\n",
       "      <th>16</th>\n",
       "      <td>TN</td>\n",
       "      <td>0.301442</td>\n",
       "      <td>0.067908</td>\n",
       "    </tr>\n",
       "  </tbody>\n",
       "</table>\n",
       "</div>"
      ],
      "text/plain": [
       "   stateid  vaccinateddose1ratio  vaccinateddose2ratio\n",
       "6       UP              0.241468              0.045944\n",
       "2       BR              0.241763              0.046679\n",
       "5       JH              0.266700              0.064718\n",
       "19      WB              0.271873              0.102865\n",
       "16      TN              0.301442              0.067908"
      ]
     },
     "execution_count": 7,
     "metadata": {},
     "output_type": "execute_result"
    }
   ],
   "source": [
    "# Prepare a file for storing vaccination dose ratio for each state\n",
    "state_vaccinated_dose_ratio = pd.DataFrame(columns=['stateid', 'vaccinateddose1ratio', 'vaccinateddose2ratio'])\n",
    "\n",
    "for state in list(common_states_vaccine_and_census):                                                 \n",
    "    \n",
    "    # find the vaccination data for this state\n",
    "    state_data = cowin_vaccine_data_districtwise[cowin_vaccine_data_districtwise['State'].str.lower() == state]\n",
    "    \n",
    "    # find population data for this state\n",
    "    population_data = census_data[(census_data['Level'] == 'STATE') & (census_data['Name'].str.lower() == state)]\n",
    "                                                     \n",
    "    # find the state_code for this district\n",
    "    state_code = state_data.iloc[0]['State_Code']\n",
    "\n",
    "    # define start_date and end_date\n",
    "    # the vaccination data starts from 16 January 2021\n",
    "    start_date = datetime.datetime.strptime('16/01/2021', '%d/%m/%Y')\n",
    "    end_date = datetime.datetime.strptime('14/08/2021', '%d/%m/%Y')\n",
    "    \n",
    "    # change the date format to match the format in dataframe\n",
    "    start_date = start_date.strftime('%d/%m/%Y')\n",
    "    end_date = end_date.strftime('%d/%m/%Y')\n",
    "    \n",
    "    # calculate total first and second dose administered in this district\n",
    "    total_first_dose_administered = sum(state_data[end_date + '-' + 'First Dose Administered'])\n",
    "    total_second_dose_administered = sum(state_data[end_date + '-' + 'Second Dose Administered'])\n",
    "\n",
    "    # calculate the population of this state\n",
    "    total_population = population_data['TOT_P'].values[0]\n",
    "    \n",
    "    # calculate the required ratios, put NaN if division by zero occurs\n",
    "    if(total_population == 0):\n",
    "        vaccinated_dose_1_ratio = float('NaN')\n",
    "        vaccinated_dose_2_ratio = float('NaN')\n",
    "    else:\n",
    "        vaccinated_dose_1_ratio = total_first_dose_administered / total_population\n",
    "        vaccinated_dose_2_ratio = total_second_dose_administered / total_population\n",
    "\n",
    "    # append data to dataframe\n",
    "    state_vaccinated_dose_ratio.loc[-1] = [state_code, vaccinated_dose_1_ratio, vaccinated_dose_2_ratio]\n",
    "    state_vaccinated_dose_ratio.index += 1\n",
    "\n",
    "# dump data to csv files\n",
    "state_vaccinated_dose_ratio = state_vaccinated_dose_ratio.sort_values('vaccinateddose1ratio')\n",
    "state_vaccinated_dose_ratio.to_csv('./output/state-vaccinated-dose-ratio.csv', index=False)\n",
    "state_vaccinated_dose_ratio.head()"
   ]
  },
  {
   "cell_type": "markdown",
   "id": "59841e96",
   "metadata": {},
   "source": [
    "# 8. Prepare overall-vaccinated-dose-ratio.csv"
   ]
  },
  {
   "cell_type": "code",
   "execution_count": 8,
   "id": "80c3eb54",
   "metadata": {},
   "outputs": [
    {
     "data": {
      "text/html": [
       "<div>\n",
       "<style scoped>\n",
       "    .dataframe tbody tr th:only-of-type {\n",
       "        vertical-align: middle;\n",
       "    }\n",
       "\n",
       "    .dataframe tbody tr th {\n",
       "        vertical-align: top;\n",
       "    }\n",
       "\n",
       "    .dataframe thead th {\n",
       "        text-align: right;\n",
       "    }\n",
       "</style>\n",
       "<table border=\"1\" class=\"dataframe\">\n",
       "  <thead>\n",
       "    <tr style=\"text-align: right;\">\n",
       "      <th></th>\n",
       "      <th>overallid</th>\n",
       "      <th>vaccinateddose1ratio</th>\n",
       "      <th>vaccinateddose2ratio</th>\n",
       "    </tr>\n",
       "  </thead>\n",
       "  <tbody>\n",
       "    <tr>\n",
       "      <th>0</th>\n",
       "      <td>India</td>\n",
       "      <td>0.346605</td>\n",
       "      <td>0.098849</td>\n",
       "    </tr>\n",
       "  </tbody>\n",
       "</table>\n",
       "</div>"
      ],
      "text/plain": [
       "  overallid  vaccinateddose1ratio  vaccinateddose2ratio\n",
       "0     India              0.346605              0.098849"
      ]
     },
     "execution_count": 8,
     "metadata": {},
     "output_type": "execute_result"
    }
   ],
   "source": [
    "# Prepare a file for storing vaccination dose ratio for India (overall)\n",
    "overall_vaccinated_dose_ratio = pd.DataFrame(columns=['overallid', 'vaccinateddose1ratio', 'vaccinateddose2ratio'])\n",
    "\n",
    "# define start_date and end_date\n",
    "# the vaccination data starts from 16 January 2021\n",
    "start_date = datetime.datetime.strptime('16/01/2021', '%d/%m/%Y')\n",
    "end_date = datetime.datetime.strptime('14/08/2021', '%d/%m/%Y')\n",
    "\n",
    "# change the date format to match the format in dataframe\n",
    "start_date = start_date.strftime('%d/%m/%Y')\n",
    "end_date = end_date.strftime('%d/%m/%Y')\n",
    "\n",
    "# calculate total first and second dose administered in India (overall)\n",
    "total_first_dose_administered = sum(cowin_vaccine_data_districtwise[end_date + '-' + 'First Dose Administered'])\n",
    "total_second_dose_administered = sum(cowin_vaccine_data_districtwise[end_date + '-' + 'Second Dose Administered'])\n",
    "\n",
    "# calculate the population of India\n",
    "total_population = census_data[census_data['Level'] == 'India']['TOT_P'].values[0]\n",
    "\n",
    "# calculate the required ratios, put NaN if division by zero occurs\n",
    "if(total_population == 0):\n",
    "    vaccinated_dose_1_ratio = float('NaN')\n",
    "    vaccinated_dose_2_ratio = float('NaN')\n",
    "else:\n",
    "    vaccinated_dose_1_ratio = total_first_dose_administered / total_population\n",
    "    vaccinated_dose_2_ratio = total_second_dose_administered / total_population\n",
    "\n",
    "# append data to dataframe\n",
    "overall_vaccinated_dose_ratio.loc[-1] = ['India', vaccinated_dose_1_ratio, vaccinated_dose_2_ratio]\n",
    "overall_vaccinated_dose_ratio.index += 1\n",
    "\n",
    "# dump data to csv files\n",
    "overall_vaccinated_dose_ratio.to_csv('./output/overall-vaccinated-dose-ratio.csv', index=False)\n",
    "overall_vaccinated_dose_ratio.head()"
   ]
  },
  {
   "cell_type": "markdown",
   "id": "18e5b0fb",
   "metadata": {},
   "source": [
    "--------------------------------------------------------------------------------- END of Q8 ---------------------------------------------------------------------------------------------"
   ]
  }
 ],
 "metadata": {
  "kernelspec": {
   "display_name": "Python 3 (ipykernel)",
   "language": "python",
   "name": "python3"
  },
  "language_info": {
   "codemirror_mode": {
    "name": "ipython",
    "version": 3
   },
   "file_extension": ".py",
   "mimetype": "text/x-python",
   "name": "python",
   "nbconvert_exporter": "python",
   "pygments_lexer": "ipython3",
   "version": "3.9.6"
  }
 },
 "nbformat": 4,
 "nbformat_minor": 5
}
