{
 "cells": [
  {
   "cell_type": "markdown",
   "id": "4b593f13",
   "metadata": {},
   "source": [
    "### Question 5. (10 marks) Find the number of people vaccinated with 1 or 2 doses of any vaccine, and sort the output file with district id and state id. Output this for all districts and all states weekly, monthly and overall in the following manner: districtid, timeid, dose1, dose2. Call this output file vaccinated-count-time.csv and the script/program to generate this vaccinated-count-generator.sh where time is week, month, and overall.\n"
   ]
  },
  {
   "cell_type": "markdown",
   "id": "2874988f",
   "metadata": {},
   "source": [
    "# 1. Importing the necessary libraries"
   ]
  },
  {
   "cell_type": "code",
   "execution_count": 1,
   "id": "e4da41a5",
   "metadata": {},
   "outputs": [],
   "source": [
    "import json\n",
    "import numpy as np\n",
    "import pandas as pd\n",
    "import datetime\n",
    "from dateutil import relativedelta  # used for handling dates and doing relative arithmetic"
   ]
  },
  {
   "cell_type": "markdown",
   "id": "72341793",
   "metadata": {},
   "source": [
    "# 2. Load the cleaned vaccination data (done in Q1)"
   ]
  },
  {
   "cell_type": "code",
   "execution_count": 2,
   "id": "ec765cdc",
   "metadata": {},
   "outputs": [
    {
     "name": "stdout",
     "output_type": "stream",
     "text": [
      "The datatypes of columns containing numeric values has been changed from string to numeric\n"
     ]
    }
   ],
   "source": [
    "# Load the cowin_vaccine_data_districtwise.csv\n",
    "cowin_vaccine_data_districtwise = pd.read_csv('./dataset/cowin_vaccine_data_districtwise_clean.csv', dtype='string')\n",
    "cowin_vaccine_data_districtwise.head()\n",
    "\n",
    "# convert number values columns to numeric\n",
    "cowin_vaccine_data_districtwise.iloc[:, 4:] = cowin_vaccine_data_districtwise.iloc[:, 4:].apply(\n",
    "                                                                    pd.to_numeric, errors='ignore')\n",
    "print('The datatypes of columns containing numeric values has been changed from string to numeric')"
   ]
  },
  {
   "cell_type": "markdown",
   "id": "21148aef",
   "metadata": {},
   "source": [
    "# 3. Find the unique district names in the vaccine data"
   ]
  },
  {
   "cell_type": "code",
   "execution_count": 3,
   "id": "2f8a826e",
   "metadata": {},
   "outputs": [
    {
     "name": "stdout",
     "output_type": "stream",
     "text": [
      "Number of unique districts in vaccine data = 714\n"
     ]
    }
   ],
   "source": [
    "# Find the unique district names in the vaccine data\n",
    "district_names_from_vaccine_data = cowin_vaccine_data_districtwise['District'].dropna().unique()\n",
    "district_names_from_vaccine_data = [district_name.lower() for district_name in district_names_from_vaccine_data]\n",
    "print('Number of unique districts in vaccine data =', len(district_names_from_vaccine_data))"
   ]
  },
  {
   "cell_type": "markdown",
   "id": "1354b794",
   "metadata": {},
   "source": [
    "# 4. Find vaccination data for each district\n",
    "\n",
    "The time period of analysis is taken from 10 Jan 2021 to 14 Aug 2021 for the weekly data.\n",
    "\n",
    "The time period of analysis is taken from 15 Jan 2021 to 14 Aug 2021 for the monthly data.\n",
    "\n",
    "The time period of analysis is taken from 15 Jan 2021 to 14 Aug 2021 for the overall data."
   ]
  },
  {
   "cell_type": "code",
   "execution_count": 4,
   "id": "b36ccd75",
   "metadata": {},
   "outputs": [],
   "source": [
    "def vaccinations_between_time(data, start_date, end_date):\n",
    "    '''\n",
    "    Helper function to extract the number of vaccinations in a given duration.\n",
    "    Input: data, start_date, end_date\n",
    "    Output: vaccinations in this duration for dose1 as well as dose2\n",
    "    Logic: vaccinations = vaccinations on end_date - vaccinations on the day before start_date\n",
    "    Note: The data is cumulative.\n",
    "    '''\n",
    "    # calculate the day before start date (will be useful since the data is cumulative)\n",
    "    day_before_start_date = start_date - datetime.timedelta(days=1)\n",
    "    # change date format to match the format in dataframe\n",
    "    start_date = start_date.strftime('%d/%m/%Y')\n",
    "    end_date = end_date.strftime('%d/%m/%Y')\n",
    "    day_before_start_date = day_before_start_date.strftime('%d/%m/%Y')\n",
    "    \n",
    "    try:\n",
    "        dose1_r = data[end_date + '-' + 'First Dose Administered'].values[0]\n",
    "    except:\n",
    "        # assign 0 if the data doesn't exist for that date\n",
    "        dose1_r = 0\n",
    "    try:\n",
    "        dose1_l = data[day_before_start_date + '-' + 'First Dose Administered'].values[0]\n",
    "    except:\n",
    "        # assign 0 if the data doesn't exist for that date\n",
    "        dose1_l = 0\n",
    "    try:\n",
    "        dose2_r = data[end_date + '-' + 'Second Dose Administered'].values[0]\n",
    "    except:\n",
    "        # assign 0 if the data doesn't exist for that date\n",
    "        dose2_r = 0\n",
    "    try:\n",
    "        dose2_l = data[day_before_start_date + '-' + 'Second Dose Administered'].values[0]\n",
    "    except:\n",
    "        # assign 0 if the data doesn't exist for that date\n",
    "        dose2_l = 0\n",
    "\n",
    "    return (dose1_r - dose1_l, dose2_r - dose2_l)"
   ]
  },
  {
   "cell_type": "code",
   "execution_count": 5,
   "id": "a4a82ef0",
   "metadata": {},
   "outputs": [
    {
     "name": "stdout",
     "output_type": "stream",
     "text": [
      "        districtid weekid dose1 dose2\n",
      "22133  AN_Nicobars      1     0     0\n",
      "22103  AN_Nicobars     31   163   113\n",
      "22104  AN_Nicobars     30   465    85\n",
      "22105  AN_Nicobars     29  1048   286\n",
      "22106  AN_Nicobars     28  1636   653\n",
      "       districtid monthid dose1 dose2\n",
      "4997  AN_Nicobars       1   360     0\n",
      "4996  AN_Nicobars       2   387   304\n",
      "4995  AN_Nicobars       3  4893   227\n",
      "4994  AN_Nicobars       4  2713  1356\n",
      "4993  AN_Nicobars       5   429    19\n",
      "                      districtid overallid    dose1   dose2\n",
      "713                  AN_Nicobars   overall    22081    8110\n",
      "712  AN_North and Middle Andaman   overall    68043   29281\n",
      "711             AN_South Andaman   overall   142585   59896\n",
      "710                 AP_Anantapur   overall  1364374  597346\n",
      "709                  AP_Chittoor   overall  1565591  640864\n"
     ]
    }
   ],
   "source": [
    "# Prepare three files to store the vaccination data for each district weekly, monthly and overall\n",
    "district_vaccinated_count_week = pd.DataFrame(columns=['districtid', 'weekid', 'dose1', 'dose2'])\n",
    "district_vaccinated_count_month = pd.DataFrame(columns=['districtid', 'monthid', 'dose1', 'dose2'])\n",
    "district_vaccinated_count_overall = pd.DataFrame(columns=['districtid', 'overallid', 'dose1', 'dose2'])\n",
    "\n",
    "for district in list(district_names_from_vaccine_data):\n",
    "    \n",
    "    # find the vaccination data for this district\n",
    "    district_data = cowin_vaccine_data_districtwise[cowin_vaccine_data_districtwise['District'].str.lower() == district]\n",
    "    \n",
    "    # find the district_key for this district\n",
    "    district_key = district_data['District_Key'].values[0]\n",
    "    \n",
    "    # define start_date and end_date based on our time period of analysis\n",
    "    start_date = datetime.datetime.strptime('10/01/2021', '%d/%m/%Y')\n",
    "    end_date = datetime.datetime.strptime('14/08/2021', '%d/%m/%Y')\n",
    "    \n",
    "    # iterate from start_date to end_date with step size of one week\n",
    "    # a week starts from sunday and runs till saturday\n",
    "    # week1 is 15/03/2020-21/03/2020 and week 2 is 22/03/2020-28/03/20\n",
    "    weekid = 1\n",
    "    while start_date < end_date:\n",
    "        # the current week ends on saturday (add 6 days to start_date)\n",
    "        week_end_date = start_date + datetime.timedelta(days=6)\n",
    "        # calculate the vaccinations for this week using a helper function we defined earlier\n",
    "        vaccinations = vaccinations_between_time(district_data, start_date, week_end_date)\n",
    "        # append data to our file\n",
    "        district_vaccinated_count_week.loc[-1] = [district_key, weekid, vaccinations[0], vaccinations[1]]\n",
    "        district_vaccinated_count_week.index += 1\n",
    "        weekid += 1\n",
    "        # update the start_date for the next week\n",
    "        start_date = week_end_date + datetime.timedelta(days=1)\n",
    "    \n",
    "    # define start_date and end_date based on our time period of analysis\n",
    "    start_date = datetime.datetime.strptime('15/01/2021', '%d/%m/%Y')\n",
    "    end_date = datetime.datetime.strptime('14/08/2021', '%d/%m/%Y')\n",
    "    \n",
    "    # iterate from start_date to end_date with step size of one month\n",
    "    # First month is 15/03/2020-14/04/2020\n",
    "    # Last month is 15/07/2021-14/08/2021\n",
    "    # Total number of vaccinations in a month = (vaccinations on last date) - (vaccinations on a day before first day)\n",
    "    monthid = 1\n",
    "    while start_date < end_date:\n",
    "        # the current month ends on 14th of next month\n",
    "        month_end_date = start_date + relativedelta.relativedelta(months=1) - datetime.timedelta(days=1)\n",
    "        # calculate the vaccinations for this month using a helper function we defined earlier\n",
    "        vaccinations = vaccinations_between_time(district_data, start_date, month_end_date)\n",
    "        # append data to our file\n",
    "        district_vaccinated_count_month.loc[-1] = [district_key, monthid, vaccinations[0], vaccinations[1]]\n",
    "        district_vaccinated_count_month.index += 1\n",
    "        # update the start_date for the next month\n",
    "        start_date = month_end_date + datetime.timedelta(days=1)\n",
    "        monthid += 1\n",
    "        \n",
    "    # define start_date and end_date based on our time period of analysis\n",
    "    start_date = datetime.datetime.strptime('15/01/2021', '%d/%m/%Y')\n",
    "    end_date = datetime.datetime.strptime('14/08/2021', '%d/%m/%Y')\n",
    "    # change date format to match the format in dataframe\n",
    "    start_date = start_date.strftime('%d/%m/%Y')\n",
    "    end_date = end_date.strftime('%d/%m/%Y')\n",
    "    \n",
    "    # calculate overall vaccinations for this district\n",
    "    vaccinations = district_data[end_date + '-' + 'First Dose Administered'].values[0], district_data[end_date + '-' + 'Second Dose Administered'].values[0]\n",
    "    \n",
    "    # append data to our file\n",
    "    district_vaccinated_count_overall.loc[-1] = [district_key, 'overall', vaccinations[0], vaccinations[1]]\n",
    "    district_vaccinated_count_overall.index += 1\n",
    "\n",
    "# dump the data to csv files\n",
    "district_vaccinated_count_week = district_vaccinated_count_week.sort_values('districtid')\n",
    "district_vaccinated_count_month = district_vaccinated_count_month.sort_values('districtid')\n",
    "district_vaccinated_count_overall = district_vaccinated_count_overall.sort_values('districtid')\n",
    "district_vaccinated_count_week.to_csv('./output/district-vaccinated-count-week.csv', index=False)\n",
    "district_vaccinated_count_month.to_csv('./output/district-vaccinated-count-month.csv', index=False)\n",
    "district_vaccinated_count_overall.to_csv('./output/district-vaccinated-count-overall.csv', index=False)\n",
    "print(district_vaccinated_count_week.head())\n",
    "print(district_vaccinated_count_month.head())\n",
    "print(district_vaccinated_count_overall.head())"
   ]
  },
  {
   "cell_type": "markdown",
   "id": "4ee1575e",
   "metadata": {},
   "source": [
    "# 5. Find the unique states in vaccine data"
   ]
  },
  {
   "cell_type": "code",
   "execution_count": 6,
   "id": "d60897f1",
   "metadata": {},
   "outputs": [
    {
     "name": "stdout",
     "output_type": "stream",
     "text": [
      "Number of unique state in vaccine data = 36\n"
     ]
    }
   ],
   "source": [
    "# Find the unique state names in the vaccine data\n",
    "state_names_from_vaccine_data = cowin_vaccine_data_districtwise['State'].dropna().unique()\n",
    "state_names_from_vaccine_data = [state_name.lower() for state_name in state_names_from_vaccine_data]\n",
    "print('Number of unique state in vaccine data =', len(state_names_from_vaccine_data))"
   ]
  },
  {
   "cell_type": "markdown",
   "id": "d7ac826d",
   "metadata": {},
   "source": [
    "# 6. Find vaccination data for each state\n",
    "\n",
    "The time period of analysis is taken from 10 Jan 2021 to 14 Aug 2021 for the weekly data.\n",
    "\n",
    "The time period of analysis is taken from 15 Jan 2021 to 14 Aug 2021 for the monthly data.\n",
    "\n",
    "The time period of analysis is taken from 15 Jan 2021 to 14 Aug 2021 for the overall data."
   ]
  },
  {
   "cell_type": "code",
   "execution_count": 7,
   "id": "0606054d",
   "metadata": {},
   "outputs": [],
   "source": [
    "def vaccinations_between_time_for_series(data, start_date, end_date):\n",
    "    '''\n",
    "    Helper function to extract the number of vaccinations in a given duration.\n",
    "    Input: data, start_date, end_date\n",
    "    Output: vaccinations in this duration for dose1 as well as dose2\n",
    "    Logic: vaccinations = vaccinations on end_date - vaccinations on the day before start_date\n",
    "    Note: The data is cumulative.\n",
    "    '''\n",
    "    # calculate the day before start date (will be useful since the data is cumulative)\n",
    "    day_before_start_date = start_date - datetime.timedelta(days=1)\n",
    "    # change date format to match the format in dataframe\n",
    "    start_date = start_date.strftime('%d/%m/%Y')\n",
    "    end_date = end_date.strftime('%d/%m/%Y')\n",
    "    day_before_start_date = day_before_start_date.strftime('%d/%m/%Y')\n",
    "    \n",
    "    try:\n",
    "        dose1_r = sum(data[end_date + '-' + 'First Dose Administered'])\n",
    "    except:\n",
    "        # assign 0 if the data doesn't exist for that date\n",
    "        dose1_r = 0\n",
    "    try:\n",
    "        dose1_l = sum(data[day_before_start_date + '-' + 'First Dose Administered'])\n",
    "    except:\n",
    "        # assign 0 if the data doesn't exist for that date\n",
    "        dose1_l = 0\n",
    "    try:\n",
    "        dose2_r = sum(data[end_date + '-' + 'Second Dose Administered'])\n",
    "    except:\n",
    "        # assign 0 if the data doesn't exist for that date\n",
    "        dose2_r = 0\n",
    "    try:\n",
    "        dose2_l = sum(data[day_before_start_date + '-' + 'Second Dose Administered'])\n",
    "    except:\n",
    "        # assign 0 if the data doesn't exist for that date\n",
    "        dose2_l = 0\n",
    "\n",
    "    return (dose1_r - dose1_l, dose2_r - dose2_l)"
   ]
  },
  {
   "cell_type": "code",
   "execution_count": 8,
   "id": "cc2fe305",
   "metadata": {},
   "outputs": [
    {
     "name": "stdout",
     "output_type": "stream",
     "text": [
      "     stateid weekid dose1 dose2\n",
      "1115      AN      1     0     0\n",
      "1085      AN     31   163   113\n",
      "1086      AN     30   465    85\n",
      "1087      AN     29  1048   286\n",
      "1088      AN     28  1636   653\n",
      "    stateid monthid dose1 dose2\n",
      "251      AN       1   360     0\n",
      "250      AN       2   387   304\n",
      "249      AN       3  4893   227\n",
      "248      AN       4  2713  1356\n",
      "247      AN       5   429    19\n",
      "   stateid overallid     dose1    dose2\n",
      "35      AN   overall    232709    97287\n",
      "34      AP   overall  18516141  6485212\n",
      "33      AR   overall    700977   199737\n",
      "32      AS   overall  11430053  2442900\n",
      "31      BR   overall  25167378  4859267\n"
     ]
    }
   ],
   "source": [
    "# Prepare three files to store the vaccination data for each state weekly, monthly and overall\n",
    "state_vaccinated_count_week = pd.DataFrame(columns=['stateid', 'weekid', 'dose1', 'dose2'])\n",
    "state_vaccinated_count_month = pd.DataFrame(columns=['stateid', 'monthid', 'dose1', 'dose2'])\n",
    "state_vaccinated_count_overall = pd.DataFrame(columns=['stateid', 'overallid', 'dose1', 'dose2'])\n",
    "\n",
    "for state in list(state_names_from_vaccine_data):\n",
    "    \n",
    "    # find the vaccination data for this state\n",
    "    state_data = cowin_vaccine_data_districtwise[cowin_vaccine_data_districtwise['State'].str.lower() == state]\n",
    "    \n",
    "    # find the state_code for this state\n",
    "    state_code = state_data['State_Code'].values[0]\n",
    "    \n",
    "    # define start_date and end_date based on our time period of analysis\n",
    "    start_date = datetime.datetime.strptime('10/01/2021', '%d/%m/%Y')\n",
    "    end_date = datetime.datetime.strptime('14/08/2021', '%d/%m/%Y')\n",
    "    \n",
    "    # iterate from start_date to end_date with step size of one week\n",
    "    # a week starts from sunday and runs till saturday\n",
    "    # week1 is 15/03/2020-21/03/2020 and week 2 is 22/03/2020-28/03/20\n",
    "    weekid = 1\n",
    "    while start_date < end_date:\n",
    "        # the current week ends on saturday (add 6 days to start_date)\n",
    "        week_end_date = start_date + datetime.timedelta(days=6)\n",
    "        # calculate the vaccinations for this week using a helper function we defined earlier\n",
    "        vaccinations = vaccinations_between_time(state_data, start_date, week_end_date)\n",
    "        # append data to our file\n",
    "        state_vaccinated_count_week.loc[-1] = [state_code, weekid, vaccinations[0], vaccinations[1]]\n",
    "        state_vaccinated_count_week.index += 1\n",
    "        weekid += 1\n",
    "        # update the start_date for the next week\n",
    "        start_date = week_end_date + datetime.timedelta(days=1)\n",
    "    \n",
    "    # define start_date and end_date based on our time period of analysis\n",
    "    start_date = datetime.datetime.strptime('15/01/2021', '%d/%m/%Y')\n",
    "    end_date = datetime.datetime.strptime('14/08/2021', '%d/%m/%Y')\n",
    "    \n",
    "    # iterate from start_date to end_date with step size of one month\n",
    "    # First month is 15/03/2020-14/04/2020\n",
    "    # Last month is 15/07/2021-14/08/2021\n",
    "    # Total number of vaccinations in a month = (vaccinations on last date) - (vaccinations on a day before first day)\n",
    "    monthid = 1\n",
    "    while start_date < end_date:\n",
    "        # the current month ends on 14th of next month\n",
    "        month_end_date = start_date + relativedelta.relativedelta(months=1) - datetime.timedelta(days=1)\n",
    "        # calculate the vaccinations for this month using a helper function we defined earlier\n",
    "        vaccinations = vaccinations_between_time(state_data, start_date, month_end_date)\n",
    "        # append data to our file\n",
    "        state_vaccinated_count_month.loc[-1] = [state_code, monthid, vaccinations[0], vaccinations[1]]\n",
    "        state_vaccinated_count_month.index += 1\n",
    "        # update the start_date for the next month\n",
    "        start_date = month_end_date + datetime.timedelta(days=1)\n",
    "        monthid += 1\n",
    "        \n",
    "    # define start_date and end_date based on our time period of analysis\n",
    "    start_date = datetime.datetime.strptime('15/01/2021', '%d/%m/%Y')\n",
    "    end_date = datetime.datetime.strptime('14/08/2021', '%d/%m/%Y')\n",
    "    # change date format to match the format in dataframe\n",
    "    start_date = start_date.strftime('%d/%m/%Y')\n",
    "    end_date = end_date.strftime('%d/%m/%Y')\n",
    "    \n",
    "    # calculate overall vaccinations for this district\n",
    "    vaccinations = sum(state_data[end_date + '-' + 'First Dose Administered']), sum(state_data[end_date + '-' + 'Second Dose Administered'])\n",
    "    \n",
    "    # append data to our file\n",
    "    state_vaccinated_count_overall.loc[-1] = [state_code, 'overall', vaccinations[0], vaccinations[1]]\n",
    "    state_vaccinated_count_overall.index += 1\n",
    "\n",
    "# dump the data to csv files\n",
    "state_vaccinated_count_week = state_vaccinated_count_week.sort_values('stateid')\n",
    "state_vaccinated_count_month = state_vaccinated_count_month.sort_values('stateid')\n",
    "state_vaccinated_count_overall = state_vaccinated_count_overall.sort_values('stateid')\n",
    "state_vaccinated_count_week.to_csv('./output/state-vaccinated-count-week.csv', index=False)\n",
    "state_vaccinated_count_month.to_csv('./output/state-vaccinated-count-month.csv', index=False)\n",
    "state_vaccinated_count_overall.to_csv('./output/state-vaccinated-count-overall.csv', index=False)\n",
    "print(state_vaccinated_count_week.head())\n",
    "print(state_vaccinated_count_month.head())\n",
    "print(state_vaccinated_count_overall.head())"
   ]
  },
  {
   "cell_type": "markdown",
   "id": "4ba313a8",
   "metadata": {},
   "source": [
    "--------------------------------------------------------------------------------- END of Q5 ---------------------------------------------------------------------------------------------"
   ]
  }
 ],
 "metadata": {
  "kernelspec": {
   "display_name": "Python 3 (ipykernel)",
   "language": "python",
   "name": "python3"
  },
  "language_info": {
   "codemirror_mode": {
    "name": "ipython",
    "version": 3
   },
   "file_extension": ".py",
   "mimetype": "text/x-python",
   "name": "python",
   "nbconvert_exporter": "python",
   "pygments_lexer": "ipython3",
   "version": "3.9.6"
  }
 },
 "nbformat": 4,
 "nbformat_minor": 5
}
