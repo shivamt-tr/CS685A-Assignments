{
 "cells": [
  {
   "cell_type": "markdown",
   "id": "34d246ba",
   "metadata": {},
   "source": [
    "### Question 1. (10 marks) Modify the neighbor districts data according to the districts found from the Covid19 portal. A neighbor of a larger district is a combination of all the neighbors of its components. Output the new data as neighbor-districts-modified.json. Use the state code and district codes from vaccination data as their ids. Arrange all the district and state keys in alphabetical order. Only include common districts from vaccination data and covid data."
   ]
  },
  {
   "cell_type": "markdown",
   "id": "2874988f",
   "metadata": {},
   "source": [
    "# 1. Importing the necessary libraries"
   ]
  },
  {
   "cell_type": "code",
   "execution_count": 1,
   "id": "e4da41a5",
   "metadata": {
    "execution": {
     "iopub.execute_input": "2021-09-21T16:45:20.236181Z",
     "iopub.status.busy": "2021-09-21T16:45:20.234736Z",
     "iopub.status.idle": "2021-09-21T16:45:20.643458Z",
     "shell.execute_reply": "2021-09-21T16:45:20.643839Z"
    }
   },
   "outputs": [],
   "source": [
    "import json\n",
    "import numpy as np\n",
    "import pandas as pd"
   ]
  },
  {
   "cell_type": "markdown",
   "id": "72341793",
   "metadata": {},
   "source": [
    "# 2. Load vaccination data and clean"
   ]
  },
  {
   "cell_type": "code",
   "execution_count": 2,
   "id": "ec765cdc",
   "metadata": {
    "execution": {
     "iopub.execute_input": "2021-09-21T16:45:20.648473Z",
     "iopub.status.busy": "2021-09-21T16:45:20.647977Z",
     "iopub.status.idle": "2021-09-21T16:45:21.752511Z",
     "shell.execute_reply": "2021-09-21T16:45:21.752069Z"
    }
   },
   "outputs": [
    {
     "data": {
      "text/html": [
       "<div>\n",
       "<style scoped>\n",
       "    .dataframe tbody tr th:only-of-type {\n",
       "        vertical-align: middle;\n",
       "    }\n",
       "\n",
       "    .dataframe tbody tr th {\n",
       "        vertical-align: top;\n",
       "    }\n",
       "\n",
       "    .dataframe thead th {\n",
       "        text-align: right;\n",
       "    }\n",
       "</style>\n",
       "<table border=\"1\" class=\"dataframe\">\n",
       "  <thead>\n",
       "    <tr style=\"text-align: right;\">\n",
       "      <th></th>\n",
       "      <th>S No</th>\n",
       "      <th>State_Code</th>\n",
       "      <th>State</th>\n",
       "      <th>District_Key</th>\n",
       "      <th>Cowin Key</th>\n",
       "      <th>District</th>\n",
       "      <th>16/01/2021</th>\n",
       "      <th>16/01/2021.1</th>\n",
       "      <th>16/01/2021.2</th>\n",
       "      <th>16/01/2021.3</th>\n",
       "      <th>...</th>\n",
       "      <th>31/10/2021</th>\n",
       "      <th>31/10/2021.1</th>\n",
       "      <th>31/10/2021.2</th>\n",
       "      <th>31/10/2021.3</th>\n",
       "      <th>31/10/2021.4</th>\n",
       "      <th>31/10/2021.5</th>\n",
       "      <th>31/10/2021.6</th>\n",
       "      <th>31/10/2021.7</th>\n",
       "      <th>31/10/2021.8</th>\n",
       "      <th>31/10/2021.9</th>\n",
       "    </tr>\n",
       "  </thead>\n",
       "  <tbody>\n",
       "    <tr>\n",
       "      <th>0</th>\n",
       "      <td>&lt;NA&gt;</td>\n",
       "      <td>&lt;NA&gt;</td>\n",
       "      <td>&lt;NA&gt;</td>\n",
       "      <td>&lt;NA&gt;</td>\n",
       "      <td>&lt;NA&gt;</td>\n",
       "      <td>&lt;NA&gt;</td>\n",
       "      <td>Total Individuals Registered</td>\n",
       "      <td>Sessions</td>\n",
       "      <td>Sites</td>\n",
       "      <td>First Dose Administered</td>\n",
       "      <td>...</td>\n",
       "      <td>Total Doses Administered</td>\n",
       "      <td>Sessions</td>\n",
       "      <td>Sites</td>\n",
       "      <td>First Dose Administered</td>\n",
       "      <td>Second Dose Administered</td>\n",
       "      <td>Male(Individuals Vaccinated)</td>\n",
       "      <td>Female(Individuals Vaccinated)</td>\n",
       "      <td>Transgender(Individuals Vaccinated)</td>\n",
       "      <td>Covaxin (Doses Administered)</td>\n",
       "      <td>CoviShield (Doses Administered)</td>\n",
       "    </tr>\n",
       "    <tr>\n",
       "      <th>1</th>\n",
       "      <td>1</td>\n",
       "      <td>AN</td>\n",
       "      <td>Andaman and Nicobar Islands</td>\n",
       "      <td>AN_Nicobars</td>\n",
       "      <td>Nicobar</td>\n",
       "      <td>Nicobars</td>\n",
       "      <td>745</td>\n",
       "      <td>0</td>\n",
       "      <td>0</td>\n",
       "      <td>0</td>\n",
       "      <td>...</td>\n",
       "      <td>&lt;NA&gt;</td>\n",
       "      <td>&lt;NA&gt;</td>\n",
       "      <td>&lt;NA&gt;</td>\n",
       "      <td>&lt;NA&gt;</td>\n",
       "      <td>&lt;NA&gt;</td>\n",
       "      <td>&lt;NA&gt;</td>\n",
       "      <td>&lt;NA&gt;</td>\n",
       "      <td>&lt;NA&gt;</td>\n",
       "      <td>&lt;NA&gt;</td>\n",
       "      <td>&lt;NA&gt;</td>\n",
       "    </tr>\n",
       "    <tr>\n",
       "      <th>2</th>\n",
       "      <td>2</td>\n",
       "      <td>AN</td>\n",
       "      <td>Andaman and Nicobar Islands</td>\n",
       "      <td>AN_North and Middle Andaman</td>\n",
       "      <td>North and Middle Andaman</td>\n",
       "      <td>North and Middle Andaman</td>\n",
       "      <td>1496</td>\n",
       "      <td>0</td>\n",
       "      <td>0</td>\n",
       "      <td>0</td>\n",
       "      <td>...</td>\n",
       "      <td>&lt;NA&gt;</td>\n",
       "      <td>&lt;NA&gt;</td>\n",
       "      <td>&lt;NA&gt;</td>\n",
       "      <td>&lt;NA&gt;</td>\n",
       "      <td>&lt;NA&gt;</td>\n",
       "      <td>&lt;NA&gt;</td>\n",
       "      <td>&lt;NA&gt;</td>\n",
       "      <td>&lt;NA&gt;</td>\n",
       "      <td>&lt;NA&gt;</td>\n",
       "      <td>&lt;NA&gt;</td>\n",
       "    </tr>\n",
       "    <tr>\n",
       "      <th>3</th>\n",
       "      <td>3</td>\n",
       "      <td>AN</td>\n",
       "      <td>Andaman and Nicobar Islands</td>\n",
       "      <td>AN_South Andaman</td>\n",
       "      <td>South Andaman</td>\n",
       "      <td>South Andaman</td>\n",
       "      <td>6028</td>\n",
       "      <td>2</td>\n",
       "      <td>2</td>\n",
       "      <td>23</td>\n",
       "      <td>...</td>\n",
       "      <td>&lt;NA&gt;</td>\n",
       "      <td>&lt;NA&gt;</td>\n",
       "      <td>&lt;NA&gt;</td>\n",
       "      <td>&lt;NA&gt;</td>\n",
       "      <td>&lt;NA&gt;</td>\n",
       "      <td>&lt;NA&gt;</td>\n",
       "      <td>&lt;NA&gt;</td>\n",
       "      <td>&lt;NA&gt;</td>\n",
       "      <td>&lt;NA&gt;</td>\n",
       "      <td>&lt;NA&gt;</td>\n",
       "    </tr>\n",
       "    <tr>\n",
       "      <th>4</th>\n",
       "      <td>4</td>\n",
       "      <td>AP</td>\n",
       "      <td>Andhra Pradesh</td>\n",
       "      <td>AP_Anantapur</td>\n",
       "      <td>Anantapur</td>\n",
       "      <td>Anantapur</td>\n",
       "      <td>20781</td>\n",
       "      <td>28</td>\n",
       "      <td>26</td>\n",
       "      <td>287</td>\n",
       "      <td>...</td>\n",
       "      <td>&lt;NA&gt;</td>\n",
       "      <td>&lt;NA&gt;</td>\n",
       "      <td>&lt;NA&gt;</td>\n",
       "      <td>&lt;NA&gt;</td>\n",
       "      <td>&lt;NA&gt;</td>\n",
       "      <td>&lt;NA&gt;</td>\n",
       "      <td>&lt;NA&gt;</td>\n",
       "      <td>&lt;NA&gt;</td>\n",
       "      <td>&lt;NA&gt;</td>\n",
       "      <td>&lt;NA&gt;</td>\n",
       "    </tr>\n",
       "  </tbody>\n",
       "</table>\n",
       "<p>5 rows × 2896 columns</p>\n",
       "</div>"
      ],
      "text/plain": [
       "   S No State_Code                        State                 District_Key  \\\n",
       "0  <NA>       <NA>                         <NA>                         <NA>   \n",
       "1     1         AN  Andaman and Nicobar Islands                  AN_Nicobars   \n",
       "2     2         AN  Andaman and Nicobar Islands  AN_North and Middle Andaman   \n",
       "3     3         AN  Andaman and Nicobar Islands             AN_South Andaman   \n",
       "4     4         AP               Andhra Pradesh                 AP_Anantapur   \n",
       "\n",
       "                  Cowin Key                  District  \\\n",
       "0                      <NA>                      <NA>   \n",
       "1                   Nicobar                  Nicobars   \n",
       "2  North and Middle Andaman  North and Middle Andaman   \n",
       "3             South Andaman             South Andaman   \n",
       "4                 Anantapur                 Anantapur   \n",
       "\n",
       "                     16/01/2021 16/01/2021.1 16/01/2021.2  \\\n",
       "0  Total Individuals Registered     Sessions       Sites    \n",
       "1                           745            0            0   \n",
       "2                          1496            0            0   \n",
       "3                          6028            2            2   \n",
       "4                         20781           28           26   \n",
       "\n",
       "              16/01/2021.3  ...                31/10/2021 31/10/2021.1  \\\n",
       "0  First Dose Administered  ...  Total Doses Administered     Sessions   \n",
       "1                        0  ...                      <NA>         <NA>   \n",
       "2                        0  ...                      <NA>         <NA>   \n",
       "3                       23  ...                      <NA>         <NA>   \n",
       "4                      287  ...                      <NA>         <NA>   \n",
       "\n",
       "  31/10/2021.2             31/10/2021.3              31/10/2021.4  \\\n",
       "0       Sites   First Dose Administered  Second Dose Administered   \n",
       "1         <NA>                     <NA>                      <NA>   \n",
       "2         <NA>                     <NA>                      <NA>   \n",
       "3         <NA>                     <NA>                      <NA>   \n",
       "4         <NA>                     <NA>                      <NA>   \n",
       "\n",
       "                   31/10/2021.5                    31/10/2021.6  \\\n",
       "0  Male(Individuals Vaccinated)  Female(Individuals Vaccinated)   \n",
       "1                          <NA>                            <NA>   \n",
       "2                          <NA>                            <NA>   \n",
       "3                          <NA>                            <NA>   \n",
       "4                          <NA>                            <NA>   \n",
       "\n",
       "                          31/10/2021.7                  31/10/2021.8  \\\n",
       "0  Transgender(Individuals Vaccinated)  Covaxin (Doses Administered)   \n",
       "1                                 <NA>                          <NA>   \n",
       "2                                 <NA>                          <NA>   \n",
       "3                                 <NA>                          <NA>   \n",
       "4                                 <NA>                          <NA>   \n",
       "\n",
       "                      31/10/2021.9  \n",
       "0  CoviShield (Doses Administered)  \n",
       "1                             <NA>  \n",
       "2                             <NA>  \n",
       "3                             <NA>  \n",
       "4                             <NA>  \n",
       "\n",
       "[5 rows x 2896 columns]"
      ]
     },
     "execution_count": 2,
     "metadata": {},
     "output_type": "execute_result"
    }
   ],
   "source": [
    "# Load the cowin_vaccine_data_districtwise.csv\n",
    "cowin_vaccine_data_districtwise = pd.read_csv('./dataset/cowin_vaccine_data_districtwise.csv', dtype='string')\n",
    "cowin_vaccine_data_districtwise.head()"
   ]
  },
  {
   "cell_type": "markdown",
   "id": "5c9be4d5",
   "metadata": {},
   "source": [
    "## (i) Merge column headers with the first row headers\n",
    "\n",
    "The column information is present in first row (header) as well as second row. To make things easier, we will merge both names into a single column header. For example: '10/01/2021' and 'Total Doses Administered' will be merged as '10/01/2021-Total Doses Administered'.\n",
    "\n",
    "Also, we will ignore 'NA' values while merging. For example: 'District' and 'NA' will be merged as 'District'\n"
   ]
  },
  {
   "cell_type": "code",
   "execution_count": 3,
   "id": "db964279",
   "metadata": {
    "execution": {
     "iopub.execute_input": "2021-09-21T16:45:21.777943Z",
     "iopub.status.busy": "2021-09-21T16:45:21.777458Z",
     "iopub.status.idle": "2021-09-21T16:45:22.741116Z",
     "shell.execute_reply": "2021-09-21T16:45:22.740679Z"
    }
   },
   "outputs": [
    {
     "data": {
      "text/html": [
       "<div>\n",
       "<style scoped>\n",
       "    .dataframe tbody tr th:only-of-type {\n",
       "        vertical-align: middle;\n",
       "    }\n",
       "\n",
       "    .dataframe tbody tr th {\n",
       "        vertical-align: top;\n",
       "    }\n",
       "\n",
       "    .dataframe thead th {\n",
       "        text-align: right;\n",
       "    }\n",
       "</style>\n",
       "<table border=\"1\" class=\"dataframe\">\n",
       "  <thead>\n",
       "    <tr style=\"text-align: right;\">\n",
       "      <th></th>\n",
       "      <th>State_Code</th>\n",
       "      <th>State</th>\n",
       "      <th>District_Key</th>\n",
       "      <th>District</th>\n",
       "      <th>16/01/2021-Total Individuals Registered</th>\n",
       "      <th>16/01/2021-Sessions</th>\n",
       "      <th>16/01/2021-Sites</th>\n",
       "      <th>16/01/2021-First Dose Administered</th>\n",
       "      <th>16/01/2021-Second Dose Administered</th>\n",
       "      <th>16/01/2021-Male(Individuals Vaccinated)</th>\n",
       "      <th>...</th>\n",
       "      <th>01/09/2021-Total Doses Administered</th>\n",
       "      <th>01/09/2021-Sessions</th>\n",
       "      <th>01/09/2021-Sites</th>\n",
       "      <th>01/09/2021-First Dose Administered</th>\n",
       "      <th>01/09/2021-Second Dose Administered</th>\n",
       "      <th>01/09/2021-Male(Individuals Vaccinated)</th>\n",
       "      <th>01/09/2021-Female(Individuals Vaccinated)</th>\n",
       "      <th>01/09/2021-Transgender(Individuals Vaccinated)</th>\n",
       "      <th>01/09/2021-Covaxin (Doses Administered)</th>\n",
       "      <th>01/09/2021-CoviShield (Doses Administered)</th>\n",
       "    </tr>\n",
       "  </thead>\n",
       "  <tbody>\n",
       "    <tr>\n",
       "      <th>0</th>\n",
       "      <td>AN</td>\n",
       "      <td>Andaman and Nicobar Islands</td>\n",
       "      <td>AN_Nicobars</td>\n",
       "      <td>Nicobars</td>\n",
       "      <td>745</td>\n",
       "      <td>0</td>\n",
       "      <td>0</td>\n",
       "      <td>0</td>\n",
       "      <td>0</td>\n",
       "      <td>0</td>\n",
       "      <td>...</td>\n",
       "      <td>30560</td>\n",
       "      <td>121</td>\n",
       "      <td>1</td>\n",
       "      <td>22234</td>\n",
       "      <td>8326</td>\n",
       "      <td>16468</td>\n",
       "      <td>14090</td>\n",
       "      <td>2</td>\n",
       "      <td>0</td>\n",
       "      <td>30560</td>\n",
       "    </tr>\n",
       "    <tr>\n",
       "      <th>1</th>\n",
       "      <td>AN</td>\n",
       "      <td>Andaman and Nicobar Islands</td>\n",
       "      <td>AN_North and Middle Andaman</td>\n",
       "      <td>North and Middle Andaman</td>\n",
       "      <td>1496</td>\n",
       "      <td>0</td>\n",
       "      <td>0</td>\n",
       "      <td>0</td>\n",
       "      <td>0</td>\n",
       "      <td>0</td>\n",
       "      <td>...</td>\n",
       "      <td>104841</td>\n",
       "      <td>3847</td>\n",
       "      <td>10</td>\n",
       "      <td>73655</td>\n",
       "      <td>31186</td>\n",
       "      <td>54856</td>\n",
       "      <td>49972</td>\n",
       "      <td>13</td>\n",
       "      <td>0</td>\n",
       "      <td>104841</td>\n",
       "    </tr>\n",
       "    <tr>\n",
       "      <th>2</th>\n",
       "      <td>AN</td>\n",
       "      <td>Andaman and Nicobar Islands</td>\n",
       "      <td>AN_South Andaman</td>\n",
       "      <td>South Andaman</td>\n",
       "      <td>6028</td>\n",
       "      <td>2</td>\n",
       "      <td>2</td>\n",
       "      <td>23</td>\n",
       "      <td>0</td>\n",
       "      <td>12</td>\n",
       "      <td>...</td>\n",
       "      <td>229879</td>\n",
       "      <td>6970</td>\n",
       "      <td>18</td>\n",
       "      <td>163017</td>\n",
       "      <td>66862</td>\n",
       "      <td>123444</td>\n",
       "      <td>106397</td>\n",
       "      <td>38</td>\n",
       "      <td>0</td>\n",
       "      <td>229879</td>\n",
       "    </tr>\n",
       "    <tr>\n",
       "      <th>3</th>\n",
       "      <td>AP</td>\n",
       "      <td>Andhra Pradesh</td>\n",
       "      <td>AP_Anantapur</td>\n",
       "      <td>Anantapur</td>\n",
       "      <td>20781</td>\n",
       "      <td>28</td>\n",
       "      <td>26</td>\n",
       "      <td>287</td>\n",
       "      <td>0</td>\n",
       "      <td>28</td>\n",
       "      <td>...</td>\n",
       "      <td>2471041</td>\n",
       "      <td>263380</td>\n",
       "      <td>106</td>\n",
       "      <td>1678857</td>\n",
       "      <td>792184</td>\n",
       "      <td>1141050</td>\n",
       "      <td>1328828</td>\n",
       "      <td>1163</td>\n",
       "      <td>342472</td>\n",
       "      <td>2128569</td>\n",
       "    </tr>\n",
       "    <tr>\n",
       "      <th>4</th>\n",
       "      <td>AP</td>\n",
       "      <td>Andhra Pradesh</td>\n",
       "      <td>AP_Chittoor</td>\n",
       "      <td>Chittoor</td>\n",
       "      <td>26285</td>\n",
       "      <td>63</td>\n",
       "      <td>31</td>\n",
       "      <td>424</td>\n",
       "      <td>0</td>\n",
       "      <td>93</td>\n",
       "      <td>...</td>\n",
       "      <td>2774228</td>\n",
       "      <td>193860</td>\n",
       "      <td>160</td>\n",
       "      <td>1935756</td>\n",
       "      <td>838472</td>\n",
       "      <td>1288979</td>\n",
       "      <td>1484856</td>\n",
       "      <td>393</td>\n",
       "      <td>436745</td>\n",
       "      <td>2322388</td>\n",
       "    </tr>\n",
       "  </tbody>\n",
       "</table>\n",
       "<p>5 rows × 2294 columns</p>\n",
       "</div>"
      ],
      "text/plain": [
       "  State_Code                        State                 District_Key  \\\n",
       "0         AN  Andaman and Nicobar Islands                  AN_Nicobars   \n",
       "1         AN  Andaman and Nicobar Islands  AN_North and Middle Andaman   \n",
       "2         AN  Andaman and Nicobar Islands             AN_South Andaman   \n",
       "3         AP               Andhra Pradesh                 AP_Anantapur   \n",
       "4         AP               Andhra Pradesh                  AP_Chittoor   \n",
       "\n",
       "                   District 16/01/2021-Total Individuals Registered  \\\n",
       "0                  Nicobars                                     745   \n",
       "1  North and Middle Andaman                                    1496   \n",
       "2             South Andaman                                    6028   \n",
       "3                 Anantapur                                   20781   \n",
       "4                  Chittoor                                   26285   \n",
       "\n",
       "  16/01/2021-Sessions 16/01/2021-Sites  16/01/2021-First Dose Administered  \\\n",
       "0                   0                 0                                  0   \n",
       "1                   0                 0                                  0   \n",
       "2                   2                 2                                 23   \n",
       "3                  28                26                                287   \n",
       "4                  63                31                                424   \n",
       "\n",
       "  16/01/2021-Second Dose Administered 16/01/2021-Male(Individuals Vaccinated)  \\\n",
       "0                                   0                                       0   \n",
       "1                                   0                                       0   \n",
       "2                                   0                                      12   \n",
       "3                                   0                                      28   \n",
       "4                                   0                                      93   \n",
       "\n",
       "   ... 01/09/2021-Total Doses Administered 01/09/2021-Sessions  \\\n",
       "0  ...                               30560                 121   \n",
       "1  ...                              104841                3847   \n",
       "2  ...                              229879                6970   \n",
       "3  ...                             2471041              263380   \n",
       "4  ...                             2774228              193860   \n",
       "\n",
       "  01/09/2021-Sites  01/09/2021-First Dose Administered  \\\n",
       "0                 1                              22234   \n",
       "1                10                              73655   \n",
       "2                18                             163017   \n",
       "3               106                            1678857   \n",
       "4               160                            1935756   \n",
       "\n",
       "  01/09/2021-Second Dose Administered 01/09/2021-Male(Individuals Vaccinated)  \\\n",
       "0                                8326                                   16468   \n",
       "1                               31186                                   54856   \n",
       "2                               66862                                  123444   \n",
       "3                              792184                                 1141050   \n",
       "4                              838472                                 1288979   \n",
       "\n",
       "  01/09/2021-Female(Individuals Vaccinated)  \\\n",
       "0                                     14090   \n",
       "1                                     49972   \n",
       "2                                    106397   \n",
       "3                                   1328828   \n",
       "4                                   1484856   \n",
       "\n",
       "  01/09/2021-Transgender(Individuals Vaccinated)  \\\n",
       "0                                              2   \n",
       "1                                             13   \n",
       "2                                             38   \n",
       "3                                           1163   \n",
       "4                                            393   \n",
       "\n",
       "  01/09/2021-Covaxin (Doses Administered)  \\\n",
       "0                                       0   \n",
       "1                                       0   \n",
       "2                                       0   \n",
       "3                                  342472   \n",
       "4                                  436745   \n",
       "\n",
       "  01/09/2021-CoviShield (Doses Administered)  \n",
       "0                                      30560  \n",
       "1                                     104841  \n",
       "2                                     229879  \n",
       "3                                    2128569  \n",
       "4                                    2322388  \n",
       "\n",
       "[5 rows x 2294 columns]"
      ]
     },
     "execution_count": 3,
     "metadata": {},
     "output_type": "execute_result"
    }
   ],
   "source": [
    "# Get the list of default column names\n",
    "# Note that due to conflicting column names, pandas adds '.number_id' to repeated column names\n",
    "# We will use split() function over dot character ('.') and remove the number_id suffix from the name\n",
    "default_column_names = [x.split('.')[0] for x in list(cowin_vaccine_data_districtwise.columns)]\n",
    "\n",
    "# Get the list of column names that are in the first row\n",
    "secondary_column_names = list(cowin_vaccine_data_districtwise.loc[0])\n",
    "\n",
    "# Get the merged column names by concatenating the corresponding elements of the above two lists\n",
    "merged_column_names = [i + '-' + j\n",
    "                       if not(pd.isna(j)) else i  # ignore the concatenation where the values are <NA>\n",
    "                       for i, j in zip(default_column_names, secondary_column_names)]\n",
    "\n",
    "# Update the column names in the dataframe\n",
    "cowin_vaccine_data_districtwise.columns = merged_column_names\n",
    "\n",
    "# Drop the first row since we already merged the names to original column headers\n",
    "cowin_vaccine_data_districtwise.drop(0, axis=0, inplace=True)\n",
    "cowin_vaccine_data_districtwise.drop(['S No'], axis=1, inplace=True)  # delete 'S No' column\n",
    "cowin_vaccine_data_districtwise.drop(['Cowin Key'], axis=1, inplace=True)  # delete 'Cowin Key' column\n",
    "cowin_vaccine_data_districtwise.dropna(axis=1, how='all', inplace=True)  # drop columns containing <NA>\n",
    "cowin_vaccine_data_districtwise.reset_index(drop=True, inplace=True)  # reset indexes\n",
    "cowin_vaccine_data_districtwise.fillna('0', inplace=True)  # fill missing values as '0'\n",
    "cowin_vaccine_data_districtwise.head()"
   ]
  },
  {
   "cell_type": "markdown",
   "id": "e0b84aab",
   "metadata": {},
   "source": [
    "## (ii) Convert columns containing numbers to numeric datatype\n",
    "As of now our dataframe contains all columns read as string datatype, so we will change the datatype of all numeric columns from string to numeric"
   ]
  },
  {
   "cell_type": "code",
   "execution_count": 4,
   "id": "7daad5c9",
   "metadata": {
    "execution": {
     "iopub.execute_input": "2021-09-21T16:45:22.745634Z",
     "iopub.status.busy": "2021-09-21T16:45:22.745192Z",
     "iopub.status.idle": "2021-09-21T16:45:25.228709Z",
     "shell.execute_reply": "2021-09-21T16:45:25.228215Z"
    }
   },
   "outputs": [
    {
     "name": "stdout",
     "output_type": "stream",
     "text": [
      "The datatypes of columns containing numeric values has been changed from string to numeric\n",
      "State_Code                                        string\n",
      "State                                             string\n",
      "District_Key                                      string\n",
      "District                                          string\n",
      "16/01/2021-Total Individuals Registered            int64\n",
      "                                                   ...  \n",
      "01/09/2021-Male(Individuals Vaccinated)            int64\n",
      "01/09/2021-Female(Individuals Vaccinated)          int64\n",
      "01/09/2021-Transgender(Individuals Vaccinated)     int64\n",
      "01/09/2021-Covaxin (Doses Administered)            int64\n",
      "01/09/2021-CoviShield (Doses Administered)         int64\n",
      "Length: 2294, dtype: object\n"
     ]
    }
   ],
   "source": [
    "cowin_vaccine_data_districtwise.iloc[:, 4:] = cowin_vaccine_data_districtwise.iloc[:, 4:].apply(\n",
    "                                                                    pd.to_numeric, errors='ignore')\n",
    "print('The datatypes of columns containing numeric values has been changed from string to numeric')\n",
    "print(cowin_vaccine_data_districtwise.dtypes)"
   ]
  },
  {
   "cell_type": "markdown",
   "id": "37167201",
   "metadata": {},
   "source": [
    "## (iii) Merge the data for the rows having the same 'District_Key'\n",
    "For ex: Ahmedabad and Ahmedabad Coorporation have the same district_key, all such rows will be merged"
   ]
  },
  {
   "cell_type": "code",
   "execution_count": 5,
   "id": "2b606de3",
   "metadata": {
    "execution": {
     "iopub.execute_input": "2021-09-21T16:45:25.234967Z",
     "iopub.status.busy": "2021-09-21T16:45:25.234503Z",
     "iopub.status.idle": "2021-09-21T16:45:31.905027Z",
     "shell.execute_reply": "2021-09-21T16:45:31.904282Z"
    }
   },
   "outputs": [
    {
     "data": {
      "text/html": [
       "<div>\n",
       "<style scoped>\n",
       "    .dataframe tbody tr th:only-of-type {\n",
       "        vertical-align: middle;\n",
       "    }\n",
       "\n",
       "    .dataframe tbody tr th {\n",
       "        vertical-align: top;\n",
       "    }\n",
       "\n",
       "    .dataframe thead th {\n",
       "        text-align: right;\n",
       "    }\n",
       "</style>\n",
       "<table border=\"1\" class=\"dataframe\">\n",
       "  <thead>\n",
       "    <tr style=\"text-align: right;\">\n",
       "      <th></th>\n",
       "      <th>State_Code</th>\n",
       "      <th>State</th>\n",
       "      <th>District_Key</th>\n",
       "      <th>District</th>\n",
       "      <th>16/01/2021-Total Individuals Registered</th>\n",
       "      <th>16/01/2021-Sessions</th>\n",
       "      <th>16/01/2021-Sites</th>\n",
       "      <th>16/01/2021-First Dose Administered</th>\n",
       "      <th>16/01/2021-Second Dose Administered</th>\n",
       "      <th>16/01/2021-Male(Individuals Vaccinated)</th>\n",
       "      <th>...</th>\n",
       "      <th>01/09/2021-Total Doses Administered</th>\n",
       "      <th>01/09/2021-Sessions</th>\n",
       "      <th>01/09/2021-Sites</th>\n",
       "      <th>01/09/2021-First Dose Administered</th>\n",
       "      <th>01/09/2021-Second Dose Administered</th>\n",
       "      <th>01/09/2021-Male(Individuals Vaccinated)</th>\n",
       "      <th>01/09/2021-Female(Individuals Vaccinated)</th>\n",
       "      <th>01/09/2021-Transgender(Individuals Vaccinated)</th>\n",
       "      <th>01/09/2021-Covaxin (Doses Administered)</th>\n",
       "      <th>01/09/2021-CoviShield (Doses Administered)</th>\n",
       "    </tr>\n",
       "  </thead>\n",
       "  <tbody>\n",
       "    <tr>\n",
       "      <th>0</th>\n",
       "      <td>AN</td>\n",
       "      <td>Andaman and Nicobar Islands</td>\n",
       "      <td>AN_Nicobars</td>\n",
       "      <td>Nicobars</td>\n",
       "      <td>745</td>\n",
       "      <td>0</td>\n",
       "      <td>0</td>\n",
       "      <td>0</td>\n",
       "      <td>0</td>\n",
       "      <td>0</td>\n",
       "      <td>...</td>\n",
       "      <td>30560</td>\n",
       "      <td>121</td>\n",
       "      <td>1</td>\n",
       "      <td>22234</td>\n",
       "      <td>8326</td>\n",
       "      <td>16468</td>\n",
       "      <td>14090</td>\n",
       "      <td>2</td>\n",
       "      <td>0</td>\n",
       "      <td>30560</td>\n",
       "    </tr>\n",
       "    <tr>\n",
       "      <th>1</th>\n",
       "      <td>AN</td>\n",
       "      <td>Andaman and Nicobar Islands</td>\n",
       "      <td>AN_North and Middle Andaman</td>\n",
       "      <td>North and Middle Andaman</td>\n",
       "      <td>1496</td>\n",
       "      <td>0</td>\n",
       "      <td>0</td>\n",
       "      <td>0</td>\n",
       "      <td>0</td>\n",
       "      <td>0</td>\n",
       "      <td>...</td>\n",
       "      <td>104841</td>\n",
       "      <td>3847</td>\n",
       "      <td>10</td>\n",
       "      <td>73655</td>\n",
       "      <td>31186</td>\n",
       "      <td>54856</td>\n",
       "      <td>49972</td>\n",
       "      <td>13</td>\n",
       "      <td>0</td>\n",
       "      <td>104841</td>\n",
       "    </tr>\n",
       "    <tr>\n",
       "      <th>2</th>\n",
       "      <td>AN</td>\n",
       "      <td>Andaman and Nicobar Islands</td>\n",
       "      <td>AN_South Andaman</td>\n",
       "      <td>South Andaman</td>\n",
       "      <td>6028</td>\n",
       "      <td>2</td>\n",
       "      <td>2</td>\n",
       "      <td>23</td>\n",
       "      <td>0</td>\n",
       "      <td>12</td>\n",
       "      <td>...</td>\n",
       "      <td>229879</td>\n",
       "      <td>6970</td>\n",
       "      <td>18</td>\n",
       "      <td>163017</td>\n",
       "      <td>66862</td>\n",
       "      <td>123444</td>\n",
       "      <td>106397</td>\n",
       "      <td>38</td>\n",
       "      <td>0</td>\n",
       "      <td>229879</td>\n",
       "    </tr>\n",
       "    <tr>\n",
       "      <th>3</th>\n",
       "      <td>AP</td>\n",
       "      <td>Andhra Pradesh</td>\n",
       "      <td>AP_Anantapur</td>\n",
       "      <td>Anantapur</td>\n",
       "      <td>20781</td>\n",
       "      <td>28</td>\n",
       "      <td>26</td>\n",
       "      <td>287</td>\n",
       "      <td>0</td>\n",
       "      <td>28</td>\n",
       "      <td>...</td>\n",
       "      <td>2471041</td>\n",
       "      <td>263380</td>\n",
       "      <td>106</td>\n",
       "      <td>1678857</td>\n",
       "      <td>792184</td>\n",
       "      <td>1141050</td>\n",
       "      <td>1328828</td>\n",
       "      <td>1163</td>\n",
       "      <td>342472</td>\n",
       "      <td>2128569</td>\n",
       "    </tr>\n",
       "    <tr>\n",
       "      <th>4</th>\n",
       "      <td>AP</td>\n",
       "      <td>Andhra Pradesh</td>\n",
       "      <td>AP_Chittoor</td>\n",
       "      <td>Chittoor</td>\n",
       "      <td>26285</td>\n",
       "      <td>63</td>\n",
       "      <td>31</td>\n",
       "      <td>424</td>\n",
       "      <td>0</td>\n",
       "      <td>93</td>\n",
       "      <td>...</td>\n",
       "      <td>2774228</td>\n",
       "      <td>193860</td>\n",
       "      <td>160</td>\n",
       "      <td>1935756</td>\n",
       "      <td>838472</td>\n",
       "      <td>1288979</td>\n",
       "      <td>1484856</td>\n",
       "      <td>393</td>\n",
       "      <td>436745</td>\n",
       "      <td>2322388</td>\n",
       "    </tr>\n",
       "  </tbody>\n",
       "</table>\n",
       "<p>5 rows × 2294 columns</p>\n",
       "</div>"
      ],
      "text/plain": [
       "  State_Code                        State                 District_Key  \\\n",
       "0         AN  Andaman and Nicobar Islands                  AN_Nicobars   \n",
       "1         AN  Andaman and Nicobar Islands  AN_North and Middle Andaman   \n",
       "2         AN  Andaman and Nicobar Islands             AN_South Andaman   \n",
       "3         AP               Andhra Pradesh                 AP_Anantapur   \n",
       "4         AP               Andhra Pradesh                  AP_Chittoor   \n",
       "\n",
       "                   District  16/01/2021-Total Individuals Registered  \\\n",
       "0                  Nicobars                                      745   \n",
       "1  North and Middle Andaman                                     1496   \n",
       "2             South Andaman                                     6028   \n",
       "3                 Anantapur                                    20781   \n",
       "4                  Chittoor                                    26285   \n",
       "\n",
       "   16/01/2021-Sessions  16/01/2021-Sites   16/01/2021-First Dose Administered  \\\n",
       "0                    0                  0                                   0   \n",
       "1                    0                  0                                   0   \n",
       "2                    2                  2                                  23   \n",
       "3                   28                 26                                 287   \n",
       "4                   63                 31                                 424   \n",
       "\n",
       "   16/01/2021-Second Dose Administered  \\\n",
       "0                                    0   \n",
       "1                                    0   \n",
       "2                                    0   \n",
       "3                                    0   \n",
       "4                                    0   \n",
       "\n",
       "   16/01/2021-Male(Individuals Vaccinated)  ...  \\\n",
       "0                                        0  ...   \n",
       "1                                        0  ...   \n",
       "2                                       12  ...   \n",
       "3                                       28  ...   \n",
       "4                                       93  ...   \n",
       "\n",
       "   01/09/2021-Total Doses Administered  01/09/2021-Sessions  \\\n",
       "0                                30560                  121   \n",
       "1                               104841                 3847   \n",
       "2                               229879                 6970   \n",
       "3                              2471041               263380   \n",
       "4                              2774228               193860   \n",
       "\n",
       "   01/09/2021-Sites   01/09/2021-First Dose Administered  \\\n",
       "0                  1                               22234   \n",
       "1                 10                               73655   \n",
       "2                 18                              163017   \n",
       "3                106                             1678857   \n",
       "4                160                             1935756   \n",
       "\n",
       "   01/09/2021-Second Dose Administered  \\\n",
       "0                                 8326   \n",
       "1                                31186   \n",
       "2                                66862   \n",
       "3                               792184   \n",
       "4                               838472   \n",
       "\n",
       "   01/09/2021-Male(Individuals Vaccinated)  \\\n",
       "0                                    16468   \n",
       "1                                    54856   \n",
       "2                                   123444   \n",
       "3                                  1141050   \n",
       "4                                  1288979   \n",
       "\n",
       "   01/09/2021-Female(Individuals Vaccinated)  \\\n",
       "0                                      14090   \n",
       "1                                      49972   \n",
       "2                                     106397   \n",
       "3                                    1328828   \n",
       "4                                    1484856   \n",
       "\n",
       "   01/09/2021-Transgender(Individuals Vaccinated)  \\\n",
       "0                                               2   \n",
       "1                                              13   \n",
       "2                                              38   \n",
       "3                                            1163   \n",
       "4                                             393   \n",
       "\n",
       "   01/09/2021-Covaxin (Doses Administered)  \\\n",
       "0                                        0   \n",
       "1                                        0   \n",
       "2                                        0   \n",
       "3                                   342472   \n",
       "4                                   436745   \n",
       "\n",
       "   01/09/2021-CoviShield (Doses Administered)  \n",
       "0                                       30560  \n",
       "1                                      104841  \n",
       "2                                      229879  \n",
       "3                                     2128569  \n",
       "4                                     2322388  \n",
       "\n",
       "[5 rows x 2294 columns]"
      ]
     },
     "execution_count": 5,
     "metadata": {},
     "output_type": "execute_result"
    }
   ],
   "source": [
    "# Get a list of duplicate rows in our dataframe that have the same 'District_Key' using groupby\n",
    "duplicate_rows = pd.concat(r for _, r in cowin_vaccine_data_districtwise.groupby(\"District_Key\") if len(r) > 1)\n",
    "\n",
    "# Get the list of index of all such rows\n",
    "index = list(duplicate_rows.index)\n",
    "\n",
    "# Create an empty list to record all the indexes that need to be removed\n",
    "index_to_remove = list()\n",
    "\n",
    "# Iterate over every odd index and merge with the next index that contains the data with same district_key\n",
    "for i in range(0, len(index), 2):\n",
    "    # add the data of duplicate row with index[i+1] to the row index [i] \n",
    "    # do this for only 4th column onwards which contains numeric values\n",
    "    cowin_vaccine_data_districtwise.iloc[index[i], 4:] += cowin_vaccine_data_districtwise.iloc[index[i+1], 4:]\n",
    "    # the next index for iteration is the index of duplicate row, these rows will be removed later\n",
    "    index_to_remove.append(index[i+1])\n",
    "\n",
    "cowin_vaccine_data_districtwise.drop(index_to_remove, axis=0, inplace=True)  # delete the duplicate rows\n",
    "cowin_vaccine_data_districtwise.reset_index(drop=True, inplace=True)  # reset indexes\n",
    "cowin_vaccine_data_districtwise.head()"
   ]
  },
  {
   "cell_type": "markdown",
   "id": "3655bc5f",
   "metadata": {},
   "source": [
    "## (iv) Merge the components of Delhi\n",
    "The data for delhi is divided into 11 components so we will merge them as one.\n",
    "\n",
    "Merge the following 11 components:\n",
    "\n",
    "- central delhi,\n",
    "- east delhi,\n",
    "- new delhi,\n",
    "- north delhi,\n",
    "- north east delhi,\n",
    "- north west delhi,\n",
    "- shahdara\n",
    "- south delhi,\n",
    "- south east delhi,\n",
    "- south west delhi,\n",
    "- west delhi"
   ]
  },
  {
   "cell_type": "code",
   "execution_count": 6,
   "id": "907a45a7",
   "metadata": {
    "execution": {
     "iopub.execute_input": "2021-09-21T16:45:31.953945Z",
     "iopub.status.busy": "2021-09-21T16:45:31.923382Z",
     "iopub.status.idle": "2021-09-21T16:45:32.116904Z",
     "shell.execute_reply": "2021-09-21T16:45:32.116587Z"
    }
   },
   "outputs": [
    {
     "name": "stdout",
     "output_type": "stream",
     "text": [
      "Operation Successful\n",
      "Components of Delhi merged and replaced by single district name \"Delhi\"\n"
     ]
    }
   ],
   "source": [
    "# get the row indexes for districts under 'Delhi' state\n",
    "delhi_data_index = cowin_vaccine_data_districtwise[cowin_vaccine_data_districtwise['State'] == 'Delhi'].index\n",
    "\n",
    "# get the sum all the data of 'Delhi' for the numeric columns\n",
    "delhi_aggregate_data = list(cowin_vaccine_data_districtwise.iloc[delhi_data_index, 4:].sum())\n",
    "\n",
    "# insert the aggregate data for 'Delhi' to out dataframe, append at last and increment index\n",
    "cowin_vaccine_data_districtwise.loc[-1] = ['DL', 'Delhi', 'DL_Delhi', 'Delhi'] + delhi_aggregate_data\n",
    "\n",
    "# drop all the indexes corresponding to the 'Delhi' components and then reset indexes\n",
    "cowin_vaccine_data_districtwise.drop(delhi_data_index, axis=0, inplace=True) \n",
    "cowin_vaccine_data_districtwise.reset_index(drop=True, inplace=True)  # reset indexes\n",
    "\n",
    "print('Operation Successful')\n",
    "print('Components of Delhi merged and replaced by single district name \"Delhi\"')"
   ]
  },
  {
   "cell_type": "markdown",
   "id": "7b25f25c",
   "metadata": {},
   "source": [
    "## (v) Save the cleaned dataset for future use"
   ]
  },
  {
   "cell_type": "code",
   "execution_count": 7,
   "id": "dc518ade",
   "metadata": {
    "execution": {
     "iopub.execute_input": "2021-09-21T16:45:32.121381Z",
     "iopub.status.busy": "2021-09-21T16:45:32.119365Z",
     "iopub.status.idle": "2021-09-21T16:45:32.463446Z",
     "shell.execute_reply": "2021-09-21T16:45:32.463118Z"
    }
   },
   "outputs": [],
   "source": [
    "cowin_vaccine_data_districtwise.to_csv('./dataset/cowin_vaccine_data_districtwise_clean.csv', index=False)"
   ]
  },
  {
   "cell_type": "markdown",
   "id": "6134b270",
   "metadata": {},
   "source": [
    "# 3. Load districts cases data and clean"
   ]
  },
  {
   "cell_type": "code",
   "execution_count": 8,
   "id": "064ba3b9",
   "metadata": {
    "execution": {
     "iopub.execute_input": "2021-09-21T16:45:32.467874Z",
     "iopub.status.busy": "2021-09-21T16:45:32.467410Z",
     "iopub.status.idle": "2021-09-21T16:45:32.931841Z",
     "shell.execute_reply": "2021-09-21T16:45:32.931412Z"
    }
   },
   "outputs": [
    {
     "data": {
      "text/html": [
       "<div>\n",
       "<style scoped>\n",
       "    .dataframe tbody tr th:only-of-type {\n",
       "        vertical-align: middle;\n",
       "    }\n",
       "\n",
       "    .dataframe tbody tr th {\n",
       "        vertical-align: top;\n",
       "    }\n",
       "\n",
       "    .dataframe thead th {\n",
       "        text-align: right;\n",
       "    }\n",
       "</style>\n",
       "<table border=\"1\" class=\"dataframe\">\n",
       "  <thead>\n",
       "    <tr style=\"text-align: right;\">\n",
       "      <th></th>\n",
       "      <th>Date</th>\n",
       "      <th>State</th>\n",
       "      <th>District</th>\n",
       "      <th>Confirmed</th>\n",
       "      <th>Recovered</th>\n",
       "      <th>Deceased</th>\n",
       "      <th>Other</th>\n",
       "      <th>Tested</th>\n",
       "    </tr>\n",
       "  </thead>\n",
       "  <tbody>\n",
       "    <tr>\n",
       "      <th>0</th>\n",
       "      <td>2020-04-26</td>\n",
       "      <td>Andaman and Nicobar Islands</td>\n",
       "      <td>Unknown</td>\n",
       "      <td>33</td>\n",
       "      <td>11</td>\n",
       "      <td>0</td>\n",
       "      <td>0</td>\n",
       "      <td>&lt;NA&gt;</td>\n",
       "    </tr>\n",
       "    <tr>\n",
       "      <th>1</th>\n",
       "      <td>2020-04-26</td>\n",
       "      <td>Andhra Pradesh</td>\n",
       "      <td>Anantapur</td>\n",
       "      <td>53</td>\n",
       "      <td>14</td>\n",
       "      <td>4</td>\n",
       "      <td>0</td>\n",
       "      <td>&lt;NA&gt;</td>\n",
       "    </tr>\n",
       "    <tr>\n",
       "      <th>2</th>\n",
       "      <td>2020-04-26</td>\n",
       "      <td>Andhra Pradesh</td>\n",
       "      <td>Chittoor</td>\n",
       "      <td>73</td>\n",
       "      <td>13</td>\n",
       "      <td>0</td>\n",
       "      <td>0</td>\n",
       "      <td>&lt;NA&gt;</td>\n",
       "    </tr>\n",
       "    <tr>\n",
       "      <th>3</th>\n",
       "      <td>2020-04-26</td>\n",
       "      <td>Andhra Pradesh</td>\n",
       "      <td>East Godavari</td>\n",
       "      <td>39</td>\n",
       "      <td>12</td>\n",
       "      <td>0</td>\n",
       "      <td>0</td>\n",
       "      <td>&lt;NA&gt;</td>\n",
       "    </tr>\n",
       "    <tr>\n",
       "      <th>4</th>\n",
       "      <td>2020-04-26</td>\n",
       "      <td>Andhra Pradesh</td>\n",
       "      <td>Guntur</td>\n",
       "      <td>214</td>\n",
       "      <td>29</td>\n",
       "      <td>8</td>\n",
       "      <td>0</td>\n",
       "      <td>&lt;NA&gt;</td>\n",
       "    </tr>\n",
       "  </tbody>\n",
       "</table>\n",
       "</div>"
      ],
      "text/plain": [
       "         Date                        State       District Confirmed Recovered  \\\n",
       "0  2020-04-26  Andaman and Nicobar Islands        Unknown        33        11   \n",
       "1  2020-04-26               Andhra Pradesh      Anantapur        53        14   \n",
       "2  2020-04-26               Andhra Pradesh       Chittoor        73        13   \n",
       "3  2020-04-26               Andhra Pradesh  East Godavari        39        12   \n",
       "4  2020-04-26               Andhra Pradesh         Guntur       214        29   \n",
       "\n",
       "  Deceased Other Tested  \n",
       "0        0     0   <NA>  \n",
       "1        4     0   <NA>  \n",
       "2        0     0   <NA>  \n",
       "3        0     0   <NA>  \n",
       "4        8     0   <NA>  "
      ]
     },
     "execution_count": 8,
     "metadata": {},
     "output_type": "execute_result"
    }
   ],
   "source": [
    "# Load the districts.csv file\n",
    "districts_cases = pd.read_csv('./dataset/districts.csv', dtype='string')\n",
    "districts_cases.head()"
   ]
  },
  {
   "cell_type": "markdown",
   "id": "cffc50d6",
   "metadata": {},
   "source": [
    "## (i) Drop the columns which are not required"
   ]
  },
  {
   "cell_type": "code",
   "execution_count": 9,
   "id": "afde2627",
   "metadata": {
    "execution": {
     "iopub.execute_input": "2021-09-21T16:45:32.941858Z",
     "iopub.status.busy": "2021-09-21T16:45:32.934565Z",
     "iopub.status.idle": "2021-09-21T16:45:32.946807Z",
     "shell.execute_reply": "2021-09-21T16:45:32.946429Z"
    }
   },
   "outputs": [
    {
     "data": {
      "text/html": [
       "<div>\n",
       "<style scoped>\n",
       "    .dataframe tbody tr th:only-of-type {\n",
       "        vertical-align: middle;\n",
       "    }\n",
       "\n",
       "    .dataframe tbody tr th {\n",
       "        vertical-align: top;\n",
       "    }\n",
       "\n",
       "    .dataframe thead th {\n",
       "        text-align: right;\n",
       "    }\n",
       "</style>\n",
       "<table border=\"1\" class=\"dataframe\">\n",
       "  <thead>\n",
       "    <tr style=\"text-align: right;\">\n",
       "      <th></th>\n",
       "      <th>Date</th>\n",
       "      <th>State</th>\n",
       "      <th>District</th>\n",
       "      <th>Confirmed</th>\n",
       "    </tr>\n",
       "  </thead>\n",
       "  <tbody>\n",
       "    <tr>\n",
       "      <th>0</th>\n",
       "      <td>2020-04-26</td>\n",
       "      <td>Andaman and Nicobar Islands</td>\n",
       "      <td>Unknown</td>\n",
       "      <td>33</td>\n",
       "    </tr>\n",
       "    <tr>\n",
       "      <th>1</th>\n",
       "      <td>2020-04-26</td>\n",
       "      <td>Andhra Pradesh</td>\n",
       "      <td>Anantapur</td>\n",
       "      <td>53</td>\n",
       "    </tr>\n",
       "    <tr>\n",
       "      <th>2</th>\n",
       "      <td>2020-04-26</td>\n",
       "      <td>Andhra Pradesh</td>\n",
       "      <td>Chittoor</td>\n",
       "      <td>73</td>\n",
       "    </tr>\n",
       "    <tr>\n",
       "      <th>3</th>\n",
       "      <td>2020-04-26</td>\n",
       "      <td>Andhra Pradesh</td>\n",
       "      <td>East Godavari</td>\n",
       "      <td>39</td>\n",
       "    </tr>\n",
       "    <tr>\n",
       "      <th>4</th>\n",
       "      <td>2020-04-26</td>\n",
       "      <td>Andhra Pradesh</td>\n",
       "      <td>Guntur</td>\n",
       "      <td>214</td>\n",
       "    </tr>\n",
       "  </tbody>\n",
       "</table>\n",
       "</div>"
      ],
      "text/plain": [
       "         Date                        State       District Confirmed\n",
       "0  2020-04-26  Andaman and Nicobar Islands        Unknown        33\n",
       "1  2020-04-26               Andhra Pradesh      Anantapur        53\n",
       "2  2020-04-26               Andhra Pradesh       Chittoor        73\n",
       "3  2020-04-26               Andhra Pradesh  East Godavari        39\n",
       "4  2020-04-26               Andhra Pradesh         Guntur       214"
      ]
     },
     "execution_count": 9,
     "metadata": {},
     "output_type": "execute_result"
    }
   ],
   "source": [
    "# delete the columns which are not required\n",
    "districts_cases.drop(['Recovered', 'Deceased', 'Other', 'Tested'], axis=1, inplace=True)\n",
    "districts_cases.head()"
   ]
  },
  {
   "cell_type": "markdown",
   "id": "5c96d408",
   "metadata": {},
   "source": [
    "# 4. Find the common district names between vaccine data and cases data\n",
    "## (i) Find the unique districts in the vaccine data and the cases data"
   ]
  },
  {
   "cell_type": "code",
   "execution_count": 10,
   "id": "2f8a826e",
   "metadata": {
    "execution": {
     "iopub.execute_input": "2021-09-21T16:45:32.952858Z",
     "iopub.status.busy": "2021-09-21T16:45:32.952355Z",
     "iopub.status.idle": "2021-09-21T16:45:32.994497Z",
     "shell.execute_reply": "2021-09-21T16:45:32.994949Z"
    }
   },
   "outputs": [
    {
     "name": "stdout",
     "output_type": "stream",
     "text": [
      "Number of unique districts in vaccine data = 714\n",
      "Number of unique districts in cases data = 643\n"
     ]
    }
   ],
   "source": [
    "# Find the unique district names in the vaccine data\n",
    "district_names_from_vaccine_data = cowin_vaccine_data_districtwise['District'].dropna().unique()\n",
    "district_names_from_vaccine_data = [district_names.lower() for district_names in district_names_from_vaccine_data]\n",
    "print('Number of unique districts in vaccine data =', len(district_names_from_vaccine_data))\n",
    "      \n",
    "# Find the unique district names from the districts cases data\n",
    "district_names_from_districts_cases = districts_cases['District'].dropna().unique()\n",
    "district_names_from_districts_cases = [district_name.lower() for district_name in district_names_from_districts_cases]\n",
    "print('Number of unique districts in cases data =', len(district_names_from_districts_cases))"
   ]
  },
  {
   "cell_type": "code",
   "execution_count": 11,
   "id": "abe6e7f9",
   "metadata": {
    "execution": {
     "iopub.execute_input": "2021-09-21T16:45:33.003745Z",
     "iopub.status.busy": "2021-09-21T16:45:33.002968Z",
     "iopub.status.idle": "2021-09-21T16:45:33.006370Z",
     "shell.execute_reply": "2021-09-21T16:45:33.006722Z"
    }
   },
   "outputs": [
    {
     "name": "stdout",
     "output_type": "stream",
     "text": [
      "There are 88 Districts not in districts cases data =  {'chandel', 'narayanpet', 'vikarabad', 'bishnupur', 'warangal rural', 'nirmal', 'tamenglong', 'komaram bheem', 'adilabad', 'kangpokpi', 'peddapalli', 'nizamabad', 'karbi anglong', 'sangareddy', 'siddipet', 'nagaon', 'medchal malkajgiri', 'jorhat', 'majuli', 'west sikkim', 'mancherial', 'south andaman', 'south sikkim', 'kakching', 'tinsukia', 'goalpara', 'noney', 'kokrajhar', 'north and middle andaman', 'east sikkim', 'mulugu', 'sonitpur', 'north goa', 'ukhrul', 'nicobars', 'rajanna sircilla', 'jogulamba gadwal', 'imphal west', 'jiribam', 'dhubri', 'karimnagar', 'lakhimpur', 'bhadradri kothagudem', 'hojai', 'wanaparthy', 'west karbi anglong', 'biswanath', 'imphal east', 'darrang', 'barpeta', 'bongaigaon', 'dima hasao', 'south salmara mankachar', 'baksa', 'warangal urban', 'kamrup metropolitan', 'tengnoupal', 'kamrup', 'kamjong', 'khammam', 'pherzawl', 'south goa', 'morigaon', 'jagtial', 'nalgonda', 'north sikkim', 'jayashankar bhupalapally', 'cachar', 'nagarkurnool', 'suryapet', 'jangaon', 'golaghat', 'charaideo', 'medak', 'karimganj', 'ranga reddy', 'kamareddy', 'mahabubabad', 'sivasagar', 'thoubal', 'nalbari', 'hyderabad', 'mahabubnagar', 'chirang', 'dhemaji', 'hailakandi', 'senapati', 'yadadri bhuvanagiri'}\n",
      "\n",
      "There are 17 Districts not in vaccine data =  {'saitual', 'italians', 'others', 'airport quarantine', 'other state', 'bsf camp', 'khawzawl', 'other region', 'hnahthial', 'niwari', 'mayiladuthurai', 'capital complex', 'foreign evacuees', 'evacuees', 'unknown', 'railway quarantine', 'state pool'}\n"
     ]
    }
   ],
   "source": [
    "# Find the districts in vaccine data that are not present in districts.csv\n",
    "districts_not_in_cases_data = set(district_names_from_vaccine_data) - set(district_names_from_districts_cases)\n",
    "print('There are', len(districts_not_in_cases_data),\n",
    "      'Districts not in districts cases data = ', districts_not_in_cases_data)\n",
    "\n",
    "# Find the districts in districts,csv that are not present in vaccine data\n",
    "districts_not_in_vaccine_data = set(district_names_from_districts_cases) - set(district_names_from_vaccine_data)\n",
    "print('\\nThere are', len(districts_not_in_vaccine_data),\n",
    "      'Districts not in vaccine data = ', districts_not_in_vaccine_data)"
   ]
  },
  {
   "cell_type": "markdown",
   "id": "fd17d085",
   "metadata": {},
   "source": [
    "## (ii) Find the common districts between vaccine data and cases data"
   ]
  },
  {
   "cell_type": "code",
   "execution_count": 12,
   "id": "11a63d3d",
   "metadata": {
    "execution": {
     "iopub.execute_input": "2021-09-21T16:45:33.012088Z",
     "iopub.status.busy": "2021-09-21T16:45:33.011627Z",
     "iopub.status.idle": "2021-09-21T16:45:33.014550Z",
     "shell.execute_reply": "2021-09-21T16:45:33.014062Z"
    }
   },
   "outputs": [
    {
     "name": "stdout",
     "output_type": "stream",
     "text": [
      "There are 626 districts common between the vaccine data and cases data\n"
     ]
    }
   ],
   "source": [
    "common_districts_vaccine_and_cases = set(district_names_from_districts_cases).intersection(district_names_from_vaccine_data)\n",
    "print('There are', len(common_districts_vaccine_and_cases), 'districts common between the vaccine data and cases data')"
   ]
  },
  {
   "cell_type": "markdown",
   "id": "cbcb6516",
   "metadata": {},
   "source": [
    "# 5. Load neighbor-districts.json and clean"
   ]
  },
  {
   "cell_type": "code",
   "execution_count": 13,
   "id": "09b391bb",
   "metadata": {
    "execution": {
     "iopub.execute_input": "2021-09-21T16:45:33.018243Z",
     "iopub.status.busy": "2021-09-21T16:45:33.017625Z",
     "iopub.status.idle": "2021-09-21T16:45:33.022520Z",
     "shell.execute_reply": "2021-09-21T16:45:33.022043Z"
    }
   },
   "outputs": [],
   "source": [
    "# Load the neighbor_districts.json file as a dictionary\n",
    "with open('./dataset/neighbor-districts.json') as json_file:\n",
    "    neighbor_districts = json.load(json_file)"
   ]
  },
  {
   "cell_type": "markdown",
   "id": "8a6e4be3",
   "metadata": {},
   "source": [
    "## (i) Remove the Q codes from the district entries"
   ]
  },
  {
   "cell_type": "code",
   "execution_count": 14,
   "id": "2758bf07",
   "metadata": {
    "execution": {
     "iopub.execute_input": "2021-09-21T16:45:33.029426Z",
     "iopub.status.busy": "2021-09-21T16:45:33.028937Z",
     "iopub.status.idle": "2021-09-21T16:45:33.031266Z",
     "shell.execute_reply": "2021-09-21T16:45:33.030798Z"
    }
   },
   "outputs": [],
   "source": [
    "# Renaming the district codes in neighbor_districts.json file\n",
    "# For Ex: \"leh_district/Q1921210\" will be renamed as \"leh_district\"\n",
    "\n",
    "# Create a dictionary to store the modified json file\n",
    "neighbor_districts_modified = dict()\n",
    "\n",
    "# Iterate over the original json file and update\n",
    "for key in neighbor_districts:\n",
    "    new_key = key.split('/')[0]  # Keep only the district name and discard the codes\n",
    "    new_value = list()\n",
    "    for value in neighbor_districts[key]:\n",
    "        new_value.append(value.split('/')[0])\n",
    "    neighbor_districts_modified[new_key] = new_value"
   ]
  },
  {
   "cell_type": "markdown",
   "id": "e24d09c1",
   "metadata": {},
   "source": [
    "# 6. Update the neighbor-districts.json file based on the common districts from the vaccine and cases data\n",
    "\n",
    "## (i) Find the unique districts in neighbor_districts_json file"
   ]
  },
  {
   "cell_type": "code",
   "execution_count": 15,
   "id": "2cbccfd1",
   "metadata": {
    "execution": {
     "iopub.execute_input": "2021-09-21T16:45:33.035684Z",
     "iopub.status.busy": "2021-09-21T16:45:33.035178Z",
     "iopub.status.idle": "2021-09-21T16:45:33.037696Z",
     "shell.execute_reply": "2021-09-21T16:45:33.038077Z"
    }
   },
   "outputs": [
    {
     "name": "stdout",
     "output_type": "stream",
     "text": [
      "Number of unique districts in neighbor_districts_json = 718\n"
     ]
    }
   ],
   "source": [
    "# Find the unique district names from neighbor_districts_modified\n",
    "district_names_from_neighbor_districts_json = [district_name.lower() for district_name in neighbor_districts_modified.keys()]\n",
    "print('Number of unique districts in neighbor_districts_json =', len(district_names_from_neighbor_districts_json))"
   ]
  },
  {
   "cell_type": "markdown",
   "id": "3ac124ed",
   "metadata": {},
   "source": [
    "## (ii) Find the district in neighbor_districts_json that are not in vaccine data"
   ]
  },
  {
   "cell_type": "code",
   "execution_count": 16,
   "id": "830210ca",
   "metadata": {
    "execution": {
     "iopub.execute_input": "2021-09-21T16:45:33.042750Z",
     "iopub.status.busy": "2021-09-21T16:45:33.042264Z",
     "iopub.status.idle": "2021-09-21T16:45:33.046086Z",
     "shell.execute_reply": "2021-09-21T16:45:33.045586Z"
    }
   },
   "outputs": [
    {
     "name": "stdout",
     "output_type": "stream",
     "text": [
      "\n",
      "There are 252 Districts not in vaccine data =  {'shi_yomi', 'tapi_district', 'west_delhi', 'amreli_district', 'sahibzada_ajit_singh_nagar', 'yadadri_bhuvanagiri', 'sangli_district', 'debagarh', 'kabirdham', 'vellore_district', 'west_garo_hills', 'bhavnagar_district', 'tiruvanamalai_district', 'pattanamtitta', 'jamnagar_district', 'faizabad', 'tirunelveli_kattabo', 'imphal_east', 'ramanagara_district', 'paschim_medinipur', 'kannur_district', 'niwari', 'dhaulpur', 'lower_siang', 'dima_hasao_district', 'jalor', 'uttar_dinajpur', 'surendranagar_district', 'anugul', 'jayashankar_bhupalapally', 'thiruvarur_district', 'kheda_district', 'gadag_district', 'the_nilgiris_district', 'firozpur', 'chhota_udaipur_district', 'south_garo_hills', 'ashok_nagar', 'bangalore_rural', 'rajanna_sircilla', 'ariyalur_district', 'konkan_division', 'jajapur', 'lower_subansiri', 'muktsar', 'thanjavur_district', 'nandubar', 'kamrup_metropolitan', 'north_24_parganas', 'chamarajanagar_district', 'west_khasi_hills', 'ysr', 'junagadh_district', 'noklak', 'sepahijala', 'shimoga_district', 'west_kameng_district', 'kra_daadi', 'sivagangai_district', 'south_salmara-mankachar', 'tawang_district', 'komram_bheem', 'papum_pare', 'bemetara', 'south_tripura', 'bhadradri_kothagudem', 'koppal_district', 'lower_dibang_valley', 'marigaon', 'kasaragod_district', 'janjgir-champa', 'pakaur', 'warangal_urban', 'west_jaintia_hills', 'purba_bardhaman', 'south_west_khasi_hills', 'aizwal', 'west_godavari', 'anand_district', 'dantewada', 'upper_siang', 'ri-bhoi', 'east_godavari', 'east_khasi_hills', 'shaheed_bhagat_singh_nagar', 'upper_subansiri', 'kanchipuram_district', 'south_west_delhi', 'namakkal_district', 'udupi_district', 'morbi_district', 'north_garo_hills', 'mandya_district', 'bagalkote_district', 'purbi_singhbhum', 'bharuch_district', 'nagapattinam_district', 'mysuru_district', 'upper_dibang_valley', 'bhiwani_district', 'east_siang', 'seraikela_kharsawan', 'west_tripura', 'mahrajganj', 'mahe_district', 'bellary_district', 'banas_kantha_district', 'narsimhapur', 'lahul_and_spiti', 'dadra_and_nagar_haveli', 'palghat', 'rangareddy', 'kanpur_dehat', 'aravalli_district', 'salem_district', 'charkhi_dadri', 'pudukkottai_district', 'narmada_district', 'north_tripura', 'kodarma', 'badgam', 'raichur_district', 'thoothukudi_district', 'yadagiri_district', 'kanyakumari_district', 'dahod_district', 'mahisagar_district', 'perambalur_district', 'puducherry_district', 'south_24_parganas', 'mancherial_district', 'hassan_district', 'karur_district', 'anantapur_district', 'dakshin_dinajpur', 'bangalore_urban', 'dharmapuri_district', 'kargil_district', 'rajauri', 'coimbatore_district', 'south_east_delhi', 'imphal_west', 'dakshina_kannada', 'east_sikkim_district', 'south_sikkim_district', 'sait_kibir_nagar', 'east_garo_hills', 'north_sikkim_district', 'maldah', 'sri_potti_sriramulu_nellore', 'kolar_district', 'jhunjhunun', 'erode_district', 'sant_ravidas_nagar', 'haveri_district', 'belgaum_district', 'kurung_kumey_district', 'paschim_bardhaman', 'west_siang', 'dharwad_district', 'baramula', 'gautam_buddha_nagar', 'fategarh_sahib', 'rae_bareilly', 'tarn_taran', 'chikkamagaluru_district', 'uttara_kannada', 'chitradurga_district', 'chennai_district', 'ramanathapuram_district', 'shahdara', 'kanpur_nagar', 'pashchimi_singhbhum', 'kalaburagi_district', 'north_goa', 'botad_district', 'tehri_garhwal', 'sri_ganganagar', 'central_delhi', 'mumbai_city', 'cuddalore_district', 'sawai_madhopur', 'purba_champaran', 'new_delhi', 'tiruchchirappalli_district', 'pauri_garhwal', 'kochbihar', 'sharawasti', 'kheri', 'pune_district', 'madurai_district', 'baloda_bazar', 'south_delhi', 'sabar_kantha_district', 'medchal–malkajgiri', 'bid', 'east_delhi', 'jagatsinghapur', 'devbhumi_dwaraka_district', 'mahesana_district', 'theni_district', 'mumbai_suburban', 'pashchim_champaran', 'viluppuram_district', 'north_east_delhi', 'udham_singh_nagar', 'ahmedabad_district', 'gondiya', 'north_delhi', 'east_jaintia_hills', 'shopian', 'baleshwar', 'warangal_rural', 'sonapur', 'west_karbi_anglong', 'tumkur_district', 'dindigul_district', 'east_karbi_anglong', 'jyotiba_phule_nagar', 'purba_medinipur', 'puruliya', 'the_dangs', 'gandhinagar_district', 'north_west_delhi', 'jogulamba_gadwal', 'gir_somnath_district', 'thiruvallur_district', 'vadodara_district', 'bidar_district', 'davanagere_district', 'hugli', 'south_goa', 'bishwanath', 'panch_mahal_district', 'ambedkar_nagar', 'nav_sari_district', 'porbandar_district', 'chikkaballapura_district', 'west_sikkim_district', 'east_kameng', 'lepa_rada', 'leh_district', 'pakke_kessang', 'agar_malwa', 'kutch_district', 'baudh', 'bijapur_district', 'uttar_bastar_kanker', 'kaimur_(bhabua)', 'virudhunagar_district', 'south_west_garo_hills', 'siddharth_nagar'}\n"
     ]
    }
   ],
   "source": [
    "# Find the districts in neighbor_districts_json that are not in vacine data\n",
    "neighbor_districts_not_in_vaccine_data = set(district_names_from_neighbor_districts_json) - \\\n",
    "                                         set(district_names_from_vaccine_data)\n",
    "print('\\nThere are', len(neighbor_districts_not_in_vaccine_data),\n",
    "      'Districts not in vaccine data = ', neighbor_districts_not_in_vaccine_data)"
   ]
  },
  {
   "cell_type": "markdown",
   "id": "abff977d",
   "metadata": {},
   "source": [
    "## (iii) For each unmatched district in json file, find the closest matching district name in the vaccine data\n",
    "- By using the longest-common-subsequence heuristic, find the closest matching district name to the unmatched districts in neighbor_districts_json.\n",
    "\n",
    "- A lot of district names have been modified in the recent years. So, we will have to update the district names in the neighbor_districts_json file.\n",
    "\n",
    "- To accomplish this, we will use longest_common_subsequence to match each unmatched district name from the json file with the district names in the vaccine data file.\n",
    "\n",
    "- We will find the matching districts with max length of longest_common_subsequence and use the results to make modifications in the districts names of json file."
   ]
  },
  {
   "cell_type": "code",
   "execution_count": 17,
   "id": "9e39cdea",
   "metadata": {
    "execution": {
     "iopub.execute_input": "2021-09-21T16:45:33.051825Z",
     "iopub.status.busy": "2021-09-21T16:45:33.051314Z",
     "iopub.status.idle": "2021-09-21T16:45:33.053739Z",
     "shell.execute_reply": "2021-09-21T16:45:33.053313Z"
    }
   },
   "outputs": [],
   "source": [
    "def lcs(x, y):\n",
    "    '''\n",
    "    This function is the dynamic programming implementation of longest-common-subsequence.\n",
    "    Input: strings x and y\n",
    "    Output: length of longest-common-subsequence\n",
    "    '''\n",
    "    m, n = len(x), len(y)  # m and n contain the length of strings x and y respectively\n",
    "    dp = np.zeros((m+1, n+1), dtype='int64')  # 2d array for dp initialized with zeros\n",
    "    for i in range(dp.shape[0]):\n",
    "        for j in range(dp.shape[1]):\n",
    "            # if the characters match then current cell will be diagonally previous cell value + 1\n",
    "            if(x[i-1] == y[j-1]):\n",
    "                dp[i][j] = dp[i-1][j-1] + 1\n",
    "            # else find the max of cell on the left and the cell above\n",
    "            else:\n",
    "                dp[i][j] = max(dp[i-1][j], dp[i][j-1])\n",
    "    # return the bottom right cell value that contains the lcs of x and y\n",
    "    return dp[m][n]"
   ]
  },
  {
   "cell_type": "code",
   "execution_count": 18,
   "id": "ea1c5070",
   "metadata": {
    "execution": {
     "iopub.execute_input": "2021-09-21T16:45:33.058533Z",
     "iopub.status.busy": "2021-09-21T16:45:33.058049Z",
     "iopub.status.idle": "2021-09-21T16:45:33.060431Z",
     "shell.execute_reply": "2021-09-21T16:45:33.060053Z"
    }
   },
   "outputs": [],
   "source": [
    "def find_matches():\n",
    "    '''\n",
    "    This function finds the closest district name match in cowin data\n",
    "    for each unmatched district in neighbor-districts.json\n",
    "    '''\n",
    "    \n",
    "    # for each district in json file that didn't match in vaccine data\n",
    "    for unmatched_district in neighbor_districts_not_in_vaccine_data:\n",
    "        # find the size of longest match\n",
    "        longest_size_match = max([lcs(unmatched_district, x) for x in district_names_from_vaccine_data])\n",
    "        # create an empty list to store the district names that have max\n",
    "        # size common subsequence with the unmatched district\n",
    "        similar_districts = list()\n",
    "        for district in district_names_from_vaccine_data:\n",
    "            if lcs(unmatched_district, district) == longest_size_match:\n",
    "                similar_districts.append(district)\n",
    "        print('{', unmatched_district, '} ~ ', similar_districts)"
   ]
  },
  {
   "cell_type": "markdown",
   "id": "c29c4a13",
   "metadata": {},
   "source": [
    "## **NOTE: Run below cell only if you want to check the LCS heuristic output**"
   ]
  },
  {
   "cell_type": "code",
   "execution_count": 19,
   "id": "107962d0",
   "metadata": {
    "execution": {
     "iopub.execute_input": "2021-09-21T16:45:33.064405Z",
     "iopub.status.busy": "2021-09-21T16:45:33.063924Z",
     "iopub.status.idle": "2021-09-21T16:45:33.066613Z",
     "shell.execute_reply": "2021-09-21T16:45:33.067077Z"
    },
    "scrolled": true
   },
   "outputs": [
    {
     "name": "stdout",
     "output_type": "stream",
     "text": [
      "The following unmatched districts are having max lcs with the following districts:\n"
     ]
    },
    {
     "data": {
      "text/plain": [
       "'NOTE: Uncomment below line to execute the lcs heuristic'"
      ]
     },
     "execution_count": 19,
     "metadata": {},
     "output_type": "execute_result"
    }
   ],
   "source": [
    "print('The following unmatched districts are having max lcs with the following districts:')\n",
    "\n",
    "'''NOTE: Uncomment below line to execute the lcs heuristic'''\n",
    "\n",
    "# find_matches()"
   ]
  },
  {
   "cell_type": "markdown",
   "id": "3647982c",
   "metadata": {},
   "source": [
    "## (iv) Modify the district_names in neighbor_districts_json\n",
    "\n",
    "Based on the matchings from the above heuristic we will do the following changes\n",
    "- Replace all dashes ('-') and underscores ('_') with space (' ')\n",
    "- Remove all occurances of ' district' in the district name\n",
    "- Modify the old names to the new ones\n",
    "- Delhi district has 11 components which we will merge later"
   ]
  },
  {
   "cell_type": "code",
   "execution_count": 20,
   "id": "a61f538a",
   "metadata": {
    "execution": {
     "iopub.execute_input": "2021-09-21T16:45:33.103336Z",
     "iopub.status.busy": "2021-09-21T16:45:33.087621Z",
     "iopub.status.idle": "2021-09-21T16:45:33.151104Z",
     "shell.execute_reply": "2021-09-21T16:45:33.150560Z"
    }
   },
   "outputs": [
    {
     "name": "stdout",
     "output_type": "stream",
     "text": [
      "The number of changes to be done 91\n",
      "Operation Successful\n",
      " Neighbor districts dictionary modified!\n"
     ]
    }
   ],
   "source": [
    "# define the modifications to be done, the below list contains pair of values\n",
    "# the first value in pair is the old name and the second value in pair is the new name\n",
    "district_modifications = [\n",
    "    ['_', ' '],  # replace '_' (underscore) by ' ' (space)\n",
    "    ['-', ' '],  # replace '-' (dash) by ' ' (space)\n",
    "    [' district', ''],  # remove ' district' word from the district names\n",
    "    ['lahul and spiti', 'lahaul and spiti'],\n",
    "    ['bangalore rural', 'bengaluru rural'],\n",
    "    ['bangalore urban', 'bengaluru urban'],\n",
    "    ['komram bheem', 'komaram bheem'],\n",
    "    ['purba champaran', 'east champaran'],\n",
    "    ['pashchim champaran', 'west champaran'],\n",
    "    ['faizabad', 'ayodhya'],\n",
    "    ['aizwal', 'aizawl'],\n",
    "    ['anugul', 'angul'],\n",
    "    ['ashok nagar', 'ashoknagar'],\n",
    "    ['badgam', 'budgam'],\n",
    "    ['baleshwar', 'balasore'],\n",
    "    ['baramula', 'baramulla'],\n",
    "    ['banas kantha', 'banaskantha'],\n",
    "    ['baudh', 'boudh'],\n",
    "    ['belgaum', 'belagavi'],\n",
    "    ['bellary', 'ballari'],\n",
    "    ['bemetara', 'bametara'],\n",
    "    ['bid', 'beed'],\n",
    "    ['beedar', 'bidar'],\n",
    "    ['bishwanath', 'biswanath'],\n",
    "    ['chamarajanagar', 'chamarajanagara'],\n",
    "    ['dantewada', 'dakshin bastar dantewada'],\n",
    "    ['debagarh', 'deogarh'],\n",
    "    ['devbhumi dwaraka', 'devbhumi dwarka'],\n",
    "    ['dhaulpur', 'dholpur'],\n",
    "    ['east karbi anglong', 'karbi anglong'],\n",
    "    ['fategarh sahib', 'fatehgarh sahib'],\n",
    "    ['firozpur', 'ferozepur'],\n",
    "    ['gondiya', 'gondia'],\n",
    "    ['hugli', 'hooghly'],\n",
    "    ['jagatsinghapur', 'jagatsinghpur'],\n",
    "    ['jajapur', 'jajpur'],\n",
    "    ['jalor', 'jalore'],\n",
    "    ['jhunjhunun', 'jhunjhunu'],\n",
    "    ['jyotiba phule nagar', 'amroha'],\n",
    "    ['kabirdham', 'kabeerdham'],\n",
    "    ['kaimur (bhabua)', 'kaimur'],\n",
    "    ['kanchipuram', 'kancheepuram'],\n",
    "    ['kheri', 'lakhimpur'],\n",
    "    ['lakhimpur', 'lakhimpur kheri'],\n",
    "    ['kochbihar', 'cooch behar'],\n",
    "    ['kodarma', 'koderma'],\n",
    "    ['mahesana', 'mehsana'],\n",
    "    ['marigaon', 'morigaon'],\n",
    "    ['mahrajganj', 'maharajganj'],\n",
    "    ['maldah', 'malda'],\n",
    "    ['muktsar', 'sri muktsar sahib'],\n",
    "    ['mumbai city', 'mumbai'],\n",
    "    ['medchal-malkajgiri', 'medchal malkajgiri'],\n",
    "    ['nandubar', 'nandurbar'],\n",
    "    ['narsimhapur', 'narsinghpur'],\n",
    "    ['nav sari', 'navsari'],\n",
    "    ['pakaur', 'pakur'],\n",
    "    ['palghat', 'palakkad'],\n",
    "    ['panch mahal', 'panchmahal'],\n",
    "    ['pashchimi singhbhum', 'west singhbhum'],\n",
    "    ['pattanamtitta', 'pathanamthitta'],\n",
    "    ['purbi singhbhum', 'east singhbhum'],\n",
    "    ['puruliya', 'purulia'],\n",
    "    ['rae bareilly', 'rae bareli'],\n",
    "    ['rajauri', 'rajouri'],\n",
    "    ['rangareddy', 'ranga reddy'],\n",
    "    ['ri bhoi', 'ribhoi'],\n",
    "    ['sabar kantha', 'sabarkantha'],\n",
    "    ['sahibzada ajit singh nagar', 's.a.s. nagar'],\n",
    "    ['sait kibir nagar', 'sant kabir nagar'],\n",
    "    ['sant ravidas nagar', 'bhadohi'],\n",
    "    ['sepahijala', 'sipahijala'],\n",
    "    ['seraikela kharsawan', 'saraikela-kharsawan'],\n",
    "    ['shaheed bhagat singh nagar', 'shahid bhagat singh nagar'],\n",
    "    ['sharawasti', 'shrawasti'],\n",
    "    ['shimoga', 'shivamogga'],\n",
    "    ['shopian', 'shopiyan'],\n",
    "    ['siddharth nagar', 'siddharthnagar'],\n",
    "    ['sivagangai', 'sivaganga'],\n",
    "    ['sonapur', 'subarnapur'],\n",
    "    ['sri ganganagar', 'ganganagar'],\n",
    "    ['sri potti sriramulu nellore', 's.p.s. nellore'],\n",
    "    ['the dangs', 'dang'],\n",
    "    ['the nilgiris', 'nilgiris'],\n",
    "    ['thoothukudi', 'thoothukkudi'],\n",
    "    ['tiruchchirappalli', 'tiruchirappalli'],\n",
    "    ['tiruvanamalai', 'tiruvannamalai'],\n",
    "    ['tirunelveli kattabo', 'tirunelveli'],\n",
    "    ['tumkur', 'tumakuru'],\n",
    "    ['yadagiri', 'yadgir'],\n",
    "    ['ysr', 'y.s.r. kadapa'],\n",
    "]\n",
    "\n",
    "print('The number of changes to be done', len(district_modifications))\n",
    "\n",
    "# for each modification in the above nested list, change the neighbor_districts_modified_dictionary\n",
    "for modification in district_modifications:\n",
    "    modified = dict()\n",
    "    for key in neighbor_districts_modified:\n",
    "        value = [x.replace(modification[0], modification[1]) for x in neighbor_districts_modified[key]]\n",
    "        modified[key.replace(modification[0], modification[1])] = value\n",
    "    neighbor_districts_modified = modified\n",
    "\n",
    "print('Operation Successful\\n', 'Neighbor districts dictionary modified!')"
   ]
  },
  {
   "cell_type": "markdown",
   "id": "89f78484",
   "metadata": {},
   "source": [
    "## (v) Merge the components of Delhi into a single district name Delhi.\n",
    "Merge the following 11 components:\n",
    "\n",
    "- central delhi,\n",
    "- east delhi,\n",
    "- new delhi,\n",
    "- north delhi,\n",
    "- north east delhi,\n",
    "- north west delhi,\n",
    "- shahdara\n",
    "- south delhi,\n",
    "- south east delhi,\n",
    "- south west delhi,\n",
    "- west delhi"
   ]
  },
  {
   "cell_type": "code",
   "execution_count": 21,
   "id": "26bcdc48",
   "metadata": {
    "execution": {
     "iopub.execute_input": "2021-09-21T16:45:33.160413Z",
     "iopub.status.busy": "2021-09-21T16:45:33.157799Z",
     "iopub.status.idle": "2021-09-21T16:45:33.166366Z",
     "shell.execute_reply": "2021-09-21T16:45:33.166974Z"
    }
   },
   "outputs": [
    {
     "name": "stdout",
     "output_type": "stream",
     "text": [
      "The neighbors of Delhi are ['baghpat', 'jhajjar', 'gurugram', 'faridabad', 'sonipat', 'ghaziabad', 'gautam buddha nagar']\n",
      "Operation Successful\n",
      " The components of Delhi have been successfully merged!\n"
     ]
    }
   ],
   "source": [
    "# first find the neighbors of delhi by finding the neighbors of all of its components\n",
    "components_of_delhi = ['central delhi', 'east delhi', 'new delhi', 'north delhi',\n",
    "                       'north east delhi', 'north west delhi', 'shahdara', 'south delhi',\n",
    "                       'south east delhi', 'south west delhi', 'west delhi']\n",
    "\n",
    "neighbors_of_delhi = set()\n",
    "for key in list(neighbor_districts_modified.keys()):\n",
    "    if key in components_of_delhi:\n",
    "        neighbors_of_delhi.update(neighbor_districts_modified[key])\n",
    "        neighbor_districts_modified.pop(key, None)\n",
    "\n",
    "# the final neighbors of delhi can be found out by removing delhi components from this list\n",
    "neighbors_of_delhi = [x for x in neighbors_of_delhi if x not in components_of_delhi]\n",
    "print('The neighbors of Delhi are', neighbors_of_delhi)\n",
    "\n",
    "# now replace all delhi components from neighbors lists by the new name 'delhi'\n",
    "for key in neighbor_districts_modified:\n",
    "    value = list(set([x.replace(x, 'delhi') if x in components_of_delhi else x for x in neighbor_districts_modified[key]]))\n",
    "    neighbor_districts_modified[key] = value\n",
    "\n",
    "# now add delhi to the json file\n",
    "neighbor_districts_modified['delhi'] = neighbors_of_delhi\n",
    "\n",
    "print('Operation Successful\\n', 'The components of Delhi have been successfully merged!')"
   ]
  },
  {
   "cell_type": "markdown",
   "id": "86c6018e",
   "metadata": {},
   "source": [
    "## (vi) Find the number of common districts between vaccine data and neighbor-districts.json\n",
    "\n",
    "Now, since we have done a lot of cleaning. Let's find the number of common districts between the vaccine data and the json file"
   ]
  },
  {
   "cell_type": "code",
   "execution_count": 22,
   "id": "c40b726c",
   "metadata": {
    "execution": {
     "iopub.execute_input": "2021-09-21T16:45:33.172679Z",
     "iopub.status.busy": "2021-09-21T16:45:33.171965Z",
     "iopub.status.idle": "2021-09-21T16:45:33.176329Z",
     "shell.execute_reply": "2021-09-21T16:45:33.175871Z"
    }
   },
   "outputs": [
    {
     "name": "stdout",
     "output_type": "stream",
     "text": [
      "Number of unique districts in neighbor_districts_json = 706\n",
      "There are 701 districts common between the vaccine data and json file\n"
     ]
    }
   ],
   "source": [
    "# Find the unique district names from neighbor_districts_modified\n",
    "district_names_from_neighbor_districts_json = [district_name.lower() for district_name in neighbor_districts_modified.keys()]\n",
    "print('Number of unique districts in neighbor_districts_json =', len(district_names_from_neighbor_districts_json))\n",
    "\n",
    "# Find the common districts with vaccine data\n",
    "common_districts_vaccine_and_json = set(district_names_from_neighbor_districts_json).intersection(district_names_from_vaccine_data)\n",
    "print('There are', len(common_districts_vaccine_and_json), 'districts common between the vaccine data and json file')"
   ]
  },
  {
   "cell_type": "markdown",
   "id": "873a868a",
   "metadata": {},
   "source": [
    "## (vii) Remove the unmatched districts in json file\n",
    "\n",
    "After a lot of data cleaning, we still find some districts in json file that do not match with the vaccine data. We will remove all such districts"
   ]
  },
  {
   "cell_type": "code",
   "execution_count": 23,
   "id": "f24165f2",
   "metadata": {
    "execution": {
     "iopub.execute_input": "2021-09-21T16:45:33.184648Z",
     "iopub.status.busy": "2021-09-21T16:45:33.183969Z",
     "iopub.status.idle": "2021-09-21T16:45:33.187541Z",
     "shell.execute_reply": "2021-09-21T16:45:33.187099Z"
    }
   },
   "outputs": [
    {
     "name": "stdout",
     "output_type": "stream",
     "text": [
      "\n",
      "There are 5 Districts not in vaccine data =  {'noklak', 'niwari', 'medchal–malkajgiri', 'mumbai suburban', 'konkan division'}\n",
      "These districts have now been removed from the json file\n"
     ]
    }
   ],
   "source": [
    "# Find the districts in neighbor_districts_json that are not in vacine data\n",
    "neighbor_districts_not_in_vaccine_data = set(district_names_from_neighbor_districts_json) - \\\n",
    "                                         set(district_names_from_vaccine_data)\n",
    "print('\\nThere are', len(neighbor_districts_not_in_vaccine_data),\n",
    "      'Districts not in vaccine data = ', neighbor_districts_not_in_vaccine_data)\n",
    "\n",
    "districts_to_remove = list(neighbor_districts_not_in_vaccine_data)\n",
    "\n",
    "# Remove these districts from the json file\n",
    "modified = dict()\n",
    "for key in neighbor_districts_modified:\n",
    "    if key not in districts_to_remove:\n",
    "        value = [x for x in neighbor_districts_modified[key] if x not in districts_to_remove]\n",
    "        modified[key] = value\n",
    "neighbor_districts_modified = modified\n",
    "\n",
    "print('These districts have now been removed from the json file')"
   ]
  },
  {
   "cell_type": "markdown",
   "id": "cc0cf707",
   "metadata": {},
   "source": [
    "## (viii) Removing some districts as specified in the Note section of assignment PDF\n",
    "\n",
    "Avoid considering the below districts\n",
    "- FROM COWIN DATA:\n",
    "    Chengalpattu, Gaurela Pendra Marwahi, Nicobars, North and Middle Andaman, Saraikela-Kharsawan,\n",
    "    South Andaman, Tenkasi, Tirupathur, Yanam\n",
    "- FROM neighbor-district.json, remove all entries of:\n",
    "    Kheri, Konkan division, Niwari, Noklak, Parbhani, Pattanamtitta\n",
    "    \n",
    "In out program we have already removed such districts as a part of data cleaning and will go ahead with only interesection of districts between vaccine data and neighbor-district.json"
   ]
  },
  {
   "cell_type": "markdown",
   "id": "ec3e1bb7",
   "metadata": {},
   "source": [
    "# 7. Final update on the neighbor_json with district_keys"
   ]
  },
  {
   "cell_type": "code",
   "execution_count": 24,
   "id": "f427c22a",
   "metadata": {
    "execution": {
     "iopub.execute_input": "2021-09-21T16:45:33.198031Z",
     "iopub.status.busy": "2021-09-21T16:45:33.197542Z",
     "iopub.status.idle": "2021-09-21T16:45:36.370363Z",
     "shell.execute_reply": "2021-09-21T16:45:36.369963Z"
    }
   },
   "outputs": [],
   "source": [
    "# To prepare the final neighbor-districts-modified.csv we will replace all district names with district_keys\n",
    "\n",
    "def find_key(district):\n",
    "    '''\n",
    "    This function returns state-key_district-name (i.e. district_key) for a given district name\n",
    "    '''\n",
    "    return cowin_vaccine_data_districtwise[cowin_vaccine_data_districtwise['District'].str.lower() == district]['District_Key'].values[0]\n",
    "\n",
    "modified = dict()\n",
    "for key in neighbor_districts_modified:\n",
    "    # replace all the entries with district_keys\n",
    "    values = [x.replace(x, find_key(x)) for x in neighbor_districts_modified[key]]\n",
    "    values.sort()  # we will store neighbors in sorted order\n",
    "    modified[key.replace(key, find_key(key))] = values\n",
    "# Sort the keys in modified dictionary\n",
    "neighbor_districts_modified = dict(sorted(modified.items()))"
   ]
  },
  {
   "cell_type": "markdown",
   "id": "157f7971",
   "metadata": {},
   "source": [
    "# 8. Save the updated dictionary as neighbor-districts-modified.json"
   ]
  },
  {
   "cell_type": "code",
   "execution_count": 25,
   "id": "79563101",
   "metadata": {
    "execution": {
     "iopub.execute_input": "2021-09-21T16:45:36.375592Z",
     "iopub.status.busy": "2021-09-21T16:45:36.374751Z",
     "iopub.status.idle": "2021-09-21T16:45:36.382901Z",
     "shell.execute_reply": "2021-09-21T16:45:36.382522Z"
    }
   },
   "outputs": [],
   "source": [
    "# save the neighbor_districts_modified dictionary as the neighbor_districts_modified.json\n",
    "with open('./output/neighbor-districts-modified.json', 'w') as f:\n",
    "    json.dump(neighbor_districts_modified, f, indent=2)"
   ]
  },
  {
   "cell_type": "markdown",
   "id": "59acbcd2",
   "metadata": {},
   "source": [
    "--------------------------------------------------------------------------------- END of Q1 ---------------------------------------------------------------------------------------------"
   ]
  }
 ],
 "metadata": {
  "kernelspec": {
   "display_name": "Python 3 (ipykernel)",
   "language": "python",
   "name": "python3"
  },
  "language_info": {
   "codemirror_mode": {
    "name": "ipython",
    "version": 3
   },
   "file_extension": ".py",
   "mimetype": "text/x-python",
   "name": "python",
   "nbconvert_exporter": "python",
   "pygments_lexer": "ipython3",
   "version": "3.8.10"
  }
 },
 "nbformat": 4,
 "nbformat_minor": 5
}
