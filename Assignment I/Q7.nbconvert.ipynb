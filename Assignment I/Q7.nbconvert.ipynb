{
 "cells": [
  {
   "cell_type": "markdown",
   "id": "ae5caafa",
   "metadata": {},
   "source": [
    "### Q7. (10 marks) For each state, district and overall, find the following ratios: total number of Covishield vaccinated persons (either 1 or 2 doses) to total number of Covaxin vaccinated persons (same). Output them in the following manner: districtid, vaccineratio. Call this output file vaccine-type-ratio.csv and the script/program to generate this vaccine-type-ratio-generator.sh. Sort the output by the ratio."
   ]
  },
  {
   "cell_type": "markdown",
   "id": "bc8a397b",
   "metadata": {},
   "source": [
    "# 1. Import necessary libraries"
   ]
  },
  {
   "cell_type": "code",
   "execution_count": 1,
   "id": "47b1c691",
   "metadata": {
    "execution": {
     "iopub.execute_input": "2021-09-21T16:55:21.736189Z",
     "iopub.status.busy": "2021-09-21T16:55:21.729418Z",
     "iopub.status.idle": "2021-09-21T16:55:22.182359Z",
     "shell.execute_reply": "2021-09-21T16:55:22.181891Z"
    }
   },
   "outputs": [],
   "source": [
    "import json\n",
    "import numpy as np\n",
    "import pandas as pd\n",
    "import datetime\n",
    "from dateutil import relativedelta  # used for handling dates and doing relative arithmetic"
   ]
  },
  {
   "cell_type": "markdown",
   "id": "72341793",
   "metadata": {},
   "source": [
    "# 2. Load the cleaned vaccination data (done in Q1)"
   ]
  },
  {
   "cell_type": "code",
   "execution_count": 2,
   "id": "ec765cdc",
   "metadata": {
    "execution": {
     "iopub.execute_input": "2021-09-21T16:55:22.187694Z",
     "iopub.status.busy": "2021-09-21T16:55:22.187194Z",
     "iopub.status.idle": "2021-09-21T16:55:26.748493Z",
     "shell.execute_reply": "2021-09-21T16:55:26.748003Z"
    }
   },
   "outputs": [
    {
     "name": "stdout",
     "output_type": "stream",
     "text": [
      "The datatypes of columns containing numeric values has been changed from string to numeric\n"
     ]
    }
   ],
   "source": [
    "# Load the cowin_vaccine_data_districtwise.csv\n",
    "cowin_vaccine_data_districtwise = pd.read_csv('./dataset/cowin_vaccine_data_districtwise_clean.csv', dtype='string')\n",
    "cowin_vaccine_data_districtwise.head()\n",
    "\n",
    "# convert number values columns to numeric\n",
    "cowin_vaccine_data_districtwise.iloc[:, 4:] = cowin_vaccine_data_districtwise.iloc[:, 4:].apply(\n",
    "                                                                    pd.to_numeric, errors='ignore')\n",
    "print('The datatypes of columns containing numeric values has been changed from string to numeric')"
   ]
  },
  {
   "cell_type": "markdown",
   "id": "21148aef",
   "metadata": {},
   "source": [
    "# 3. Find the unique district names in the vaccine data"
   ]
  },
  {
   "cell_type": "code",
   "execution_count": 3,
   "id": "2f8a826e",
   "metadata": {
    "execution": {
     "iopub.execute_input": "2021-09-21T16:55:26.754942Z",
     "iopub.status.busy": "2021-09-21T16:55:26.754401Z",
     "iopub.status.idle": "2021-09-21T16:55:26.756794Z",
     "shell.execute_reply": "2021-09-21T16:55:26.757146Z"
    }
   },
   "outputs": [
    {
     "name": "stdout",
     "output_type": "stream",
     "text": [
      "Number of unique districts in vaccine data = 714\n"
     ]
    }
   ],
   "source": [
    "# Find the unique district names in the vaccine data\n",
    "district_names_from_vaccine_data = cowin_vaccine_data_districtwise['District'].dropna().unique()\n",
    "district_names_from_vaccine_data = [district_name.lower() for district_name in district_names_from_vaccine_data]\n",
    "print('Number of unique districts in vaccine data =', len(district_names_from_vaccine_data))"
   ]
  },
  {
   "cell_type": "markdown",
   "id": "9161e3da",
   "metadata": {},
   "source": [
    "# 4. Prepare district-vaccine-type-ratio.csv\n",
    "The vaccination data starts from 16 January 2021"
   ]
  },
  {
   "cell_type": "code",
   "execution_count": 4,
   "id": "b32ca173",
   "metadata": {
    "execution": {
     "iopub.execute_input": "2021-09-21T16:55:26.777873Z",
     "iopub.status.busy": "2021-09-21T16:55:26.777396Z",
     "iopub.status.idle": "2021-09-21T16:55:28.951900Z",
     "shell.execute_reply": "2021-09-21T16:55:28.952230Z"
    }
   },
   "outputs": [
    {
     "data": {
      "text/html": [
       "<div>\n",
       "<style scoped>\n",
       "    .dataframe tbody tr th:only-of-type {\n",
       "        vertical-align: middle;\n",
       "    }\n",
       "\n",
       "    .dataframe tbody tr th {\n",
       "        vertical-align: top;\n",
       "    }\n",
       "\n",
       "    .dataframe thead th {\n",
       "        text-align: right;\n",
       "    }\n",
       "</style>\n",
       "<table border=\"1\" class=\"dataframe\">\n",
       "  <thead>\n",
       "    <tr style=\"text-align: right;\">\n",
       "      <th></th>\n",
       "      <th>districtid</th>\n",
       "      <th>vaccineratio</th>\n",
       "    </tr>\n",
       "  </thead>\n",
       "  <tbody>\n",
       "    <tr>\n",
       "      <th>261</th>\n",
       "      <td>OR_Khordha</td>\n",
       "      <td>0.231339</td>\n",
       "    </tr>\n",
       "    <tr>\n",
       "      <th>671</th>\n",
       "      <td>AS_Barpeta</td>\n",
       "      <td>0.817545</td>\n",
       "    </tr>\n",
       "    <tr>\n",
       "      <th>614</th>\n",
       "      <td>BR_Patna</td>\n",
       "      <td>0.930361</td>\n",
       "    </tr>\n",
       "    <tr>\n",
       "      <th>355</th>\n",
       "      <td>MH_Bhandara</td>\n",
       "      <td>1.182007</td>\n",
       "    </tr>\n",
       "    <tr>\n",
       "      <th>644</th>\n",
       "      <td>AS_Sonitpur</td>\n",
       "      <td>1.393974</td>\n",
       "    </tr>\n",
       "  </tbody>\n",
       "</table>\n",
       "</div>"
      ],
      "text/plain": [
       "      districtid  vaccineratio\n",
       "261   OR_Khordha      0.231339\n",
       "671   AS_Barpeta      0.817545\n",
       "614     BR_Patna      0.930361\n",
       "355  MH_Bhandara      1.182007\n",
       "644  AS_Sonitpur      1.393974"
      ]
     },
     "execution_count": 4,
     "metadata": {},
     "output_type": "execute_result"
    }
   ],
   "source": [
    "# Prepare a file for storing vaccine type ratio for each district\n",
    "district_vaccine_type_ratio = pd.DataFrame(columns=['districtid', 'vaccineratio'])\n",
    "\n",
    "for district in list(district_names_from_vaccine_data):\n",
    "    \n",
    "    # find the vaccination data for this district\n",
    "    district_data = cowin_vaccine_data_districtwise[cowin_vaccine_data_districtwise['District'].str.lower() == district]\n",
    "    \n",
    "    # find the district_key for this district\n",
    "    district_key = district_data['District_Key'].values[0]\n",
    "\n",
    "    # define start_date and end_date\n",
    "    # the vaccination data starts from 16 January 2021\n",
    "    start_date = datetime.datetime.strptime('16/01/2021', '%d/%m/%Y')\n",
    "    end_date = datetime.datetime.strptime('14/08/2021', '%d/%m/%Y')\n",
    "    \n",
    "    # change the date format to match the format in dataframe\n",
    "    start_date = start_date.strftime('%d/%m/%Y')\n",
    "    end_date = end_date.strftime('%d/%m/%Y')\n",
    "\n",
    "    # calculate total covaxin and covishield doses administered\n",
    "    # the value on the last day gives total since the data is cumulative\n",
    "    covaxin_doses = district_data[end_date + '-' + 'Covaxin (Doses Administered)'].values[0]\n",
    "    covishield_doses = district_data[end_date + '-' + 'CoviShield (Doses Administered)'].values[0]\n",
    "\n",
    "    # put 'NaN' where division by zero occurs\n",
    "    if(covaxin_doses == 0):\n",
    "        vaccine_type_ratio = float('NaN')\n",
    "    else:\n",
    "        vaccine_type_ratio = covishield_doses/covaxin_doses\n",
    "\n",
    "    # append data to our file\n",
    "    district_vaccine_type_ratio.loc[-1] = [district_key, vaccine_type_ratio]\n",
    "    district_vaccine_type_ratio.index += 1\n",
    "\n",
    "# dump data to csv files\n",
    "district_vaccine_type_ratio = district_vaccine_type_ratio.sort_values('vaccineratio')\n",
    "district_vaccine_type_ratio.to_csv('./output/district-vaccine-type-ratio.csv', index=False)\n",
    "district_vaccine_type_ratio.head()"
   ]
  },
  {
   "cell_type": "markdown",
   "id": "4ee1575e",
   "metadata": {},
   "source": [
    "# 5. Find the unique states in vaccine data"
   ]
  },
  {
   "cell_type": "code",
   "execution_count": 5,
   "id": "d60897f1",
   "metadata": {
    "execution": {
     "iopub.execute_input": "2021-09-21T16:55:28.958553Z",
     "iopub.status.busy": "2021-09-21T16:55:28.957981Z",
     "iopub.status.idle": "2021-09-21T16:55:28.961173Z",
     "shell.execute_reply": "2021-09-21T16:55:28.960832Z"
    }
   },
   "outputs": [
    {
     "name": "stdout",
     "output_type": "stream",
     "text": [
      "Number of unique state in vaccine data = 36\n"
     ]
    }
   ],
   "source": [
    "# Find the unique state names in the vaccine data\n",
    "state_names_from_vaccine_data = cowin_vaccine_data_districtwise['State'].dropna().unique()\n",
    "state_names_from_vaccine_data = [state_name.lower() for state_name in state_names_from_vaccine_data]\n",
    "print('Number of unique state in vaccine data =', len(state_names_from_vaccine_data))"
   ]
  },
  {
   "cell_type": "markdown",
   "id": "9e9c7f3b",
   "metadata": {},
   "source": [
    "# 6. Prepare state-vaccine-type-ratio.csv\n",
    "The vaccination data starts from 16 January 2021"
   ]
  },
  {
   "cell_type": "code",
   "execution_count": 6,
   "id": "2f9c4390",
   "metadata": {
    "execution": {
     "iopub.execute_input": "2021-09-21T16:55:28.980501Z",
     "iopub.status.busy": "2021-09-21T16:55:28.977146Z",
     "iopub.status.idle": "2021-09-21T16:55:29.082223Z",
     "shell.execute_reply": "2021-09-21T16:55:29.081892Z"
    }
   },
   "outputs": [
    {
     "data": {
      "text/html": [
       "<div>\n",
       "<style scoped>\n",
       "    .dataframe tbody tr th:only-of-type {\n",
       "        vertical-align: middle;\n",
       "    }\n",
       "\n",
       "    .dataframe tbody tr th {\n",
       "        vertical-align: top;\n",
       "    }\n",
       "\n",
       "    .dataframe thead th {\n",
       "        text-align: right;\n",
       "    }\n",
       "</style>\n",
       "<table border=\"1\" class=\"dataframe\">\n",
       "  <thead>\n",
       "    <tr style=\"text-align: right;\">\n",
       "      <th></th>\n",
       "      <th>stateid</th>\n",
       "      <th>vaccineratio</th>\n",
       "    </tr>\n",
       "  </thead>\n",
       "  <tbody>\n",
       "    <tr>\n",
       "      <th>0</th>\n",
       "      <td>DL</td>\n",
       "      <td>3.222403</td>\n",
       "    </tr>\n",
       "    <tr>\n",
       "      <th>5</th>\n",
       "      <td>TG</td>\n",
       "      <td>3.936070</td>\n",
       "    </tr>\n",
       "    <tr>\n",
       "      <th>22</th>\n",
       "      <td>JH</td>\n",
       "      <td>5.095742</td>\n",
       "    </tr>\n",
       "    <tr>\n",
       "      <th>34</th>\n",
       "      <td>AP</td>\n",
       "      <td>5.129828</td>\n",
       "    </tr>\n",
       "    <tr>\n",
       "      <th>6</th>\n",
       "      <td>TN</td>\n",
       "      <td>5.532841</td>\n",
       "    </tr>\n",
       "  </tbody>\n",
       "</table>\n",
       "</div>"
      ],
      "text/plain": [
       "   stateid  vaccineratio\n",
       "0       DL      3.222403\n",
       "5       TG      3.936070\n",
       "22      JH      5.095742\n",
       "34      AP      5.129828\n",
       "6       TN      5.532841"
      ]
     },
     "execution_count": 6,
     "metadata": {},
     "output_type": "execute_result"
    }
   ],
   "source": [
    "# Prepare a file for storing vaccine type ratio for each state\n",
    "state_vaccine_type_ratio = pd.DataFrame(columns=['stateid', 'vaccineratio'])\n",
    "\n",
    "for state in list(state_names_from_vaccine_data):\n",
    "    \n",
    "    # find the vaccination data for this state\n",
    "    state_data = cowin_vaccine_data_districtwise[cowin_vaccine_data_districtwise['State'].str.lower() == state]\n",
    "    \n",
    "    # find the state_code for this state\n",
    "    state_code = state_data['State_Code'].values[0]\n",
    "    \n",
    "    # define start_date and end_date based on our time period of analysis\n",
    "    start_date = datetime.datetime.strptime('10/01/2021', '%d/%m/%Y')\n",
    "    end_date = datetime.datetime.strptime('14/08/2021', '%d/%m/%Y')\n",
    "    \n",
    "    # change the date format to match the format in dataframe\n",
    "    start_date = start_date.strftime('%d/%m/%Y')\n",
    "    end_date = end_date.strftime('%d/%m/%Y')\n",
    "\n",
    "    # calculate total covaxin and covishield doses administered\n",
    "    # the value on the last day gives total since the data is cumulative\n",
    "    covaxin_doses = sum(state_data[end_date + '-' + 'Covaxin (Doses Administered)'])\n",
    "    covishield_doses = sum(state_data[end_date + '-' + 'CoviShield (Doses Administered)'])\n",
    "\n",
    "    # put 'NaN' where division by zero occurs\n",
    "    if(covaxin_doses == 0):\n",
    "        vaccine_type_ratio = float('NaN')\n",
    "    else:\n",
    "        vaccine_type_ratio = covishield_doses/covaxin_doses\n",
    "\n",
    "    # append data to our file\n",
    "    state_vaccine_type_ratio.loc[-1] = [state_code, vaccine_type_ratio]\n",
    "    state_vaccine_type_ratio.index += 1\n",
    "\n",
    "# dump data to csv files\n",
    "state_vaccine_type_ratio = state_vaccine_type_ratio.sort_values('vaccineratio')\n",
    "state_vaccine_type_ratio.to_csv('./output/state-vaccine-type-ratio.csv', index=False)\n",
    "state_vaccine_type_ratio.head()"
   ]
  },
  {
   "cell_type": "markdown",
   "id": "7bf7aa15",
   "metadata": {},
   "source": [
    "# 7. Prepare overall-vaccine-type-ratio.csv\n",
    "The vaccination data starts from 16 January 2021"
   ]
  },
  {
   "cell_type": "code",
   "execution_count": 7,
   "id": "c130794b",
   "metadata": {
    "execution": {
     "iopub.execute_input": "2021-09-21T16:55:29.091907Z",
     "iopub.status.busy": "2021-09-21T16:55:29.091226Z",
     "iopub.status.idle": "2021-09-21T16:55:29.099148Z",
     "shell.execute_reply": "2021-09-21T16:55:29.098692Z"
    }
   },
   "outputs": [
    {
     "data": {
      "text/html": [
       "<div>\n",
       "<style scoped>\n",
       "    .dataframe tbody tr th:only-of-type {\n",
       "        vertical-align: middle;\n",
       "    }\n",
       "\n",
       "    .dataframe tbody tr th {\n",
       "        vertical-align: top;\n",
       "    }\n",
       "\n",
       "    .dataframe thead th {\n",
       "        text-align: right;\n",
       "    }\n",
       "</style>\n",
       "<table border=\"1\" class=\"dataframe\">\n",
       "  <thead>\n",
       "    <tr style=\"text-align: right;\">\n",
       "      <th></th>\n",
       "      <th>overallid</th>\n",
       "      <th>vaccineratio</th>\n",
       "    </tr>\n",
       "  </thead>\n",
       "  <tbody>\n",
       "    <tr>\n",
       "      <th>0</th>\n",
       "      <td>India</td>\n",
       "      <td>7.009187</td>\n",
       "    </tr>\n",
       "  </tbody>\n",
       "</table>\n",
       "</div>"
      ],
      "text/plain": [
       "  overallid  vaccineratio\n",
       "0     India      7.009187"
      ]
     },
     "execution_count": 7,
     "metadata": {},
     "output_type": "execute_result"
    }
   ],
   "source": [
    "# Prepare a file for storing vaccine type ratio for India (overall)\n",
    "overall_vaccine_type_ratio = pd.DataFrame(columns=['overallid', 'vaccineratio'])\n",
    "\n",
    "# define start_date and end_date based on our time period of analysis\n",
    "start_date = datetime.datetime.strptime('10/01/2021', '%d/%m/%Y')\n",
    "end_date = datetime.datetime.strptime('14/08/2021', '%d/%m/%Y')\n",
    "\n",
    "# change the date format to match the format in dataframe\n",
    "start_date = start_date.strftime('%d/%m/%Y')\n",
    "end_date = end_date.strftime('%d/%m/%Y')\n",
    "\n",
    "# calculate total covaxin and covishield doses administered\n",
    "# the value on the last day gives total since the data is cumulative\n",
    "covaxin_doses = sum(cowin_vaccine_data_districtwise[end_date + '-' + 'Covaxin (Doses Administered)'])\n",
    "covishield_doses = sum(cowin_vaccine_data_districtwise[end_date + '-' + 'CoviShield (Doses Administered)'])\n",
    "\n",
    "# put 'NaN' where division by zero occurs\n",
    "if(covaxin_doses == 0):\n",
    "    vaccine_type_ratio = float('NaN')\n",
    "else:\n",
    "    vaccine_type_ratio = covishield_doses/covaxin_doses\n",
    "\n",
    "# append data to our file\n",
    "overall_vaccine_type_ratio.loc[-1] = ['India', vaccine_type_ratio]\n",
    "overall_vaccine_type_ratio.index += 1\n",
    "\n",
    "# dump data to csv files\n",
    "overall_vaccine_type_ratio.to_csv('./output/overall-vaccine-type-ratio.csv', index=False)\n",
    "overall_vaccine_type_ratio.head()"
   ]
  },
  {
   "cell_type": "markdown",
   "id": "44ed1bef",
   "metadata": {},
   "source": [
    "--------------------------------------------------------------------------------- END of Q7 ---------------------------------------------------------------------------------------------"
   ]
  }
 ],
 "metadata": {
  "kernelspec": {
   "display_name": "Python 3 (ipykernel)",
   "language": "python",
   "name": "python3"
  },
  "language_info": {
   "codemirror_mode": {
    "name": "ipython",
    "version": 3
   },
   "file_extension": ".py",
   "mimetype": "text/x-python",
   "name": "python",
   "nbconvert_exporter": "python",
   "pygments_lexer": "ipython3",
   "version": "3.8.10"
  }
 },
 "nbformat": 4,
 "nbformat_minor": 5
}
