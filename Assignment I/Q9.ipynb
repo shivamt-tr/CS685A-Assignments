{
 "cells": [
  {
   "cell_type": "markdown",
   "id": "27d960af",
   "metadata": {},
   "source": [
    "### Q9. (10 marks) For every state, find the date on which the entire population will get at least one does of vaccination. Assume the same rate of vaccination as in the week ending on 14th Aug, 2021. (Do not treat children separately, and assume the same rate of vaccination.) Output them in the following manner: stateid, populationlef t, rateofvaccination, date. Call this output file complete-vaccination.csv and the script/program to generate this complete-vaccination-generator.sh."
   ]
  },
  {
   "cell_type": "markdown",
   "id": "2874988f",
   "metadata": {},
   "source": [
    "# 1. Importing the necessary libraries"
   ]
  },
  {
   "cell_type": "code",
   "execution_count": 1,
   "id": "e4da41a5",
   "metadata": {},
   "outputs": [],
   "source": [
    "import json\n",
    "import numpy as np\n",
    "import pandas as pd\n",
    "import datetime\n",
    "from dateutil import relativedelta  # used for handling dates and doing relative arithmetic"
   ]
  },
  {
   "cell_type": "markdown",
   "id": "72341793",
   "metadata": {},
   "source": [
    "# 2. Load the cleaned vaccination data (done in Q1)"
   ]
  },
  {
   "cell_type": "code",
   "execution_count": 2,
   "id": "ec765cdc",
   "metadata": {},
   "outputs": [
    {
     "name": "stdout",
     "output_type": "stream",
     "text": [
      "The datatypes of columns containing numeric values has been changed from string to numeric\n"
     ]
    }
   ],
   "source": [
    "# Load the cowin_vaccine_data_districtwise.csv\n",
    "cowin_vaccine_data_districtwise = pd.read_csv('./dataset/cowin_vaccine_data_districtwise_clean.csv', dtype='string')\n",
    "cowin_vaccine_data_districtwise.head()\n",
    "\n",
    "# convert number values columns to numeric\n",
    "cowin_vaccine_data_districtwise.iloc[:, 4:] = cowin_vaccine_data_districtwise.iloc[:, 4:].apply(\n",
    "                                                                    pd.to_numeric, errors='ignore')\n",
    "print('The datatypes of columns containing numeric values has been changed from string to numeric')"
   ]
  },
  {
   "cell_type": "markdown",
   "id": "463ca320",
   "metadata": {},
   "source": [
    "# 3. Load the cleaned census data (done in Q1)"
   ]
  },
  {
   "cell_type": "code",
   "execution_count": 3,
   "id": "694158b6",
   "metadata": {},
   "outputs": [
    {
     "name": "stdout",
     "output_type": "stream",
     "text": [
      "  State     Level               Name       TOT_P      TOT_M      TOT_F\n",
      "0    00     India              India  1210854977  623270258  587584719\n",
      "1    01     STATE  Jammu and Kashmir    12541302    6640662    5900640\n",
      "2    01  DISTRICT            kupwara      870354     474190     396164\n",
      "3    01  DISTRICT             budgam      753745     398041     355704\n",
      "4    01  DISTRICT                leh      133487      78971      54516\n",
      "The datatypes of columns containing numeric values has been changed from string to numeric\n"
     ]
    }
   ],
   "source": [
    "# Load the census_data_clean.csv\n",
    "census_data = pd.read_csv('./dataset/census_data_clean.csv', dtype='string')\n",
    "print(census_data.head())\n",
    "\n",
    "# Convert the columns containing numbers to numeric datatype\n",
    "census_data.iloc[:, 3:] = census_data.iloc[:, 3:].apply(pd.to_numeric, errors='ignore')\n",
    "print('The datatypes of columns containing numeric values has been changed from string to numeric')"
   ]
  },
  {
   "cell_type": "markdown",
   "id": "8f989b95",
   "metadata": {},
   "source": [
    "# 4. Find the common states between census data and vaccine data"
   ]
  },
  {
   "cell_type": "code",
   "execution_count": 4,
   "id": "f8ba5328",
   "metadata": {},
   "outputs": [
    {
     "name": "stdout",
     "output_type": "stream",
     "text": [
      "Number of unique state in vaccine data = 36\n",
      "Number of unique state in census data = 35\n",
      "There are 35 states common between the vaccine data and census data\n"
     ]
    }
   ],
   "source": [
    "# Find the unique state names in the vaccine data\n",
    "state_names_from_vaccine_data = cowin_vaccine_data_districtwise['State'].dropna().unique()\n",
    "state_names_from_vaccine_data = [state_name.lower() for state_name in state_names_from_vaccine_data]\n",
    "print('Number of unique state in vaccine data =', len(state_names_from_vaccine_data))\n",
    "\n",
    "# Find the unique state names in the census\n",
    "state_names_from_census_data = census_data[census_data['Level'] == 'STATE']['Name'].dropna().unique()\n",
    "state_names_from_census_data = [state_name.lower() for state_name in state_names_from_census_data]\n",
    "print('Number of unique state in census data =', len(state_names_from_census_data))\n",
    "\n",
    "# Find the common states between the vaccine and census data\n",
    "common_states_vaccine_and_census = set(state_names_from_census_data).intersection(state_names_from_vaccine_data)\n",
    "print('There are', len(common_states_vaccine_and_census), 'states common between the vaccine data and census data')"
   ]
  },
  {
   "cell_type": "markdown",
   "id": "5e6416d9",
   "metadata": {},
   "source": [
    "# 5. Prepare complete-vaccination.csv"
   ]
  },
  {
   "cell_type": "code",
   "execution_count": 7,
   "id": "f5c14da8",
   "metadata": {},
   "outputs": [
    {
     "data": {
      "text/html": [
       "<div>\n",
       "<style scoped>\n",
       "    .dataframe tbody tr th:only-of-type {\n",
       "        vertical-align: middle;\n",
       "    }\n",
       "\n",
       "    .dataframe tbody tr th {\n",
       "        vertical-align: top;\n",
       "    }\n",
       "\n",
       "    .dataframe thead th {\n",
       "        text-align: right;\n",
       "    }\n",
       "</style>\n",
       "<table border=\"1\" class=\"dataframe\">\n",
       "  <thead>\n",
       "    <tr style=\"text-align: right;\">\n",
       "      <th></th>\n",
       "      <th>stateid</th>\n",
       "      <th>populationleft</th>\n",
       "      <th>rateofvaccination</th>\n",
       "      <th>date</th>\n",
       "    </tr>\n",
       "  </thead>\n",
       "  <tbody>\n",
       "    <tr>\n",
       "      <th>34</th>\n",
       "      <td>AN</td>\n",
       "      <td>147872</td>\n",
       "      <td>2526.857143</td>\n",
       "      <td>2021-10-11</td>\n",
       "    </tr>\n",
       "    <tr>\n",
       "      <th>20</th>\n",
       "      <td>AP</td>\n",
       "      <td>30870658</td>\n",
       "      <td>148431.142857</td>\n",
       "      <td>2022-03-09</td>\n",
       "    </tr>\n",
       "    <tr>\n",
       "      <th>24</th>\n",
       "      <td>AR</td>\n",
       "      <td>682750</td>\n",
       "      <td>1850.571429</td>\n",
       "      <td>2022-08-17</td>\n",
       "    </tr>\n",
       "    <tr>\n",
       "      <th>17</th>\n",
       "      <td>AS</td>\n",
       "      <td>19775523</td>\n",
       "      <td>177262.285714</td>\n",
       "      <td>2021-12-03</td>\n",
       "    </tr>\n",
       "    <tr>\n",
       "      <th>4</th>\n",
       "      <td>BR</td>\n",
       "      <td>78932074</td>\n",
       "      <td>317408.428571</td>\n",
       "      <td>2022-04-19</td>\n",
       "    </tr>\n",
       "  </tbody>\n",
       "</table>\n",
       "</div>"
      ],
      "text/plain": [
       "   stateid populationleft  rateofvaccination       date\n",
       "34      AN         147872        2526.857143 2021-10-11\n",
       "20      AP       30870658      148431.142857 2022-03-09\n",
       "24      AR         682750        1850.571429 2022-08-17\n",
       "17      AS       19775523      177262.285714 2021-12-03\n",
       "4       BR       78932074      317408.428571 2022-04-19"
      ]
     },
     "execution_count": 7,
     "metadata": {},
     "output_type": "execute_result"
    }
   ],
   "source": [
    "# Prepare a file for storing data for each state\n",
    "complete_vaccination = pd.DataFrame(columns=['stateid', 'populationleft', 'rateofvaccination', 'date'])\n",
    "\n",
    "# define start_date and end_date\n",
    "# the vaccination data starts from 16 January 2021\n",
    "start_date = datetime.datetime.strptime('16/01/2021', '%d/%m/%Y')\n",
    "end_date = datetime.datetime.strptime('14/08/2021', '%d/%m/%Y')\n",
    "\n",
    "# define dates for last week\n",
    "last_week_start_date = datetime.datetime.strptime('8/08/2021', '%d/%m/%Y')\n",
    "last_week_end_date = datetime.datetime.strptime('14/08/2021', '%d/%m/%Y')\n",
    "last_week_day_before_start_date = last_week_start_date - datetime.timedelta(days=1)\n",
    "\n",
    "# change the date format to match the format in dataframe\n",
    "start_date = start_date.strftime('%d/%m/%Y')\n",
    "end_date = end_date.strftime('%d/%m/%Y')\n",
    "last_week_start_date = last_week_start_date.strftime('%d/%m/%Y')\n",
    "last_week_end_date = last_week_end_date.strftime('%d/%m/%Y')\n",
    "last_week_day_before_start_date = last_week_day_before_start_date.strftime('%d/%m/%Y')\n",
    "\n",
    "for state in list(common_states_vaccine_and_census):                                                 \n",
    "    \n",
    "    # find the vaccination data for this state\n",
    "    state_data = cowin_vaccine_data_districtwise[cowin_vaccine_data_districtwise['State'].str.lower() == state]\n",
    "    \n",
    "    # find population data for this state\n",
    "    population_data = census_data[(census_data['Level'] == 'STATE') & (census_data['Name'].str.lower() == state)]\n",
    "                                                     \n",
    "    # find the state_code for this district\n",
    "    state_code = state_data.iloc[0]['State_Code']\n",
    "    \n",
    "    # calculate the number of first dose administered in the last week\n",
    "    dose_administered_last_week = sum(state_data[last_week_end_date + '-' + 'First Dose Administered']) - \\\n",
    "                        sum(state_data[last_week_day_before_start_date + '-' + 'First Dose Administered'])\n",
    "    \n",
    "    # calculate the rate of vaccination per day in the last week\n",
    "    rate = dose_administered_last_week / 7\n",
    "    \n",
    "    # calculate the population of this state\n",
    "    total_population = population_data['TOT_P'].values[0]\n",
    "    \n",
    "    # calculate the population left to be vaccinated\n",
    "    # population left is total population - number of people already administered first dose\n",
    "    population_left = total_population - sum(state_data[end_date + '-' + 'First Dose Administered'])\n",
    "    \n",
    "    # days required to vaccinate the remaining population with the first dose\n",
    "    days_required = int(population_left / rate)\n",
    "    \n",
    "    # date on which first dose is given to all the population\n",
    "    complete_vaccination_date = datetime.datetime.strptime(end_date, '%d/%m/%Y') + datetime.timedelta(days=days_required)\n",
    "\n",
    "    # append data to our dataframe\n",
    "    complete_vaccination.loc[-1] = [state_code, population_left, rate, complete_vaccination_date]\n",
    "    complete_vaccination.index += 1\n",
    "\n",
    "# dump data to csv file\n",
    "complete_vaccination = complete_vaccination.sort_values('stateid')\n",
    "complete_vaccination.to_csv('./output/complete-vaccination.csv', index=False)\n",
    "complete_vaccination.head()"
   ]
  },
  {
   "cell_type": "markdown",
   "id": "3ba02fa0",
   "metadata": {},
   "source": [
    "--------------------------------------------------------------------------------- END of Q9 ---------------------------------------------------------------------------------------------"
   ]
  }
 ],
 "metadata": {
  "kernelspec": {
   "display_name": "Python 3 (ipykernel)",
   "language": "python",
   "name": "python3"
  },
  "language_info": {
   "codemirror_mode": {
    "name": "ipython",
    "version": 3
   },
   "file_extension": ".py",
   "mimetype": "text/x-python",
   "name": "python",
   "nbconvert_exporter": "python",
   "pygments_lexer": "ipython3",
   "version": "3.9.6"
  }
 },
 "nbformat": 4,
 "nbformat_minor": 5
}
