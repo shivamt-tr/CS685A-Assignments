{
 "cells": [
  {
   "cell_type": "markdown",
   "id": "445e3ab2",
   "metadata": {},
   "source": [
    "### Q6.  (10 marks) For each state, district and overall, find the following ratios: total number of females vaccinated (either 1 or 2 doses) to total number of males vaccinated (same). For that district/state/country, find the ratio of population of females to males. (If a district is absent in 2011 census, drop it from analysis.) Now find the ratio of the two ratios, i.e., vaccination ratio to population ratio. Output them in the following manner: districtid, vaccinationratio, populationratio, ratioofratios. Call this output file vaccination-population-ratio.csv and the script/program to generate this vaccination-population-ratio-generator.sh. Sort the output by the final ratio."
   ]
  },
  {
   "cell_type": "markdown",
   "id": "2874988f",
   "metadata": {},
   "source": [
    "# 1. Importing the necessary libraries"
   ]
  },
  {
   "cell_type": "code",
   "execution_count": 1,
   "id": "e4da41a5",
   "metadata": {},
   "outputs": [],
   "source": [
    "import json\n",
    "import numpy as np\n",
    "import pandas as pd\n",
    "import datetime\n",
    "from dateutil import relativedelta  # used for handling dates and doing relative arithmetic"
   ]
  },
  {
   "cell_type": "markdown",
   "id": "72341793",
   "metadata": {},
   "source": [
    "# 2. Load the cleaned vaccination data (done in Q1)"
   ]
  },
  {
   "cell_type": "code",
   "execution_count": 2,
   "id": "ec765cdc",
   "metadata": {},
   "outputs": [
    {
     "name": "stdout",
     "output_type": "stream",
     "text": [
      "The datatypes of columns containing numeric values has been changed from string to numeric\n"
     ]
    }
   ],
   "source": [
    "# Load the cowin_vaccine_data_districtwise.csv\n",
    "cowin_vaccine_data_districtwise = pd.read_csv('./dataset/cowin_vaccine_data_districtwise_clean.csv', dtype='string')\n",
    "cowin_vaccine_data_districtwise.head()\n",
    "\n",
    "# convert number values columns to numeric\n",
    "cowin_vaccine_data_districtwise.iloc[:, 4:] = cowin_vaccine_data_districtwise.iloc[:, 4:].apply(\n",
    "                                                                    pd.to_numeric, errors='ignore')\n",
    "print('The datatypes of columns containing numeric values has been changed from string to numeric')"
   ]
  },
  {
   "cell_type": "markdown",
   "id": "7cc53fd7",
   "metadata": {},
   "source": [
    "# 3. Load census data and clean"
   ]
  },
  {
   "cell_type": "code",
   "execution_count": 3,
   "id": "563efee0",
   "metadata": {},
   "outputs": [],
   "source": [
    "# Load the census data\n",
    "census_data = pd.read_csv('./dataset/DDW_PCA0000_2011_Indiastatedist.csv', dtype='string')"
   ]
  },
  {
   "cell_type": "markdown",
   "id": "06d09b75",
   "metadata": {},
   "source": [
    "## (i) Discard the columns which are not useful for our purpose\n",
    "- Remove the rows containing data for rural and urban population separately. Keep only total population.\n",
    "- Keep only relevant columns: 'State', 'Level', 'Name', 'TOT_P', 'TOT_M', 'TOT_F'"
   ]
  },
  {
   "cell_type": "code",
   "execution_count": 4,
   "id": "4931e367",
   "metadata": {},
   "outputs": [],
   "source": [
    "# Keep only total counts data, i.e. discard separate counts of rural and urban population\n",
    "census_data = census_data[census_data['TRU'] == 'Total']\n",
    "# Keep relevant columns only\n",
    "census_data = census_data[['State', 'Level', 'Name', 'TOT_P', 'TOT_M', 'TOT_F']]"
   ]
  },
  {
   "cell_type": "markdown",
   "id": "7464b36d",
   "metadata": {},
   "source": [
    "## (ii) Convert columns containing numbers to numeric datatype\n",
    "As of now our dataframe contains all columns read as string datatype, so we will change the datatype of all numeric columns from string to numeric"
   ]
  },
  {
   "cell_type": "code",
   "execution_count": 5,
   "id": "40468586",
   "metadata": {},
   "outputs": [
    {
     "name": "stdout",
     "output_type": "stream",
     "text": [
      "The datatypes of columns containing numeric values has been changed from string to numeric\n",
      "State    string\n",
      "Level    string\n",
      "Name     string\n",
      "TOT_P     int64\n",
      "TOT_M     int64\n",
      "TOT_F     int64\n",
      "dtype: object\n"
     ]
    }
   ],
   "source": [
    "# Convert the columns containing numbers to numeric datatype\n",
    "census_data.iloc[:, 3:] = census_data.iloc[:, 3:].apply(pd.to_numeric, errors='ignore')\n",
    "print('The datatypes of columns containing numeric values has been changed from string to numeric')\n",
    "print(census_data.dtypes)"
   ]
  },
  {
   "cell_type": "markdown",
   "id": "fb0555f3",
   "metadata": {},
   "source": [
    "## (iii) Change the state names in the census data as per the vaccination data\n",
    "\n",
    "The state names in the census data are a bit different from the state names in the vaccination data.\n",
    "\n",
    "The following changes will be done:\n",
    "- NCT OF DELHI --> Delhi\n",
    "- DAMAN AND DIU --> DADRA AND NAGAR HAVELI AND DAMAN AND DIU\n",
    "- DADRA AND NAGAR HAVELI --> DADRA AND NAGAR HAVELI AND DAMAN AND DIU"
   ]
  },
  {
   "cell_type": "code",
   "execution_count": 6,
   "id": "e2d01bf2",
   "metadata": {},
   "outputs": [],
   "source": [
    "# Iterate over the rows in census_data dataframe\n",
    "for i, row in census_data.iterrows():\n",
    "\n",
    "    # Update the names of states\n",
    "    if(row['Level'] == 'STATE'):\n",
    "        \n",
    "        # Change the state name to title format. For ex. 'JAMMU & KASHMIR' to 'Jammu & Kashmir'\n",
    "        # Replace any occurance of '&' by 'and', since 'and' is used in vaccine data\n",
    "        census_data.at[i, 'Name'] = census_data.at[i, 'Name'].title()\n",
    "        census_data.at[i, 'Name'] = census_data.at[i, 'Name'].replace('&', 'and')\n",
    "        \n",
    "        # Change the state name for Delhi from 'Nct Of Delhi' to 'Delhi'\n",
    "        if(census_data.at[i, 'Name'] == 'Nct Of Delhi'):\n",
    "            census_data.at[i, 'Name'] = census_data.at[i, 'Name'].replace('Nct Of Delhi', 'Delhi')\n",
    "            \n",
    "        # Change the state name of 'Daman and Diu' and 'Dadra and Nagar Haveli'\n",
    "        if(census_data.at[i, 'Name'] == 'Daman and Diu'):\n",
    "            census_data.at[i, 'Name'] = census_data.at[i, 'Name'].replace('Daman and Diu', 'Dadra and Nagar Haveli and Daman and Diu')\n",
    "        if(census_data.at[i, 'Name'] == 'Dadra and Nagar Haveli'):\n",
    "            census_data.at[i, 'Name'] = census_data.at[i, 'Name'].replace('Dadra and Nagar Haveli', 'Dadra and Nagar Haveli and Daman and Diu')\n",
    "    \n",
    "    if(census_data.at[i, 'State'] == '26'):\n",
    "        # Change the state code of 'Dadra and Nagar Haveli' from '26' to '25' (same as Daman and Diu)\n",
    "        census_data.at[i, 'State'] = '25'"
   ]
  },
  {
   "cell_type": "markdown",
   "id": "64d3c850",
   "metadata": {},
   "source": [
    "## (iv) Merge the data for all components of of Delhi as a single district Delhi"
   ]
  },
  {
   "cell_type": "code",
   "execution_count": 7,
   "id": "0c8abd83",
   "metadata": {},
   "outputs": [
    {
     "name": "stdout",
     "output_type": "stream",
     "text": [
      "Operation Successful\n",
      "Components of Delhi merged and replaced by single district name \"Delhi\"\n"
     ]
    }
   ],
   "source": [
    "# find the stateid for Delhi (it is '07' in the census_data)\n",
    "delhi_stateid = census_data[(census_data['Level'] == 'STATE') & (census_data['Name'] == 'Delhi')]['State'].values[0]\n",
    "\n",
    "# get the row indexes for districts under 'Delhi' state\n",
    "delhi_districts_index = census_data[(census_data['Level'] == 'DISTRICT') & (census_data['State'] ==  delhi_stateid)].index\n",
    "\n",
    "# get the sum all the data of 'Delhi' for the numeric columns\n",
    "delhi_aggregate_data = list(census_data.iloc[delhi_districts_index, 3:].sum())\n",
    "\n",
    "# insert the aggregate data for 'Delhi' to our dataframe, append at last and increment index\n",
    "census_data.loc[-1] = ['07', 'DISTRICT', 'Delhi'] + delhi_aggregate_data\n",
    "\n",
    "# drop all the indexes corresponding to the 'Delhi' components and then reset indexes\n",
    "census_data.drop(delhi_districts_index, axis=0, inplace=True) \n",
    "census_data.reset_index(drop=True, inplace=True)  # reset indexes\n",
    "\n",
    "print('Operation Successful')\n",
    "print('Components of Delhi merged and replaced by single district name \"Delhi\"')"
   ]
  },
  {
   "cell_type": "markdown",
   "id": "76898895",
   "metadata": {},
   "source": [
    "## (v) Merge the data for Daman and Diu & Dadra and Nagar Haveli"
   ]
  },
  {
   "cell_type": "code",
   "execution_count": 8,
   "id": "222f3e02",
   "metadata": {},
   "outputs": [],
   "source": [
    "# find the state id for 'Dadra and Nagar Haveli and Daman and Diu'\n",
    "dadra_nagar_haveli_daman_diu_stateid = census_data[(census_data['Level'] == 'STATE') & (census_data['Name'] == 'Dadra and Nagar Haveli and Daman and Diu')]['State'].values[0]\n",
    "\n",
    "# get the row indexes for the state 'Dadra and Nagar Haveli' and 'Daman and Diu'\n",
    "dadra_nagar_haveli_daman_diu_index = census_data[(census_data['Level'] == 'STATE') & (census_data['State'] ==  dadra_nagar_haveli_daman_diu_stateid)].index\n",
    "\n",
    "# get the sum all the data of 'Dadra and Nagar Haveli' and 'Daman and Diu' for the numeric columns\n",
    "aggregate_data = list(census_data.iloc[dadra_nagar_haveli_daman_diu_index, 3:].sum())\n",
    "\n",
    "# insert the aggregate data to our dataframe, append at last and increment index\n",
    "census_data.loc[-1] = ['25', 'STATE', 'Dadra and Nagar Haveli and Daman and Diu'] + aggregate_data\n",
    "\n",
    "# drop the old indexes corresponding to the state\n",
    "census_data.drop(dadra_nagar_haveli_daman_diu_index, axis=0, inplace=True) \n",
    "census_data.reset_index(drop=True, inplace=True)  # reset indexes"
   ]
  },
  {
   "cell_type": "markdown",
   "id": "2039c2d2",
   "metadata": {},
   "source": [
    "## (vi) Split Andhra Pradesh into Andhra Pradesh and Telangana"
   ]
  },
  {
   "cell_type": "code",
   "execution_count": 9,
   "id": "7800943a",
   "metadata": {},
   "outputs": [],
   "source": [
    "################# Add entry for Telangana #################\n",
    "\n",
    "# The following districts are now part of 'Telangana' state\n",
    "tl_districts = ['Adilabad', 'Hyderabad', 'Karimnagar', 'Khammam', 'Mahbubnagar', 'Medak', 'Nalgonda', 'Nizamabad', 'Rangareddy', 'Warangal']\n",
    "tot_p = 0\n",
    "tot_m = 0\n",
    "tot_f = 0\n",
    "\n",
    "# Iterate over the rows in census_data dataframe\n",
    "for i, row in census_data.iterrows():\n",
    "    if(census_data.at[i, 'State'] == '28'):\n",
    "        if(census_data.at[i, 'Name'] in tl_districts):\n",
    "            census_data.at[i, 'State'] = '26'\n",
    "            tot_p += row[3]\n",
    "            tot_m += row[4]\n",
    "            tot_f += row[5]\n",
    "\n",
    "census_data.loc[-1] = ['26', 'STATE', 'Telangana', tot_p, tot_m, tot_f] \n",
    "census_data.index += 1\n",
    "\n",
    "################# Update data for Andhra Pradesh ##################\n",
    "\n",
    "# Iterate over the rows in census_data dataframe\n",
    "for i, row in census_data.iterrows():\n",
    "    if(row[0] == '28' and row[1] == 'STATE'):\n",
    "        census_data.at[i, 'TOT_P'] = row[3] - tot_p\n",
    "        census_data.at[i, 'TOT_M'] = row[4] - tot_m\n",
    "        census_data.at[i, 'TOT_F'] = row[5] - tot_f"
   ]
  },
  {
   "cell_type": "markdown",
   "id": "f1b0c594",
   "metadata": {},
   "source": [
    "## (vii) Update the district names for 'Sikkim' state"
   ]
  },
  {
   "cell_type": "code",
   "execution_count": 10,
   "id": "6cb35888",
   "metadata": {},
   "outputs": [],
   "source": [
    "sikkim_stateid = census_data[(census_data['Level'] == 'STATE') & (census_data['Name'] == 'Sikkim')]['State'].values[0]\n",
    "\n",
    "# Iterate over the rows in census_data dataframe\n",
    "for i, row in census_data.iterrows():\n",
    "    \n",
    "    # update the district names\n",
    "    if(census_data.at[i, 'State'] == sikkim_stateid and census_data.at[i, 'Level'] == 'DISTRICT'):\n",
    "        census_data.at[i, 'Name'] = census_data.at[i, 'Name'].replace('North  District', 'North Sikkim')\n",
    "        census_data.at[i, 'Name'] = census_data.at[i, 'Name'].replace('South District', 'South Sikkim')\n",
    "        census_data.at[i, 'Name'] = census_data.at[i, 'Name'].replace('East District', 'East Sikkim')\n",
    "        census_data.at[i, 'Name'] = census_data.at[i, 'Name'].replace('West District', 'West Sikkim')"
   ]
  },
  {
   "cell_type": "markdown",
   "id": "5c96d408",
   "metadata": {},
   "source": [
    "## (ix) Find the unique districts in the vaccine data and the census data"
   ]
  },
  {
   "cell_type": "code",
   "execution_count": 11,
   "id": "2f8a826e",
   "metadata": {},
   "outputs": [
    {
     "name": "stdout",
     "output_type": "stream",
     "text": [
      "Number of unique districts in vaccine data = 714\n",
      "Number of unique districts in district census data = 626\n"
     ]
    }
   ],
   "source": [
    "# Find the unique district names in the vaccine data\n",
    "district_names_from_vaccine_data = cowin_vaccine_data_districtwise['District'].dropna().unique()\n",
    "district_names_from_vaccine_data = [district_names.lower() for district_names in district_names_from_vaccine_data]\n",
    "print('Number of unique districts in vaccine data =', len(district_names_from_vaccine_data))\n",
    "\n",
    "# Find the unique district_names in census_data\n",
    "# Note: A lot of district names in the census data have trailing whitespace, remove it using strip()\n",
    "district_names_from_census_data = census_data[census_data['Level'] == 'DISTRICT']['Name'].dropna().unique()\n",
    "district_names_from_census_data = [district_names.lower().strip() for district_names in district_names_from_census_data]\n",
    "print('Number of unique districts in district census data =', len(district_names_from_census_data))"
   ]
  },
  {
   "cell_type": "markdown",
   "id": "708586e3",
   "metadata": {},
   "source": [
    "## (x) Find the common district names between district_census_data and vaccine data"
   ]
  },
  {
   "cell_type": "code",
   "execution_count": 12,
   "id": "ffb5f752",
   "metadata": {},
   "outputs": [
    {
     "name": "stdout",
     "output_type": "stream",
     "text": [
      "There are 540 districts common between the vaccine data and district census data\n"
     ]
    }
   ],
   "source": [
    "common_districts_vaccine_and_census = set(district_names_from_census_data).intersection(district_names_from_vaccine_data)\n",
    "print('There are', len(common_districts_vaccine_and_census), 'districts common between the vaccine data and district census data')"
   ]
  },
  {
   "cell_type": "markdown",
   "id": "3ac124ed",
   "metadata": {},
   "source": [
    "## (xi) Find the district in district_census_data that are not matching in vaccine data"
   ]
  },
  {
   "cell_type": "code",
   "execution_count": 13,
   "id": "830210ca",
   "metadata": {},
   "outputs": [
    {
     "name": "stdout",
     "output_type": "stream",
     "text": [
      "\n",
      "There are 86 Districts not in vaccine data =  {'jyotiba phule nagar', 'kanniyakumari', 'darjiling', 'khargone (west nimar)', 'debagarh', 'banas kantha', 'mahamaya nagar', 'buldana', 'north twenty four parganas', 'sabar kantha', 'jalor', 'sri potti sriramulu nellore', 'purbi singhbhum', 'kachchh', 'dibang valley', 'narsimhapur', 'kheri', 'chittaurgarh', 'bagalkot', 'pashchimi singhbhum', 'chikmagalur', 'shupiyan', 'bellary', 'shimoga', 'koch bihar', 'bangalore rural', 'mumbai suburban', 'gurgaon', 'mahrajganj', 'sahibzada ajit singh nagar', 'dadra & nagar haveli', 'barddhaman', 'haora', 'baudh', 'gondiya', 'gulbarga', 'baramula', 'south twenty four parganas', 'warangal', 'dhaulpur', 'hugli', 'badgam', 'mahbubnagar', 'ahmadnagar', 'mysore', 'hardwar', 'kaimur (bhabua)', 'maldah', 'the dangs', 'y.s.r.', 'tumkur', 'garhwal', 'kodarma', 'lahul & spiti', 'chamarajanagar', 'muktsar', 'purba champaran', 'faizabad', 'bandipore', 'bara banki', 'firozpur', 'jhunjhunun', 'mewat', 'allahabad', 'belgaum', 'mahesana', 'panch mahals', 'jaintia hills', 'jajapur', 'ahmadabad', 'dohad', 'pashchim champaran', 'leh(ladakh)', 'jagatsinghapur', 'the nilgiris', 'bangalore', 'kanshiram nagar', 'bid', 'north  & middle andaman', 'janjgir - champa', 'rangareddy', 'anugul', 'khandwa (east nimar)', 'sant ravidas nagar (bhadohi)', 'puruliya', 'baleshwar'}\n"
     ]
    }
   ],
   "source": [
    "# Find the districts in districts_census_data that are not in vacine data\n",
    "districts_not_in_vaccine_data = set(district_names_from_census_data) - set(district_names_from_vaccine_data)\n",
    "print('\\nThere are', len(districts_not_in_vaccine_data),\n",
    "      'Districts not in vaccine data = ', districts_not_in_vaccine_data)"
   ]
  },
  {
   "cell_type": "markdown",
   "id": "abff977d",
   "metadata": {},
   "source": [
    "## (xii) For each unmatched district in district_census_data, find the closest matching district name in the vaccine data\n",
    "- By using the longest-common-subsequence heuristic, find the closest matching district name to the unmatched districts in district_census_data.\n",
    "\n",
    "- A lot of district names have been modified in the recent years. So, we will have to update the district names in the district_census_data file.\n",
    "\n",
    "- To accomplish this, we will use longest_common_subsequence to match each unmatched district name from the district_census_data with the district names in the vaccine data file.\n",
    "\n",
    "- We will find the matching districts with max length of longest_common_subsequence and use the results to make modifications in the districts names of district_census_data."
   ]
  },
  {
   "cell_type": "code",
   "execution_count": 14,
   "id": "9e39cdea",
   "metadata": {},
   "outputs": [],
   "source": [
    "def lcs(x, y):\n",
    "    '''\n",
    "    This function is the dynamic programming implementation of longest-common-subsequence.\n",
    "    Input: strings x and y\n",
    "    Output: length of longest-common-subsequence\n",
    "    '''\n",
    "    m, n = len(x), len(y)  # m and n contain the length of strings x and y respectively\n",
    "    dp = np.zeros((m+1, n+1), dtype='int64')  # 2d array for dp initialized with zeros\n",
    "    for i in range(dp.shape[0]):\n",
    "        for j in range(dp.shape[1]):\n",
    "            # if the characters match then current cell will be diagonally previous cell value + 1\n",
    "            if(x[i-1] == y[j-1]):\n",
    "                dp[i][j] = dp[i-1][j-1] + 1\n",
    "            # else find the max of cell on the left and the cell above\n",
    "            else:\n",
    "                dp[i][j] = max(dp[i-1][j], dp[i][j-1])\n",
    "    # return the bottom right cell value that contains the lcs of x and y\n",
    "    return dp[m][n]"
   ]
  },
  {
   "cell_type": "code",
   "execution_count": 15,
   "id": "ea1c5070",
   "metadata": {},
   "outputs": [],
   "source": [
    "def find_matches():\n",
    "    '''\n",
    "    This function finds the closest district name match in cowin data\n",
    "    for each unmatched district in district_census_data\n",
    "    '''\n",
    "    \n",
    "    # for each district in district_census_data that didn't match in vaccine data\n",
    "    for unmatched_district in districts_not_in_vaccine_data:\n",
    "        # find the size of longest match\n",
    "        longest_size_match = max([lcs(unmatched_district, x) for x in district_names_from_vaccine_data])\n",
    "        # create an empty list to store the district names that have max\n",
    "        # size common subsequence with the unmatched district\n",
    "        similar_districts = list()\n",
    "        for district in district_names_from_vaccine_data:\n",
    "            if lcs(unmatched_district, district) == longest_size_match:\n",
    "                similar_districts.append(district)\n",
    "        print('{', unmatched_district, '} ~ ', similar_districts)"
   ]
  },
  {
   "cell_type": "markdown",
   "id": "c29c4a13",
   "metadata": {},
   "source": [
    "## **NOTE: Run below cell only if you want to check the LCS heuristic output**"
   ]
  },
  {
   "cell_type": "code",
   "execution_count": 16,
   "id": "107962d0",
   "metadata": {
    "scrolled": true
   },
   "outputs": [
    {
     "name": "stdout",
     "output_type": "stream",
     "text": [
      "The following unmatched districts are having max lcs with the following districts:\n"
     ]
    },
    {
     "data": {
      "text/plain": [
       "'NOTE: Uncomment below line to execute the lcs heuristic'"
      ]
     },
     "execution_count": 16,
     "metadata": {},
     "output_type": "execute_result"
    }
   ],
   "source": [
    "print('The following unmatched districts are having max lcs with the following districts:')\n",
    "\n",
    "'''NOTE: Uncomment below line to execute the lcs heuristic'''\n",
    "\n",
    "# find_matches()"
   ]
  },
  {
   "cell_type": "markdown",
   "id": "ab81e969",
   "metadata": {},
   "source": [
    "## (xiii) Modify the district names in the district_census_data\n",
    "\n",
    "Based on the above longest-common-subsequence heuristis, we will update the old district names"
   ]
  },
  {
   "cell_type": "code",
   "execution_count": 17,
   "id": "5f3dec07",
   "metadata": {},
   "outputs": [
    {
     "name": "stdout",
     "output_type": "stream",
     "text": [
      "The number of changes to be done = 86\n",
      "Operation Successful\n",
      " Census Data District Names Modified!\n"
     ]
    }
   ],
   "source": [
    "# define the modifications to be done, the below list contains pair of values\n",
    "# the first value in pair is the old name and the second value in pair is the new name\n",
    "district_modifications = [\n",
    "    ['  ', ' '],  # some district names have extra whitespace, replace it by a single whitespace\n",
    "    ['mahbubnagar', 'mahabubnagar'],\n",
    "    ['rangareddy', 'ranga reddy'],\n",
    "    ['sri potti sriramulu nellore', 's.p.s. nellore'],\n",
    "    ['y.s.r.', 'y.s.r. kadapa'],\n",
    "    ['kaimur (bhabua)', 'kaimur'],\n",
    "    ['pashchim champaran', 'west champaran'],\n",
    "    ['purba champaran', 'east champaran'],\n",
    "    ['janjgir - champa', 'janjgir champa'],\n",
    "    ['ahmadabad', 'ahmedabad'],\n",
    "    ['banas kantha', 'banaskantha'],\n",
    "    ['dohad', 'dahod'],\n",
    "    ['kachchh', 'kutch'],\n",
    "    ['mahesana', 'mehsana'],\n",
    "    ['panch mahals', 'panchmahal'],\n",
    "    ['sabar kantha', 'sabarkantha'],\n",
    "    ['the dangs', 'dang'],\n",
    "    ['lahul & spiti', 'lahaul and spiti'],\n",
    "    ['gurgaon', 'gurugram'],\n",
    "    ['mewat', 'nuh'],\n",
    "    ['kodarma', 'koderma'],\n",
    "    ['pashchimi singhbhum', 'west singhbhum'],\n",
    "    ['purbi singhbhum', 'east singhbhum'],\n",
    "    ['saraikelakharsawan', ''],\n",
    "    ['badgam', 'budgam'],\n",
    "    ['bandipore', 'bandipora'],\n",
    "    ['baramula', 'baramulla'],\n",
    "    ['shupiyan', 'shopiyan'],\n",
    "    ['bagalkot', 'bagalkote'],\n",
    "    ['bangalore', 'bengaluru'],\n",
    "    ['bangalore rural', 'bengaluru rural'],\n",
    "    ['belgaum', 'belagavi'],\n",
    "    ['bellary', 'ballari'],\n",
    "    ['bijapur', 'vijayapura'],\n",
    "    ['chamarajanagar', 'chamarajanagara'],\n",
    "    ['chikmagalur', 'chikkamagaluru'],\n",
    "    ['gulbarga', 'kalaburagi'],\n",
    "    ['mysore', 'mysuru'],\n",
    "    ['shimoga', 'shivamogga'],\n",
    "    ['tumkur', 'tumakuru'],\n",
    "    ['ahmadnagar', 'ahmednagar'],\n",
    "    ['bid', 'beed'],\n",
    "    ['buldana', 'buldhana'],\n",
    "    ['gondiya', 'gondia'],\n",
    "    ['khandwa (east nimar)', 'khandwa'],\n",
    "    ['khargone (west nimar)', 'khargone'],\n",
    "    ['narsimhapur', 'narsinghpur'],\n",
    "    ['anugul', 'angul'],\n",
    "    ['baleshwar', 'balasore'],\n",
    "    ['baudh', 'boudh'],\n",
    "    ['debagarh', 'deogarh'],\n",
    "    ['jagatsinghapur', 'jagatsinghpur'],\n",
    "    ['jajapur', 'jajpur'],\n",
    "    ['firozpur', 'ferozepur'],\n",
    "    ['muktsar', 'sri muktsar sahib'],\n",
    "    ['sahibzada ajit singh nagar', 's.a.s. nagar'],\n",
    "    ['chittaurgarh', 'chittorgarh'],\n",
    "    ['dhaulpur', 'dholpur'],\n",
    "    ['jalor', 'jalore'],\n",
    "    ['jhunjhunun', 'jhunjhunu'],\n",
    "    ['kanniyakumari', 'kanyakumari'],\n",
    "    ['the nilgiris', 'nilgiris'],\n",
    "    ['allahabad', 'prayagraj'],\n",
    "    ['bara banki', 'barabanki'],\n",
    "    ['faizabad', 'ayodhya'],\n",
    "    ['jyotiba phule nagar', 'amroha'],\n",
    "    ['kanshiram nagar', 'kasganj'],\n",
    "    ['mahamaya nagar', 'hathras'],\n",
    "    ['mahrajganj', 'maharajganj'],\n",
    "    ['sant ravidas nagar (bhadohi)', 'bhadohi'],\n",
    "    ['garhwal', 'pauri garhwal'],\n",
    "    ['hardwar', 'haridwar'],\n",
    "    ['darjiling', 'darjeeling'],\n",
    "    ['haora', 'howrah'],\n",
    "    ['hugli', 'hooghly'],\n",
    "    ['koch bihar', 'cooch behar'],\n",
    "    ['maldah', 'malda'],\n",
    "    ['north twenty four parganas', 'north 24 parganas'],\n",
    "    ['puruliya', 'purulia'],\n",
    "    ['south twenty four parganas', 'south 24 parganas'],\n",
    "    ['north & middle andaman', 'north and middle andaman'],\n",
    "    ['leh(ladakh)', 'leh'],\n",
    "    ['dadra & nagar haveli', 'dadra and nagar haveli'],\n",
    "    ['lakhimpur', 'lakhimpur kheri'],\n",
    "    ['kheri', 'lakhimpur kheri'],\n",
    "    ['dibang valley', 'upper dibang valley']\n",
    "]\n",
    "\n",
    "print('The number of changes to be done =', len(district_modifications))\n",
    "\n",
    "# iterate over the rows in census_data dataframe\n",
    "for i, row in census_data.iterrows():\n",
    "    # update the district names\n",
    "    if(census_data.at[i, 'Level'] == 'DISTRICT'):\n",
    "        # remove the trailing whitespace and convert them to lowercase\n",
    "        census_data.at[i, 'Name'] = census_data.at[i, 'Name'].strip().lower()\n",
    "        # replace the double space by a single space (some district names have double space between words)\n",
    "        census_data.at[i, 'Name'] = census_data.at[i, 'Name'].replace('  ', ' ')\n",
    "        # for each modification in the above nested list, update the district_names_from_census_data\n",
    "        for modification in district_modifications:\n",
    "            if(census_data.at[i, 'Name'] == modification[0]):\n",
    "                census_data.at[i, 'Name'] = census_data.at[i, 'Name'].replace(modification[0], modification[1])\n",
    "\n",
    "print('Operation Successful\\n Census Data District Names Modified!')"
   ]
  },
  {
   "cell_type": "markdown",
   "id": "7b25f25c",
   "metadata": {},
   "source": [
    "## (xiv) Save the cleaned dataset for future use"
   ]
  },
  {
   "cell_type": "code",
   "execution_count": 18,
   "id": "dc518ade",
   "metadata": {},
   "outputs": [],
   "source": [
    "census_data.to_csv('./dataset/census_data_clean.csv', index=False)"
   ]
  },
  {
   "cell_type": "markdown",
   "id": "91111dff",
   "metadata": {},
   "source": [
    "# 4. Find the common districts between census data and vaccine data"
   ]
  },
  {
   "cell_type": "code",
   "execution_count": 19,
   "id": "03fbd67f",
   "metadata": {},
   "outputs": [
    {
     "name": "stdout",
     "output_type": "stream",
     "text": [
      "Number of unique districts in vaccine data = 714\n",
      "Number of unique districts in district census data = 625\n",
      "There are 620 districts common between the vaccine data and district census data\n"
     ]
    }
   ],
   "source": [
    "# Find the unique district names in the vaccine data\n",
    "district_names_from_vaccine_data = cowin_vaccine_data_districtwise['District'].dropna().unique()\n",
    "district_names_from_vaccine_data = [district_names.lower() for district_names in district_names_from_vaccine_data]\n",
    "print('Number of unique districts in vaccine data =', len(district_names_from_vaccine_data))\n",
    "\n",
    "# Find the unique district_names in census_data\n",
    "district_names_from_census_data = census_data[census_data['Level'] == 'DISTRICT']['Name'].dropna().unique()\n",
    "district_names_from_census_data = [district_names.lower() for district_names in district_names_from_census_data]\n",
    "print('Number of unique districts in district census data =', len(district_names_from_census_data))\n",
    "\n",
    "# Find the common districts between the vaccine and census data\n",
    "common_districts_vaccine_and_census = set(district_names_from_census_data).intersection(district_names_from_vaccine_data)\n",
    "print('There are', len(common_districts_vaccine_and_census), 'districts common between the vaccine data and district census data')"
   ]
  },
  {
   "cell_type": "markdown",
   "id": "8b50a6a4",
   "metadata": {},
   "source": [
    "# 5. Prepare district-vaccination-population-ratio.csv"
   ]
  },
  {
   "cell_type": "code",
   "execution_count": 20,
   "id": "d758408a",
   "metadata": {},
   "outputs": [
    {
     "data": {
      "text/html": [
       "<div>\n",
       "<style scoped>\n",
       "    .dataframe tbody tr th:only-of-type {\n",
       "        vertical-align: middle;\n",
       "    }\n",
       "\n",
       "    .dataframe tbody tr th {\n",
       "        vertical-align: top;\n",
       "    }\n",
       "\n",
       "    .dataframe thead th {\n",
       "        text-align: right;\n",
       "    }\n",
       "</style>\n",
       "<table border=\"1\" class=\"dataframe\">\n",
       "  <thead>\n",
       "    <tr style=\"text-align: right;\">\n",
       "      <th></th>\n",
       "      <th>districtid</th>\n",
       "      <th>vaccinationratio</th>\n",
       "      <th>populationratio</th>\n",
       "      <th>ratioofratios</th>\n",
       "    </tr>\n",
       "  </thead>\n",
       "  <tbody>\n",
       "    <tr>\n",
       "      <th>130</th>\n",
       "      <td>NL_Kiphire</td>\n",
       "      <td>0.531756</td>\n",
       "      <td>0.956225</td>\n",
       "      <td>0.556099</td>\n",
       "    </tr>\n",
       "    <tr>\n",
       "      <th>48</th>\n",
       "      <td>DN_Dadra and Nagar Haveli</td>\n",
       "      <td>0.441210</td>\n",
       "      <td>0.773890</td>\n",
       "      <td>0.570119</td>\n",
       "    </tr>\n",
       "    <tr>\n",
       "      <th>380</th>\n",
       "      <td>HR_Nuh</td>\n",
       "      <td>0.537717</td>\n",
       "      <td>0.907100</td>\n",
       "      <td>0.592787</td>\n",
       "    </tr>\n",
       "    <tr>\n",
       "      <th>283</th>\n",
       "      <td>JK_Srinagar</td>\n",
       "      <td>0.539059</td>\n",
       "      <td>0.899529</td>\n",
       "      <td>0.599268</td>\n",
       "    </tr>\n",
       "    <tr>\n",
       "      <th>333</th>\n",
       "      <td>TN_Kancheepuram</td>\n",
       "      <td>0.652007</td>\n",
       "      <td>0.986257</td>\n",
       "      <td>0.661093</td>\n",
       "    </tr>\n",
       "  </tbody>\n",
       "</table>\n",
       "</div>"
      ],
      "text/plain": [
       "                    districtid  vaccinationratio  populationratio  \\\n",
       "130                 NL_Kiphire          0.531756         0.956225   \n",
       "48   DN_Dadra and Nagar Haveli          0.441210         0.773890   \n",
       "380                     HR_Nuh          0.537717         0.907100   \n",
       "283                JK_Srinagar          0.539059         0.899529   \n",
       "333            TN_Kancheepuram          0.652007         0.986257   \n",
       "\n",
       "     ratioofratios  \n",
       "130       0.556099  \n",
       "48        0.570119  \n",
       "380       0.592787  \n",
       "283       0.599268  \n",
       "333       0.661093  "
      ]
     },
     "execution_count": 20,
     "metadata": {},
     "output_type": "execute_result"
    }
   ],
   "source": [
    "# Prepare a file for storing vaccination population ratio for each district\n",
    "district_vaccination_population_ratio = pd.DataFrame(columns=['districtid', 'vaccinationratio', 'populationratio', 'ratioofratios'])\n",
    "\n",
    "for district in list(common_districts_vaccine_and_census):                                                 \n",
    "    \n",
    "    # find the vaccination data for this district\n",
    "    district_data = cowin_vaccine_data_districtwise[cowin_vaccine_data_districtwise['District'].str.lower() == district]\n",
    "    \n",
    "    # find population data for this district\n",
    "    population_data = census_data[(census_data['Level'] == 'DISTRICT') & (census_data['Name'].str.lower() == district)]\n",
    "                                                     \n",
    "    # find the district_key for this district\n",
    "    district_key = district_data['District_Key'].values[0]\n",
    "\n",
    "    # define start_date and end_date\n",
    "    # the vaccination data starts from 16 January 2021\n",
    "    start_date = datetime.datetime.strptime('16/01/2021', '%d/%m/%Y')\n",
    "    end_date = datetime.datetime.strptime('14/08/2021', '%d/%m/%Y')\n",
    "    \n",
    "    # change the date format to match the format in dataframe\n",
    "    start_date = start_date.strftime('%d/%m/%Y')\n",
    "    end_date = end_date.strftime('%d/%m/%Y')\n",
    "    \n",
    "    # calculate total males and females vaccinated                                                 \n",
    "    total_males_vaccinated = district_data[end_date + '-' + 'Male(Individuals Vaccinated)'].values[0]\n",
    "    total_females_vaccinated = district_data[end_date + '-' + 'Female(Individuals Vaccinated)'].values[0]                                                 \n",
    "\n",
    "    # calculate population of males and females\n",
    "    total_males = population_data['TOT_M'].values[0]\n",
    "    total_females = population_data['TOT_F'].values[0]\n",
    "    \n",
    "    # calculate the required ratios, put NaN if division by zero occurs\n",
    "    if(total_males_vaccinated == 0):\n",
    "        vaccination_ratio = float('NaN')\n",
    "    else:\n",
    "        vaccination_ratio = total_females_vaccinated / total_males_vaccinated\n",
    "    \n",
    "    if(total_males == 0):\n",
    "        population_ratio = float('NaN')\n",
    "    else:\n",
    "        population_ratio = total_females / total_males\n",
    "        \n",
    "    if(population_ratio == 0 or population_ratio == float('NaN')):\n",
    "        ratioofratios = float('NaN')\n",
    "    else:\n",
    "        ratioofratios = vaccination_ratio / population_ratio\n",
    "\n",
    "    # append data to dataframe\n",
    "    district_vaccination_population_ratio.loc[-1] = [district_key, vaccination_ratio, population_ratio, ratioofratios]\n",
    "    district_vaccination_population_ratio.index += 1\n",
    "\n",
    "# dump data to csv files\n",
    "district_vaccination_population_ratio = district_vaccination_population_ratio.sort_values('ratioofratios')\n",
    "district_vaccination_population_ratio.to_csv('./output/district-vaccination-population-ratio.csv', index=False)\n",
    "district_vaccination_population_ratio.head()"
   ]
  },
  {
   "cell_type": "markdown",
   "id": "6bb4f04a",
   "metadata": {},
   "source": [
    "# 6. Find the common states between census data and vaccine data"
   ]
  },
  {
   "cell_type": "code",
   "execution_count": 21,
   "id": "e0e5f5f3",
   "metadata": {},
   "outputs": [
    {
     "name": "stdout",
     "output_type": "stream",
     "text": [
      "Number of unique state in vaccine data = 36\n",
      "Number of unique state in census data = 35\n",
      "There are 35 states common between the vaccine data and census data\n"
     ]
    }
   ],
   "source": [
    "# Find the unique state names in the vaccine data\n",
    "state_names_from_vaccine_data = cowin_vaccine_data_districtwise['State'].dropna().unique()\n",
    "state_names_from_vaccine_data = [state_name.lower() for state_name in state_names_from_vaccine_data]\n",
    "print('Number of unique state in vaccine data =', len(state_names_from_vaccine_data))\n",
    "\n",
    "# Find the unique state names in the census\n",
    "state_names_from_census_data = census_data[census_data['Level'] == 'STATE']['Name'].dropna().unique()\n",
    "state_names_from_census_data = [state_name.lower() for state_name in state_names_from_census_data]\n",
    "print('Number of unique state in census data =', len(state_names_from_census_data))\n",
    "\n",
    "# Find the common states between the vaccine and census data\n",
    "common_states_vaccine_and_census = set(state_names_from_census_data).intersection(state_names_from_vaccine_data)\n",
    "print('There are', len(common_states_vaccine_and_census), 'states common between the vaccine data and census data')"
   ]
  },
  {
   "cell_type": "markdown",
   "id": "5da0243a",
   "metadata": {},
   "source": [
    "# 7. Prepare state-vaccination-population-ratio.csv"
   ]
  },
  {
   "cell_type": "code",
   "execution_count": 22,
   "id": "45404192",
   "metadata": {},
   "outputs": [
    {
     "data": {
      "text/html": [
       "<div>\n",
       "<style scoped>\n",
       "    .dataframe tbody tr th:only-of-type {\n",
       "        vertical-align: middle;\n",
       "    }\n",
       "\n",
       "    .dataframe tbody tr th {\n",
       "        vertical-align: top;\n",
       "    }\n",
       "\n",
       "    .dataframe thead th {\n",
       "        text-align: right;\n",
       "    }\n",
       "</style>\n",
       "<table border=\"1\" class=\"dataframe\">\n",
       "  <thead>\n",
       "    <tr style=\"text-align: right;\">\n",
       "      <th></th>\n",
       "      <th>stateid</th>\n",
       "      <th>vaccinationratio</th>\n",
       "      <th>populationratio</th>\n",
       "      <th>ratioofratios</th>\n",
       "    </tr>\n",
       "  </thead>\n",
       "  <tbody>\n",
       "    <tr>\n",
       "      <th>2</th>\n",
       "      <td>DN</td>\n",
       "      <td>0.497221</td>\n",
       "      <td>0.705965</td>\n",
       "      <td>0.704315</td>\n",
       "    </tr>\n",
       "    <tr>\n",
       "      <th>14</th>\n",
       "      <td>NL</td>\n",
       "      <td>0.752385</td>\n",
       "      <td>0.930907</td>\n",
       "      <td>0.808228</td>\n",
       "    </tr>\n",
       "    <tr>\n",
       "      <th>34</th>\n",
       "      <td>JK</td>\n",
       "      <td>0.745552</td>\n",
       "      <td>0.888562</td>\n",
       "      <td>0.839055</td>\n",
       "    </tr>\n",
       "    <tr>\n",
       "      <th>11</th>\n",
       "      <td>DL</td>\n",
       "      <td>0.739717</td>\n",
       "      <td>0.867957</td>\n",
       "      <td>0.852251</td>\n",
       "    </tr>\n",
       "    <tr>\n",
       "      <th>6</th>\n",
       "      <td>UP</td>\n",
       "      <td>0.779276</td>\n",
       "      <td>0.912437</td>\n",
       "      <td>0.854060</td>\n",
       "    </tr>\n",
       "  </tbody>\n",
       "</table>\n",
       "</div>"
      ],
      "text/plain": [
       "   stateid  vaccinationratio  populationratio  ratioofratios\n",
       "2       DN          0.497221         0.705965       0.704315\n",
       "14      NL          0.752385         0.930907       0.808228\n",
       "34      JK          0.745552         0.888562       0.839055\n",
       "11      DL          0.739717         0.867957       0.852251\n",
       "6       UP          0.779276         0.912437       0.854060"
      ]
     },
     "execution_count": 22,
     "metadata": {},
     "output_type": "execute_result"
    }
   ],
   "source": [
    "# Prepare a file for storing vaccination population ratio for each state\n",
    "state_vaccination_population_ratio = pd.DataFrame(columns=['stateid', 'vaccinationratio', 'populationratio', 'ratioofratios'])\n",
    "\n",
    "for state in list(common_states_vaccine_and_census):                                                 \n",
    "    \n",
    "    # find the vaccination data for this state\n",
    "    state_data = cowin_vaccine_data_districtwise[cowin_vaccine_data_districtwise['State'].str.lower() == state]\n",
    "    \n",
    "    # find population data for this state\n",
    "    population_data = census_data[(census_data['Level'] == 'STATE') & (census_data['Name'].str.lower() == state)]\n",
    "                                                     \n",
    "    # find the state_code for this district\n",
    "    state_code = state_data.iloc[0]['State_Code']\n",
    "\n",
    "    # define start_date and end_date\n",
    "    # the vaccination data starts from 16 January 2021\n",
    "    start_date = datetime.datetime.strptime('16/01/2021', '%d/%m/%Y')\n",
    "    end_date = datetime.datetime.strptime('14/08/2021', '%d/%m/%Y')\n",
    "    \n",
    "    # change the date format to match the format in dataframe\n",
    "    start_date = start_date.strftime('%d/%m/%Y')\n",
    "    end_date = end_date.strftime('%d/%m/%Y')\n",
    "    \n",
    "    # calculate total males and females vaccinated                                                 \n",
    "    total_males_vaccinated = sum(state_data[end_date + '-' + 'Male(Individuals Vaccinated)'])\n",
    "    total_females_vaccinated = sum(state_data[end_date + '-' + 'Female(Individuals Vaccinated)'])                                                 \n",
    "\n",
    "    # calculate population of males and females\n",
    "    total_males = population_data['TOT_M'].values[0]\n",
    "    total_females = population_data['TOT_F'].values[0]\n",
    "    \n",
    "    # calculate the required ratios, put NaN if division by zero occurs\n",
    "    if(total_males_vaccinated == 0):\n",
    "        vaccination_ratio = float('NaN')\n",
    "    else:\n",
    "        vaccination_ratio = total_females_vaccinated / total_males_vaccinated\n",
    "    \n",
    "    if(total_males == 0):\n",
    "        population_ratio = float('NaN')\n",
    "    else:\n",
    "        populationratio = total_females / total_males\n",
    "        \n",
    "    if(population_ratio == 0 or population_ratio == float('NaN')):\n",
    "        ratioofratios = float('NaN')\n",
    "    else:\n",
    "        ratioofratios = vaccination_ratio / populationratio\n",
    "\n",
    "    # append data to dataframe\n",
    "    state_vaccination_population_ratio.loc[-1] = [state_code, vaccination_ratio, populationratio, ratioofratios]\n",
    "    state_vaccination_population_ratio.index += 1\n",
    "\n",
    "# dump data to csv files\n",
    "state_vaccination_population_ratio = state_vaccination_population_ratio.sort_values('ratioofratios')\n",
    "state_vaccination_population_ratio.to_csv('./output/state-vaccination-population-ratio.csv', index=False)\n",
    "state_vaccination_population_ratio.head()"
   ]
  },
  {
   "cell_type": "markdown",
   "id": "e8f29fff",
   "metadata": {},
   "source": [
    "# 8. Prepare overall-vaccination-population-ratio.csv"
   ]
  },
  {
   "cell_type": "code",
   "execution_count": 23,
   "id": "dfd3bcf3",
   "metadata": {},
   "outputs": [
    {
     "data": {
      "text/html": [
       "<div>\n",
       "<style scoped>\n",
       "    .dataframe tbody tr th:only-of-type {\n",
       "        vertical-align: middle;\n",
       "    }\n",
       "\n",
       "    .dataframe tbody tr th {\n",
       "        vertical-align: top;\n",
       "    }\n",
       "\n",
       "    .dataframe thead th {\n",
       "        text-align: right;\n",
       "    }\n",
       "</style>\n",
       "<table border=\"1\" class=\"dataframe\">\n",
       "  <thead>\n",
       "    <tr style=\"text-align: right;\">\n",
       "      <th></th>\n",
       "      <th>overallid</th>\n",
       "      <th>vaccinationratio</th>\n",
       "      <th>populationratio</th>\n",
       "      <th>ratioofratios</th>\n",
       "    </tr>\n",
       "  </thead>\n",
       "  <tbody>\n",
       "    <tr>\n",
       "      <th>0</th>\n",
       "      <td>India</td>\n",
       "      <td>0.890081</td>\n",
       "      <td>0.942745</td>\n",
       "      <td>0.944138</td>\n",
       "    </tr>\n",
       "  </tbody>\n",
       "</table>\n",
       "</div>"
      ],
      "text/plain": [
       "  overallid  vaccinationratio  populationratio  ratioofratios\n",
       "0     India          0.890081         0.942745       0.944138"
      ]
     },
     "execution_count": 23,
     "metadata": {},
     "output_type": "execute_result"
    }
   ],
   "source": [
    "# Prepare a file for storing vaccination population ratio for India (overall)\n",
    "overall_vaccination_population_ratio = pd.DataFrame(columns=['overallid', 'vaccinationratio', 'populationratio', 'ratioofratios'])\n",
    "\n",
    "# define start_date and end_date\n",
    "# the vaccination data starts from 16 January 2021\n",
    "start_date = datetime.datetime.strptime('16/01/2021', '%d/%m/%Y')\n",
    "end_date = datetime.datetime.strptime('14/08/2021', '%d/%m/%Y')\n",
    "\n",
    "# change the date format to match the format in dataframe\n",
    "start_date = start_date.strftime('%d/%m/%Y')\n",
    "end_date = end_date.strftime('%d/%m/%Y')\n",
    "    \n",
    "# calculate total males and females vaccinated                                                 \n",
    "total_males_vaccinated = sum(cowin_vaccine_data_districtwise[end_date + '-' + 'Male(Individuals Vaccinated)'])\n",
    "total_females_vaccinated = sum(cowin_vaccine_data_districtwise[end_date + '-' + 'Female(Individuals Vaccinated)'])                                                 \n",
    "\n",
    "# calculate population of males and females\n",
    "total_males = census_data[census_data['Level'] == 'India']['TOT_M'].values[0]\n",
    "total_females = census_data[census_data['Level'] == 'India']['TOT_F'].values[0]\n",
    "\n",
    "# calculate the required ratios, put NaN if division by zero occurs\n",
    "if(total_males_vaccinated == 0):\n",
    "    vaccination_ratio = float('NaN')\n",
    "else:\n",
    "    vaccination_ratio = total_females_vaccinated / total_males_vaccinated\n",
    "\n",
    "if(total_males == 0):\n",
    "    population_ratio = float('NaN')\n",
    "else:\n",
    "    populationratio = total_females / total_males\n",
    "\n",
    "if(population_ratio == 0 or population_ratio == float('NaN')):\n",
    "    ratioofratios = float('NaN')\n",
    "else:\n",
    "    ratioofratios = vaccination_ratio / populationratio\n",
    "\n",
    "# append data to dataframe\n",
    "overall_vaccination_population_ratio.loc[-1] = ['India', vaccination_ratio, populationratio, ratioofratios]\n",
    "overall_vaccination_population_ratio.index += 1\n",
    "\n",
    "# dump data to csv files\n",
    "overall_vaccination_population_ratio.to_csv('./output/overall-vaccination-population-ratio.csv', index=False)\n",
    "overall_vaccination_population_ratio.head()"
   ]
  },
  {
   "cell_type": "markdown",
   "id": "f5140355",
   "metadata": {},
   "source": [
    "--------------------------------------------------------------------------------- END of Q6 ---------------------------------------------------------------------------------------------"
   ]
  }
 ],
 "metadata": {
  "kernelspec": {
   "display_name": "Python 3 (ipykernel)",
   "language": "python",
   "name": "python3"
  },
  "language_info": {
   "codemirror_mode": {
    "name": "ipython",
    "version": 3
   },
   "file_extension": ".py",
   "mimetype": "text/x-python",
   "name": "python",
   "nbconvert_exporter": "python",
   "pygments_lexer": "ipython3",
   "version": "3.9.6"
  }
 },
 "nbformat": 4,
 "nbformat_minor": 5
}
