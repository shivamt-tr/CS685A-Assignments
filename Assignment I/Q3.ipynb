{
 "cells": [
  {
   "cell_type": "markdown",
   "id": "c9432b23",
   "metadata": {},
   "source": [
    "### Question 3. (10 marks) For every district i, find the number of cases from the Covid-19 portal. Take the time-period of analysis from 15th March, 2020 to 14th August, 2021. Output the total number of cases per week for every district in the following manner: districtid, timeid, cases, where timeid is the id of the time (week/month/overall) starting from 1. Call this output file cases-time.csv and the script/program to generate this case-generator.sh where time is week, month, and overall."
   ]
  },
  {
   "cell_type": "markdown",
   "id": "2874988f",
   "metadata": {},
   "source": [
    "# 1. Importing the necessary libraries"
   ]
  },
  {
   "cell_type": "code",
   "execution_count": 1,
   "id": "e4da41a5",
   "metadata": {},
   "outputs": [],
   "source": [
    "import json\n",
    "import numpy as np\n",
    "import pandas as pd\n",
    "import datetime\n",
    "from dateutil import relativedelta  # used for handling dates and doing relative arithmetic"
   ]
  },
  {
   "cell_type": "markdown",
   "id": "6134b270",
   "metadata": {},
   "source": [
    "# 2. Load districts cases data and clean"
   ]
  },
  {
   "cell_type": "code",
   "execution_count": 2,
   "id": "064ba3b9",
   "metadata": {},
   "outputs": [
    {
     "data": {
      "text/html": [
       "<div>\n",
       "<style scoped>\n",
       "    .dataframe tbody tr th:only-of-type {\n",
       "        vertical-align: middle;\n",
       "    }\n",
       "\n",
       "    .dataframe tbody tr th {\n",
       "        vertical-align: top;\n",
       "    }\n",
       "\n",
       "    .dataframe thead th {\n",
       "        text-align: right;\n",
       "    }\n",
       "</style>\n",
       "<table border=\"1\" class=\"dataframe\">\n",
       "  <thead>\n",
       "    <tr style=\"text-align: right;\">\n",
       "      <th></th>\n",
       "      <th>Date</th>\n",
       "      <th>State</th>\n",
       "      <th>District</th>\n",
       "      <th>Confirmed</th>\n",
       "      <th>Recovered</th>\n",
       "      <th>Deceased</th>\n",
       "      <th>Other</th>\n",
       "      <th>Tested</th>\n",
       "    </tr>\n",
       "  </thead>\n",
       "  <tbody>\n",
       "    <tr>\n",
       "      <th>0</th>\n",
       "      <td>2020-04-26</td>\n",
       "      <td>Andaman and Nicobar Islands</td>\n",
       "      <td>Unknown</td>\n",
       "      <td>33</td>\n",
       "      <td>11</td>\n",
       "      <td>0</td>\n",
       "      <td>0</td>\n",
       "      <td>&lt;NA&gt;</td>\n",
       "    </tr>\n",
       "    <tr>\n",
       "      <th>1</th>\n",
       "      <td>2020-04-26</td>\n",
       "      <td>Andhra Pradesh</td>\n",
       "      <td>Anantapur</td>\n",
       "      <td>53</td>\n",
       "      <td>14</td>\n",
       "      <td>4</td>\n",
       "      <td>0</td>\n",
       "      <td>&lt;NA&gt;</td>\n",
       "    </tr>\n",
       "    <tr>\n",
       "      <th>2</th>\n",
       "      <td>2020-04-26</td>\n",
       "      <td>Andhra Pradesh</td>\n",
       "      <td>Chittoor</td>\n",
       "      <td>73</td>\n",
       "      <td>13</td>\n",
       "      <td>0</td>\n",
       "      <td>0</td>\n",
       "      <td>&lt;NA&gt;</td>\n",
       "    </tr>\n",
       "    <tr>\n",
       "      <th>3</th>\n",
       "      <td>2020-04-26</td>\n",
       "      <td>Andhra Pradesh</td>\n",
       "      <td>East Godavari</td>\n",
       "      <td>39</td>\n",
       "      <td>12</td>\n",
       "      <td>0</td>\n",
       "      <td>0</td>\n",
       "      <td>&lt;NA&gt;</td>\n",
       "    </tr>\n",
       "    <tr>\n",
       "      <th>4</th>\n",
       "      <td>2020-04-26</td>\n",
       "      <td>Andhra Pradesh</td>\n",
       "      <td>Guntur</td>\n",
       "      <td>214</td>\n",
       "      <td>29</td>\n",
       "      <td>8</td>\n",
       "      <td>0</td>\n",
       "      <td>&lt;NA&gt;</td>\n",
       "    </tr>\n",
       "  </tbody>\n",
       "</table>\n",
       "</div>"
      ],
      "text/plain": [
       "         Date                        State       District Confirmed Recovered  \\\n",
       "0  2020-04-26  Andaman and Nicobar Islands        Unknown        33        11   \n",
       "1  2020-04-26               Andhra Pradesh      Anantapur        53        14   \n",
       "2  2020-04-26               Andhra Pradesh       Chittoor        73        13   \n",
       "3  2020-04-26               Andhra Pradesh  East Godavari        39        12   \n",
       "4  2020-04-26               Andhra Pradesh         Guntur       214        29   \n",
       "\n",
       "  Deceased Other Tested  \n",
       "0        0     0   <NA>  \n",
       "1        4     0   <NA>  \n",
       "2        0     0   <NA>  \n",
       "3        0     0   <NA>  \n",
       "4        8     0   <NA>  "
      ]
     },
     "execution_count": 2,
     "metadata": {},
     "output_type": "execute_result"
    }
   ],
   "source": [
    "# Load the districts.csv file\n",
    "districts_cases = pd.read_csv('./dataset/districts.csv', dtype='string')\n",
    "districts_cases.head()"
   ]
  },
  {
   "cell_type": "markdown",
   "id": "cffc50d6",
   "metadata": {},
   "source": [
    "## (i) Drop the columns which are not required"
   ]
  },
  {
   "cell_type": "code",
   "execution_count": 3,
   "id": "afde2627",
   "metadata": {},
   "outputs": [
    {
     "data": {
      "text/html": [
       "<div>\n",
       "<style scoped>\n",
       "    .dataframe tbody tr th:only-of-type {\n",
       "        vertical-align: middle;\n",
       "    }\n",
       "\n",
       "    .dataframe tbody tr th {\n",
       "        vertical-align: top;\n",
       "    }\n",
       "\n",
       "    .dataframe thead th {\n",
       "        text-align: right;\n",
       "    }\n",
       "</style>\n",
       "<table border=\"1\" class=\"dataframe\">\n",
       "  <thead>\n",
       "    <tr style=\"text-align: right;\">\n",
       "      <th></th>\n",
       "      <th>Date</th>\n",
       "      <th>State</th>\n",
       "      <th>District</th>\n",
       "      <th>Confirmed</th>\n",
       "    </tr>\n",
       "  </thead>\n",
       "  <tbody>\n",
       "    <tr>\n",
       "      <th>0</th>\n",
       "      <td>2020-04-26</td>\n",
       "      <td>Andaman and Nicobar Islands</td>\n",
       "      <td>Unknown</td>\n",
       "      <td>33</td>\n",
       "    </tr>\n",
       "    <tr>\n",
       "      <th>1</th>\n",
       "      <td>2020-04-26</td>\n",
       "      <td>Andhra Pradesh</td>\n",
       "      <td>Anantapur</td>\n",
       "      <td>53</td>\n",
       "    </tr>\n",
       "    <tr>\n",
       "      <th>2</th>\n",
       "      <td>2020-04-26</td>\n",
       "      <td>Andhra Pradesh</td>\n",
       "      <td>Chittoor</td>\n",
       "      <td>73</td>\n",
       "    </tr>\n",
       "    <tr>\n",
       "      <th>3</th>\n",
       "      <td>2020-04-26</td>\n",
       "      <td>Andhra Pradesh</td>\n",
       "      <td>East Godavari</td>\n",
       "      <td>39</td>\n",
       "    </tr>\n",
       "    <tr>\n",
       "      <th>4</th>\n",
       "      <td>2020-04-26</td>\n",
       "      <td>Andhra Pradesh</td>\n",
       "      <td>Guntur</td>\n",
       "      <td>214</td>\n",
       "    </tr>\n",
       "  </tbody>\n",
       "</table>\n",
       "</div>"
      ],
      "text/plain": [
       "         Date                        State       District Confirmed\n",
       "0  2020-04-26  Andaman and Nicobar Islands        Unknown        33\n",
       "1  2020-04-26               Andhra Pradesh      Anantapur        53\n",
       "2  2020-04-26               Andhra Pradesh       Chittoor        73\n",
       "3  2020-04-26               Andhra Pradesh  East Godavari        39\n",
       "4  2020-04-26               Andhra Pradesh         Guntur       214"
      ]
     },
     "execution_count": 3,
     "metadata": {},
     "output_type": "execute_result"
    }
   ],
   "source": [
    "# delete the columns which are not required\n",
    "districts_cases.drop(['Recovered', 'Deceased', 'Other', 'Tested'], axis=1, inplace=True)\n",
    "districts_cases.head()"
   ]
  },
  {
   "cell_type": "markdown",
   "id": "5782397d",
   "metadata": {},
   "source": [
    "## (ii) Convert the 'Confirmed' column to numeric type"
   ]
  },
  {
   "cell_type": "code",
   "execution_count": 4,
   "id": "f575a6b9",
   "metadata": {
    "scrolled": true
   },
   "outputs": [
    {
     "name": "stdout",
     "output_type": "stream",
     "text": [
      "Date         string\n",
      "State        string\n",
      "District     string\n",
      "Confirmed     int64\n",
      "dtype: object\n"
     ]
    }
   ],
   "source": [
    "districts_cases['Confirmed'] = districts_cases['Confirmed'].apply(pd.to_numeric, errors='ignore')\n",
    "print(districts_cases.dtypes)"
   ]
  },
  {
   "cell_type": "markdown",
   "id": "72341793",
   "metadata": {},
   "source": [
    "# 3. Load the cleaned vaccination data (done in Q1)"
   ]
  },
  {
   "cell_type": "code",
   "execution_count": 5,
   "id": "ec765cdc",
   "metadata": {},
   "outputs": [
    {
     "name": "stdout",
     "output_type": "stream",
     "text": [
      "The datatypes of columns containing numeric values has been changed from string to numeric\n"
     ]
    }
   ],
   "source": [
    "# Load the cowin_vaccine_data_districtwise.csv\n",
    "cowin_vaccine_data_districtwise = pd.read_csv('./dataset/cowin_vaccine_data_districtwise_clean.csv', dtype='string')\n",
    "cowin_vaccine_data_districtwise.head()\n",
    "\n",
    "# convert number values columns to numeric\n",
    "cowin_vaccine_data_districtwise.iloc[:, 4:] = cowin_vaccine_data_districtwise.iloc[:, 4:].apply(\n",
    "                                                                    pd.to_numeric, errors='ignore')\n",
    "print('The datatypes of columns containing numeric values has been changed from string to numeric')"
   ]
  },
  {
   "cell_type": "markdown",
   "id": "5c96d408",
   "metadata": {},
   "source": [
    "# 4. Find the common district names between vaccine data and cases data"
   ]
  },
  {
   "cell_type": "code",
   "execution_count": 6,
   "id": "2f8a826e",
   "metadata": {},
   "outputs": [
    {
     "name": "stdout",
     "output_type": "stream",
     "text": [
      "Number of unique districts in vaccine data = 714\n",
      "Number of unique districts in cases data = 643\n",
      "There are 626 districts common between the vaccine data and cases data\n"
     ]
    }
   ],
   "source": [
    "# Find the unique district names in the vaccine data\n",
    "district_names_from_vaccine_data = cowin_vaccine_data_districtwise['District'].dropna().unique()\n",
    "district_names_from_vaccine_data = [district_names.lower() for district_names in district_names_from_vaccine_data]\n",
    "print('Number of unique districts in vaccine data =', len(district_names_from_vaccine_data))\n",
    "      \n",
    "# Find the unique district names from the districts cases data\n",
    "district_names_from_districts_cases = districts_cases['District'].dropna().unique()\n",
    "district_names_from_districts_cases = [district_name.lower() for district_name in district_names_from_districts_cases]\n",
    "print('Number of unique districts in cases data =', len(district_names_from_districts_cases))\n",
    "\n",
    "# find the common districts between the unique districts of cases data and vaccine data\n",
    "common_districts_vaccine_and_cases = set(district_names_from_districts_cases).intersection(district_names_from_vaccine_data)\n",
    "print('There are', len(common_districts_vaccine_and_cases), 'districts common between the vaccine data and cases data')"
   ]
  },
  {
   "cell_type": "markdown",
   "id": "2a4734d8",
   "metadata": {},
   "source": [
    "# 5. Prepare the output files\n",
    "\n",
    "1. The time period of analysis is from 15th March, 2020 to 14th August, 2021\n",
    "\n",
    "2. Prepare cases-overall.csv\n",
    "    - The file 'cases-overall.csv' will contain the the overall cases for each district.\n",
    "3. Prepare cases-month.csv\n",
    "    - The file 'cases-month.csv' will contain the the monthly cases for each district.\n",
    "    - A month starts on 15th and ends on 14th of next month.\n",
    "4. Prepare cases-week.csv\n",
    "    - The file 'cases-week.csv' will contain the the weekly cases for each district.\n",
    "    - A week starts on Sunday and ends on Saturday"
   ]
  },
  {
   "cell_type": "code",
   "execution_count": 7,
   "id": "8283b0b9",
   "metadata": {},
   "outputs": [],
   "source": [
    "def cases_between_time(data, start_date, end_date):\n",
    "    '''\n",
    "    Helper function to extract the number of cases that arise in a given duration.\n",
    "    Input: data, start_date, end_date\n",
    "    Output: cases in this duration\n",
    "    Logic: cases = cases on end_date - cases on the day before start_date\n",
    "    Note: The data is cumulative.\n",
    "    '''\n",
    "    # calculate the day before start date (will be useful since the data is cumulative)\n",
    "    day_before_start_date = start_date - datetime.timedelta(days=1)\n",
    "    # change date format to match the format in dataframe\n",
    "    start_date = start_date.strftime('%Y-%m-%d')\n",
    "    end_date = end_date.strftime('%Y-%m-%d')\n",
    "    day_before_start_date = day_before_start_date.strftime('%Y-%m-%d')\n",
    "    try:\n",
    "        cases_r = data[data['Date'] == end_date]['Confirmed'].values[0]\n",
    "    except:\n",
    "        # assign 0 if the data doesn't exist for that date\n",
    "        cases_r = 0\n",
    "    try:\n",
    "        cases_l = data[data['Date'] == day_before_start_date]['Confirmed'].values[0]\n",
    "    except:\n",
    "        # assign 0 if the data doesn't exist for that date\n",
    "        cases_l = 0\n",
    "    return cases_r - cases_l"
   ]
  },
  {
   "cell_type": "code",
   "execution_count": 8,
   "id": "beb7d6e3",
   "metadata": {},
   "outputs": [],
   "source": [
    "# Prepare a file for overall cases in each district\n",
    "# Total number of cases in a day = cases confirmed today - previous day cases\n",
    "cases_overall = pd.DataFrame(columns=['districtid', 'overallid', 'cases'])\n",
    "\n",
    "# Prepare a file for monthly cases in each district\n",
    "# First month is 15/03/2020-14/04/2020\n",
    "# Last month is 15/07/2021-14/08/2021\n",
    "# Total number of cases in a month = (cases on last date) - (cases on a day before first day)\n",
    "cases_month = pd.DataFrame(columns=['districtid', 'monthid', 'cases'])\n",
    "\n",
    "# Prepare a file for weekly cases in each district\n",
    "# First week is 15/03/2020-21/04/2020\n",
    "# Last week is 08/08/2021-14/08/2021\n",
    "# Total number of cases in a week = (cases on last date) - (cases on a day before first day)\n",
    "cases_week = pd.DataFrame(columns=['districtid', 'weekid', 'cases'])\n",
    "\n",
    "for district in list(common_districts_vaccine_and_cases):\n",
    "    \n",
    "    ##### Calculate overall cases #####\n",
    "    \n",
    "    # define start_date and end_date based on our time period of analysis\n",
    "    start_date = datetime.datetime.strptime('15/03/2020', '%d/%m/%Y')\n",
    "    end_date = datetime.datetime.strptime('14/08/2021', '%d/%m/%Y')\n",
    "    # change date format to match the format in dataframe\n",
    "    start_date = start_date.strftime('%Y-%m-%d')\n",
    "    end_date = end_date.strftime('%Y-%m-%d')\n",
    "    \n",
    "    # find the district_key for this district\n",
    "    district_key = cowin_vaccine_data_districtwise[cowin_vaccine_data_districtwise['District'].str.lower() == district]['District_Key'].values[0]\n",
    "\n",
    "    # find the data for this district\n",
    "    district_data = districts_cases[districts_cases['District'].str.lower() == district]\n",
    "    \n",
    "    # find the cases on the end_date\n",
    "    # (since the data is cumulative it gives the overall cases for that district)\n",
    "    cases = district_data[district_data['Date'] == end_date]['Confirmed'].values[0]\n",
    "    \n",
    "    # add the data to our dataframe and increment dataframe index\n",
    "    cases_overall.loc[-1] = [district_key, 'overall', cases]\n",
    "    cases_overall.index += 1\n",
    "    \n",
    "    ##### Calculate monthly cases #####\n",
    "    \n",
    "    # define start_date and end_date based on our time period of analysis\n",
    "    start_date = datetime.datetime.strptime('15/03/2020', '%d/%m/%Y')\n",
    "    end_date = datetime.datetime.strptime('14/08/2021', '%d/%m/%Y')\n",
    "    \n",
    "    # iterate from start_date to end_date with step size of one month\n",
    "    monthid = 1\n",
    "    while start_date < end_date:\n",
    "        # the current month ends on 14th of next month\n",
    "        month_end_date = start_date + relativedelta.relativedelta(months=1) - datetime.timedelta(days=1)\n",
    "        # calculate the cases for this month using a helper function we defined earlier\n",
    "        cases = cases_between_time(district_data, start_date, month_end_date)\n",
    "        # append data to the dataframe\n",
    "        cases_month.loc[-1] = [district_key, monthid, cases]\n",
    "        cases_month.index += 1\n",
    "        # update the start_date for the next month\n",
    "        start_date = month_end_date + datetime.timedelta(days=1)\n",
    "        monthid += 1\n",
    "    \n",
    "    ##### Calculate weekly cases #####\n",
    "    \n",
    "    # define start_date and end_date based on our time period of analysis\n",
    "    start_date = datetime.datetime.strptime('15/03/2020', '%d/%m/%Y')\n",
    "    end_date = datetime.datetime.strptime('14/08/2021', '%d/%m/%Y')\n",
    "    \n",
    "    # iterate from start_date to end_date with step size of one week\n",
    "    weekid = 1\n",
    "    while start_date < end_date:\n",
    "        # the current week ends on saturday (add 6 days to start_date)\n",
    "        week_end_date = start_date + datetime.timedelta(days=6)\n",
    "        # calculate the cases for this week using a helper function we defined earlier\n",
    "        cases = cases_between_time(district_data, start_date, week_end_date)\n",
    "        # append data to the dataframe\n",
    "        cases_week.loc[-1] = [district_key, weekid, cases]\n",
    "        cases_week.index += 1\n",
    "        # update the start_date for the next week\n",
    "        start_date = week_end_date + datetime.timedelta(days=1)\n",
    "        weekid += 1\n",
    "\n",
    "# dump the data to csv files\n",
    "cases_overall = cases_overall.sort_values('districtid')\n",
    "cases_month = cases_month.sort_values('districtid')\n",
    "cases_week = cases_week.sort_values('districtid')\n",
    "cases_overall.to_csv('./output/cases-overall.csv', index=False)\n",
    "cases_month.to_csv('./output/cases-month.csv', index=False)\n",
    "cases_week.to_csv('./output/cases-week.csv', index=False)"
   ]
  },
  {
   "cell_type": "markdown",
   "id": "b14ecf11",
   "metadata": {},
   "source": [
    "--------------------------------------------------------------------------------- END of Q3 ---------------------------------------------------------------------------------------------"
   ]
  }
 ],
 "metadata": {
  "kernelspec": {
   "display_name": "Python 3 (ipykernel)",
   "language": "python",
   "name": "python3"
  },
  "language_info": {
   "codemirror_mode": {
    "name": "ipython",
    "version": 3
   },
   "file_extension": ".py",
   "mimetype": "text/x-python",
   "name": "python",
   "nbconvert_exporter": "python",
   "pygments_lexer": "ipython3",
   "version": "3.9.6"
  }
 },
 "nbformat": 4,
 "nbformat_minor": 5
}
